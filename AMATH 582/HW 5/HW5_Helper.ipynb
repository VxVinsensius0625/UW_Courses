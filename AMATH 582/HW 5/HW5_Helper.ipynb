{
 "cells": [
  {
   "cell_type": "markdown",
   "metadata": {
    "id": "Uogs3JF8EO1F"
   },
   "source": [
    "Helper notebook for HW5, AMATH 582/482 Winter 2022."
   ]
  },
  {
   "cell_type": "code",
   "execution_count": 3,
   "metadata": {
    "id": "V6_pBc8GEUuE"
   },
   "outputs": [],
   "source": [
    "# Packages you will need \n",
    "\n",
    "import numpy as np\n",
    "import matplotlib.pyplot as plt\n",
    "#import cvxpy as cvx\n",
    "import skimage as ski\n",
    "\n",
    "import skimage.io\n",
    "import skimage.transform\n",
    "\n",
    "import scipy.fftpack as spfft # for discrete cosine transform \n",
    "\n",
    "# link Gdrive if using colab\n",
    "#from google.colab import drive\n",
    "#drive.mount('/content/drive')"
   ]
  },
  {
   "cell_type": "code",
   "execution_count": null,
   "metadata": {
    "id": "d_Sl0gpmEmV9"
   },
   "outputs": [],
   "source": [
    "# import image and rescale \n",
    "\n",
    "img_path = 'PATHTO/SonOfMan.png'\n",
    "\n",
    "# read image\n",
    "img_og = ski.io.imread(img_path)\n",
    "\n",
    "# convert to grayscale and visualize \n",
    "img_og = ski.color.rgb2gray(img_og)\n",
    "\n",
    "fig, ax = plt.subplots(1, 2, figsize=(20,10))\n",
    "ax[0].imshow(img_og, cmap = 'gray')\n",
    "ax[0].set_title(\"Original image\")\n",
    "\n",
    "print(\"Original size: \", img_og.shape)\n",
    "\n",
    "# resize image \n",
    "img = ski.transform.rescale( img_og, 0.18, anti_aliasing=False)\n",
    "\n",
    "print(\"Rescaled size: \", img.shape)\n",
    "\n",
    "ax[1].imshow(img, cmap='gray')\n",
    "ax[1].set_title(\"Rescaled image\")"
   ]
  },
  {
   "cell_type": "code",
   "execution_count": null,
   "metadata": {
    "id": "oRQNIYQDE5vu"
   },
   "outputs": [],
   "source": [
    "# constrauct forward and inverse DCT matrices \n",
    "\n",
    "# construct DCT matrix\n",
    "def construct_DCT_Mat( Nx, Ny ):\n",
    "\n",
    "  # input : Nx number of columns of image \n",
    "  #         Ny number of rows of image \n",
    "\n",
    "  # output: D DCT matrix mapping image.flatten() to \n",
    "  #         DCT(image).flatten()\n",
    "\n",
    "  Dx = spfft.dct(np.eye(Nx), axis =0, norm='ortho')\n",
    "\n",
    "  Dy = spfft.dct(np.eye(Ny), axis = 0, norm='ortho')\n",
    "\n",
    "  D = np.kron(Dy, Dx)\n",
    "\n",
    "  return D\n",
    "\n",
    "# construct inverse DCT matrix\n",
    "def construct_iDCT_Mat( Nx, Ny ):\n",
    "\n",
    "  # input : Nx number of columns of image \n",
    "  #         Ny number of rows of image \n",
    "\n",
    "  # output: iD iDCT matrix mapping DCT(image).flatten() to \n",
    "  #         image.flatten()\n",
    "\n",
    "  Dx = spfft.idct(np.eye(Nx), axis =0, norm='ortho')\n",
    "\n",
    "  Dy = spfft.idct(np.eye(Ny), axis = 0, norm = 'ortho')\n",
    "\n",
    "  D = np.kron(Dy, Dx)\n",
    "\n",
    "  return D"
   ]
  }
 ],
 "metadata": {
  "colab": {
   "name": "HW5-Helper.ipynb",
   "provenance": []
  },
  "kernelspec": {
   "display_name": "Python 3",
   "language": "python",
   "name": "python3"
  },
  "language_info": {
   "codemirror_mode": {
    "name": "ipython",
    "version": 3
   },
   "file_extension": ".py",
   "mimetype": "text/x-python",
   "name": "python",
   "nbconvert_exporter": "python",
   "pygments_lexer": "ipython3",
   "version": "3.8.5"
  }
 },
 "nbformat": 4,
 "nbformat_minor": 1
}
