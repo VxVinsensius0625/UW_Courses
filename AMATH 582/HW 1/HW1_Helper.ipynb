{
  "nbformat": 4,
  "nbformat_minor": 0,
  "metadata": {
    "colab": {
      "name": "HW1-Helper.ipynb",
      "provenance": [],
      "collapsed_sections": []
    },
    "kernelspec": {
      "name": "python3",
      "display_name": "Python 3"
    },
    "language_info": {
      "name": "python"
    }
  },
  "cells": [
    {
      "cell_type": "markdown",
      "source": [
        "The following code helps you visualize the submarine data and contains the crucial information about the data such as size of measurement domain, number of grid points and frequency modes etc. \n",
        "\n",
        "Our first task is to import the data into python (similarly MATLAB). Three files are available, \"subdata.npy\" is a numpy binary file most conveninet for Python users. \"subtata.mat\" is best if you plan to use MATLAB and \"subdata.csv\" is the same data in text format if you are having trouble with the other formats. In MATLAB you can simply use the load command. In Python, and in particular if you are using something like Colab you need some utilities to load the data. Here's a small snippet for loading data from your Google drive.   "
      ],
      "metadata": {
        "id": "-4kXuzBqLvMG"
      }
    },
    {
      "cell_type": "code",
      "source": [
        "from google.colab import drive\n",
        "\n",
        "# the following command loads up your google drive. It will promp you to give Colab access to your Gdrive\n",
        "drive.mount('/content/drive')"
      ],
      "metadata": {
        "colab": {
          "base_uri": "https://localhost:8080/"
        },
        "id": "VIjdEWmuMBPE",
        "outputId": "eb6883a7-1107-448d-c549-de45215f9e33"
      },
      "execution_count": null,
      "outputs": [
        {
          "output_type": "stream",
          "name": "stdout",
          "text": [
            "Mounted at /content/drive\n"
          ]
        }
      ]
    },
    {
      "cell_type": "code",
      "source": [
        "import numpy as np\n",
        "\n",
        "data_path = '/content/drive/Your_Path_to_directory/subdata.npy'\n",
        "\n",
        "d = np.load(data_path) # huge matrix of size 262144 x 49 (columns contain flattened 3d matrix of size 64x64x64)"
      ],
      "metadata": {
        "id": "BOe36HdNMt3m",
        "outputId": "aa4c1e37-0860-427d-f79a-f4c3b460b139",
        "colab": {
          "base_uri": "https://localhost:8080/",
          "height": 324
        }
      },
      "execution_count": null,
      "outputs": [
        {
          "output_type": "error",
          "ename": "FileNotFoundError",
          "evalue": "ignored",
          "traceback": [
            "\u001b[0;31m---------------------------------------------------------------------------\u001b[0m",
            "\u001b[0;31mFileNotFoundError\u001b[0m                         Traceback (most recent call last)",
            "\u001b[0;32m<ipython-input-2-501e084d6da6>\u001b[0m in \u001b[0;36m<module>\u001b[0;34m()\u001b[0m\n\u001b[1;32m      3\u001b[0m \u001b[0mdata_path\u001b[0m \u001b[0;34m=\u001b[0m \u001b[0;34m'/content/drive/Your_Path_to_directory/subdata.npy'\u001b[0m\u001b[0;34m\u001b[0m\u001b[0;34m\u001b[0m\u001b[0m\n\u001b[1;32m      4\u001b[0m \u001b[0;34m\u001b[0m\u001b[0m\n\u001b[0;32m----> 5\u001b[0;31m \u001b[0md\u001b[0m \u001b[0;34m=\u001b[0m \u001b[0mnp\u001b[0m\u001b[0;34m.\u001b[0m\u001b[0mload\u001b[0m\u001b[0;34m(\u001b[0m\u001b[0mdata_path\u001b[0m\u001b[0;34m)\u001b[0m \u001b[0;31m# huge matrix of size 262144 x 49 (columns contain flattened 3d matrix of size 64x64x64)\u001b[0m\u001b[0;34m\u001b[0m\u001b[0;34m\u001b[0m\u001b[0m\n\u001b[0m",
            "\u001b[0;32m/usr/local/lib/python3.7/dist-packages/numpy/lib/npyio.py\u001b[0m in \u001b[0;36mload\u001b[0;34m(file, mmap_mode, allow_pickle, fix_imports, encoding)\u001b[0m\n\u001b[1;32m    414\u001b[0m             \u001b[0mown_fid\u001b[0m \u001b[0;34m=\u001b[0m \u001b[0;32mFalse\u001b[0m\u001b[0;34m\u001b[0m\u001b[0;34m\u001b[0m\u001b[0m\n\u001b[1;32m    415\u001b[0m         \u001b[0;32melse\u001b[0m\u001b[0;34m:\u001b[0m\u001b[0;34m\u001b[0m\u001b[0;34m\u001b[0m\u001b[0m\n\u001b[0;32m--> 416\u001b[0;31m             \u001b[0mfid\u001b[0m \u001b[0;34m=\u001b[0m \u001b[0mstack\u001b[0m\u001b[0;34m.\u001b[0m\u001b[0menter_context\u001b[0m\u001b[0;34m(\u001b[0m\u001b[0mopen\u001b[0m\u001b[0;34m(\u001b[0m\u001b[0mos_fspath\u001b[0m\u001b[0;34m(\u001b[0m\u001b[0mfile\u001b[0m\u001b[0;34m)\u001b[0m\u001b[0;34m,\u001b[0m \u001b[0;34m\"rb\"\u001b[0m\u001b[0;34m)\u001b[0m\u001b[0;34m)\u001b[0m\u001b[0;34m\u001b[0m\u001b[0;34m\u001b[0m\u001b[0m\n\u001b[0m\u001b[1;32m    417\u001b[0m             \u001b[0mown_fid\u001b[0m \u001b[0;34m=\u001b[0m \u001b[0;32mTrue\u001b[0m\u001b[0;34m\u001b[0m\u001b[0;34m\u001b[0m\u001b[0m\n\u001b[1;32m    418\u001b[0m \u001b[0;34m\u001b[0m\u001b[0m\n",
            "\u001b[0;31mFileNotFoundError\u001b[0m: [Errno 2] No such file or directory: '/content/drive/Your_Path_to_directory/subdata.npy'"
          ]
        }
      ]
    },
    {
      "cell_type": "code",
      "source": [
        "# import libraries for plotting isosurfaces\n",
        "import plotly\n",
        "import plotly.graph_objs as go\n",
        "# utility for clearing output of cell as loop runs in notebook\n",
        "from IPython.display import clear_output\n",
        "\n",
        "# plot the data in time \n",
        "\n",
        "L = 10; # length of spatial domain (cube of side L = 2*10)\n",
        "N_grid = 64; # number of grid points/Fourier modes in each direction\n",
        "xx = np.linspace(-L, L, N_grid+1) #spatial grid in x dir\n",
        "x = xx[0:N_grid]\n",
        "y = x # same grid in y,z direction\n",
        "z = x\n",
        "\n",
        "K_grid = (2*np.pi/(2*L))*np.linspace(-N_grid/2, N_grid/2 -1, N_grid) # frequency grid for one coordinate\n",
        "\n",
        "xv, yv, zv = np.meshgrid( x, y, z) # generate 3D meshgrid for plotting\n",
        "\n",
        "# plot iso surfaces for every third measurement\n",
        "\n",
        "for j in range(0,49,3):\n",
        "\n",
        "  signal = np.reshape(d[:, j], (N_grid, N_grid, N_grid))\n",
        "  normal_sig_abs = np.abs(signal)/np.abs(signal).max()\n",
        "\n",
        "  # generate data for isosurface of the 3D data \n",
        "  fig_data = go.Isosurface( x = xv.flatten(), y = yv.flatten(), z = zv.flatten(),\n",
        "                           value = normal_sig_abs.flatten(), isomin=0.7, isomax=0.7)\n",
        "\n",
        "  # generate plots\n",
        "  clear_output(wait=True) # need this to discard previous figs\n",
        "  fig = go.Figure( data = fig_data )\n",
        "  fig.show()\n"
      ],
      "metadata": {
        "id": "emT9BsqnM76-"
      },
      "execution_count": null,
      "outputs": []
    }
  ]
}