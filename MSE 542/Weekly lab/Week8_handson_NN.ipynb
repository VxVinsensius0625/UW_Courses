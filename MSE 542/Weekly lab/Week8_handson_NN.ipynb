{
 "cells": [
  {
   "cell_type": "code",
   "execution_count": 1,
   "metadata": {},
   "outputs": [],
   "source": [
    "from tensorflow import keras\n",
    "\n",
    "from tensorflow.keras.models import Sequential\n",
    "from tensorflow.keras.layers import Dense\n",
    "from tensorflow.keras.wrappers.scikit_learn import KerasRegressor\n",
    "\n",
    "import matplotlib.pyplot as plt\n",
    "import numpy as np\n",
    "import pandas as pd\n",
    "\n",
    "from sklearn.model_selection import train_test_split\n",
    "from sklearn.preprocessing import StandardScaler\n",
    "from sklearn.pipeline import Pipeline\n",
    "\n",
    "%matplotlib inline\n",
    "import numpy as np\n",
    "import tensorflow as tf\n",
    "import random as python_random\n",
    "np.random.seed(123)\n",
    "python_random.seed(123)\n",
    "tf.random.set_seed(123)"
   ]
  },
  {
   "cell_type": "markdown",
   "metadata": {},
   "source": [
    "## Neural Network\n",
    "\n",
    "In this notebook, we will work with the qm7b data."
   ]
  },
  {
   "cell_type": "code",
   "execution_count": 2,
   "metadata": {},
   "outputs": [
    {
     "data": {
      "text/html": [
       "<div>\n",
       "<style scoped>\n",
       "    .dataframe tbody tr th:only-of-type {\n",
       "        vertical-align: middle;\n",
       "    }\n",
       "\n",
       "    .dataframe tbody tr th {\n",
       "        vertical-align: top;\n",
       "    }\n",
       "\n",
       "    .dataframe thead th {\n",
       "        text-align: right;\n",
       "    }\n",
       "</style>\n",
       "<table border=\"1\" class=\"dataframe\">\n",
       "  <thead>\n",
       "    <tr style=\"text-align: right;\">\n",
       "      <th></th>\n",
       "      <th>id</th>\n",
       "      <th>ae_pbe0</th>\n",
       "      <th>emax_zindo</th>\n",
       "      <th>imax_zindo</th>\n",
       "      <th>homo_zindo</th>\n",
       "      <th>lumo_zindo</th>\n",
       "      <th>e1_zindo</th>\n",
       "      <th>ip_zindo</th>\n",
       "      <th>ea_zindo</th>\n",
       "      <th>homo_pbe0</th>\n",
       "      <th>...</th>\n",
       "      <th>homo_gw</th>\n",
       "      <th>lumo_gw</th>\n",
       "      <th>p_pbe0</th>\n",
       "      <th>p_scs</th>\n",
       "      <th>n_H</th>\n",
       "      <th>n_C</th>\n",
       "      <th>n_N</th>\n",
       "      <th>n_O</th>\n",
       "      <th>n_S</th>\n",
       "      <th>n_Cl</th>\n",
       "    </tr>\n",
       "  </thead>\n",
       "  <tbody>\n",
       "    <tr>\n",
       "      <th>0</th>\n",
       "      <td>1</td>\n",
       "      <td>-420.933746</td>\n",
       "      <td>39.694626</td>\n",
       "      <td>0.621841</td>\n",
       "      <td>-16.013</td>\n",
       "      <td>4.162</td>\n",
       "      <td>36.768073</td>\n",
       "      <td>15.72523</td>\n",
       "      <td>-3.98613</td>\n",
       "      <td>-10.9488</td>\n",
       "      <td>...</td>\n",
       "      <td>-14.1341</td>\n",
       "      <td>1.0870</td>\n",
       "      <td>2.534576</td>\n",
       "      <td>2.43222</td>\n",
       "      <td>4</td>\n",
       "      <td>1</td>\n",
       "      <td>0</td>\n",
       "      <td>0</td>\n",
       "      <td>0</td>\n",
       "      <td>0</td>\n",
       "    </tr>\n",
       "    <tr>\n",
       "      <th>1</th>\n",
       "      <td>2</td>\n",
       "      <td>-718.419189</td>\n",
       "      <td>22.622486</td>\n",
       "      <td>0.628328</td>\n",
       "      <td>-13.549</td>\n",
       "      <td>3.684</td>\n",
       "      <td>11.717433</td>\n",
       "      <td>13.41121</td>\n",
       "      <td>-3.49181</td>\n",
       "      <td>-9.5577</td>\n",
       "      <td>...</td>\n",
       "      <td>-12.5472</td>\n",
       "      <td>1.1186</td>\n",
       "      <td>4.332028</td>\n",
       "      <td>4.44500</td>\n",
       "      <td>6</td>\n",
       "      <td>2</td>\n",
       "      <td>0</td>\n",
       "      <td>0</td>\n",
       "      <td>0</td>\n",
       "      <td>0</td>\n",
       "    </tr>\n",
       "    <tr>\n",
       "      <th>2</th>\n",
       "      <td>3</td>\n",
       "      <td>-570.024841</td>\n",
       "      <td>22.940671</td>\n",
       "      <td>0.709060</td>\n",
       "      <td>-10.160</td>\n",
       "      <td>1.231</td>\n",
       "      <td>7.137266</td>\n",
       "      <td>9.75211</td>\n",
       "      <td>-0.82042</td>\n",
       "      <td>-7.8768</td>\n",
       "      <td>...</td>\n",
       "      <td>-10.4383</td>\n",
       "      <td>1.9456</td>\n",
       "      <td>4.173282</td>\n",
       "      <td>3.92308</td>\n",
       "      <td>4</td>\n",
       "      <td>2</td>\n",
       "      <td>0</td>\n",
       "      <td>0</td>\n",
       "      <td>0</td>\n",
       "      <td>0</td>\n",
       "    </tr>\n",
       "    <tr>\n",
       "      <th>3</th>\n",
       "      <td>4</td>\n",
       "      <td>-410.286163</td>\n",
       "      <td>15.973798</td>\n",
       "      <td>2.228480</td>\n",
       "      <td>-10.706</td>\n",
       "      <td>2.145</td>\n",
       "      <td>4.624107</td>\n",
       "      <td>10.46577</td>\n",
       "      <td>-1.89847</td>\n",
       "      <td>-8.4021</td>\n",
       "      <td>...</td>\n",
       "      <td>-11.1629</td>\n",
       "      <td>1.1958</td>\n",
       "      <td>3.512394</td>\n",
       "      <td>3.32175</td>\n",
       "      <td>2</td>\n",
       "      <td>2</td>\n",
       "      <td>0</td>\n",
       "      <td>0</td>\n",
       "      <td>0</td>\n",
       "      <td>0</td>\n",
       "    </tr>\n",
       "    <tr>\n",
       "      <th>4</th>\n",
       "      <td>5</td>\n",
       "      <td>-868.855408</td>\n",
       "      <td>17.900516</td>\n",
       "      <td>0.556174</td>\n",
       "      <td>-12.365</td>\n",
       "      <td>3.825</td>\n",
       "      <td>10.311655</td>\n",
       "      <td>11.96491</td>\n",
       "      <td>-3.57487</td>\n",
       "      <td>-8.3534</td>\n",
       "      <td>...</td>\n",
       "      <td>-10.8132</td>\n",
       "      <td>1.2002</td>\n",
       "      <td>5.480160</td>\n",
       "      <td>5.78632</td>\n",
       "      <td>6</td>\n",
       "      <td>3</td>\n",
       "      <td>0</td>\n",
       "      <td>0</td>\n",
       "      <td>0</td>\n",
       "      <td>0</td>\n",
       "    </tr>\n",
       "  </tbody>\n",
       "</table>\n",
       "<p>5 rows × 21 columns</p>\n",
       "</div>"
      ],
      "text/plain": [
       "   id     ae_pbe0  emax_zindo  imax_zindo  homo_zindo  lumo_zindo   e1_zindo  \\\n",
       "0   1 -420.933746   39.694626    0.621841     -16.013       4.162  36.768073   \n",
       "1   2 -718.419189   22.622486    0.628328     -13.549       3.684  11.717433   \n",
       "2   3 -570.024841   22.940671    0.709060     -10.160       1.231   7.137266   \n",
       "3   4 -410.286163   15.973798    2.228480     -10.706       2.145   4.624107   \n",
       "4   5 -868.855408   17.900516    0.556174     -12.365       3.825  10.311655   \n",
       "\n",
       "   ip_zindo  ea_zindo  homo_pbe0  ...  homo_gw  lumo_gw    p_pbe0    p_scs  \\\n",
       "0  15.72523  -3.98613   -10.9488  ... -14.1341   1.0870  2.534576  2.43222   \n",
       "1  13.41121  -3.49181    -9.5577  ... -12.5472   1.1186  4.332028  4.44500   \n",
       "2   9.75211  -0.82042    -7.8768  ... -10.4383   1.9456  4.173282  3.92308   \n",
       "3  10.46577  -1.89847    -8.4021  ... -11.1629   1.1958  3.512394  3.32175   \n",
       "4  11.96491  -3.57487    -8.3534  ... -10.8132   1.2002  5.480160  5.78632   \n",
       "\n",
       "   n_H  n_C  n_N  n_O  n_S  n_Cl  \n",
       "0    4    1    0    0    0     0  \n",
       "1    6    2    0    0    0     0  \n",
       "2    4    2    0    0    0     0  \n",
       "3    2    2    0    0    0     0  \n",
       "4    6    3    0    0    0     0  \n",
       "\n",
       "[5 rows x 21 columns]"
      ]
     },
     "execution_count": 2,
     "metadata": {},
     "output_type": "execute_result"
    }
   ],
   "source": [
    "qm7b = pd.read_csv('http://faculty.washington.edu/tingcao/wordpress/wp-content/uploads/2020/10/qm7b.csv');\n",
    "qm7b.head()"
   ]
  },
  {
   "cell_type": "markdown",
   "metadata": {},
   "source": [
    "Let our predictors be 'homo_zindo', 'lumo_zindo', target be 'e1_zindo' (first excitation energy).\n",
    "\n",
    "Do the train-test splitting first."
   ]
  },
  {
   "cell_type": "code",
   "execution_count": 3,
   "metadata": {},
   "outputs": [],
   "source": [
    "x = qm7b[['homo_zindo', 'lumo_zindo']].values\n",
    "y = qm7b['e1_zindo'].values\n",
    "x_train, x_test, y_train, y_test = train_test_split(x, y,\n",
    "                                                    test_size=0.20)"
   ]
  },
  {
   "cell_type": "code",
   "execution_count": 4,
   "metadata": {},
   "outputs": [
    {
     "data": {
      "text/plain": [
       "1.516286787"
      ]
     },
     "execution_count": 4,
     "metadata": {},
     "output_type": "execute_result"
    }
   ],
   "source": [
    "np.min(y)"
   ]
  },
  {
   "cell_type": "code",
   "execution_count": 5,
   "metadata": {},
   "outputs": [
    {
     "data": {
      "text/plain": [
       "36.7680730972"
      ]
     },
     "execution_count": 5,
     "metadata": {},
     "output_type": "execute_result"
    }
   ],
   "source": [
    "np.max(y)"
   ]
  },
  {
   "cell_type": "code",
   "execution_count": 6,
   "metadata": {},
   "outputs": [
    {
     "data": {
      "text/plain": [
       "(5768, 2)"
      ]
     },
     "execution_count": 6,
     "metadata": {},
     "output_type": "execute_result"
    }
   ],
   "source": [
    "x_train.shape"
   ]
  },
  {
   "cell_type": "markdown",
   "metadata": {},
   "source": [
    "## Data Standardization\n",
    "\n",
    "The `StandardScaler` standardize the data by: $X_i = \\frac{X_i - \\mu _i}{\\sigma _i}$,\n",
    "\n",
    "$X_i$ is the $i$-th feature, $\\mu_i$ is the mean value of the feature $i$ in the training data, $\\sigma_i$ is the variance of the feature $i$ in the training data."
   ]
  },
  {
   "cell_type": "code",
   "execution_count": 7,
   "metadata": {},
   "outputs": [],
   "source": [
    "scaler = StandardScaler().fit(x_train)\n",
    "x_train_norm = scaler.transform(x_train)\n",
    "x_test_norm = scaler.transform(x_test)"
   ]
  },
  {
   "cell_type": "markdown",
   "metadata": {},
   "source": [
    "Histogram before normalization:"
   ]
  },
  {
   "cell_type": "code",
   "execution_count": 8,
   "metadata": {},
   "outputs": [
    {
     "data": {
      "text/plain": [
       "(array([ 15.,  53., 137., 266., 271., 285.,  48.,  73., 261.,  34.]),\n",
       " array([-2.084 , -1.4923, -0.9006, -0.3089,  0.2828,  0.8745,  1.4662,\n",
       "         2.0579,  2.6496,  3.2413,  3.833 ]),\n",
       " <BarContainer object of 10 artists>)"
      ]
     },
     "execution_count": 8,
     "metadata": {},
     "output_type": "execute_result"
    },
    {
     "data": {
      "image/png": "[encoded data removed]",
      "text/plain": [
       "<Figure size 432x288 with 1 Axes>"
      ]
     },
     "metadata": {
      "needs_background": "light"
     },
     "output_type": "display_data"
    }
   ],
   "source": [
    "plt.hist(x_test[:,0])\n",
    "plt.hist(x_test[:,1])"
   ]
  },
  {
   "cell_type": "markdown",
   "metadata": {},
   "source": [
    "Histogram after normalization:"
   ]
  },
  {
   "cell_type": "code",
   "execution_count": 9,
   "metadata": {},
   "outputs": [
    {
     "data": {
      "text/plain": [
       "(array([ 15.,  53., 137., 266., 271., 285.,  48.,  73., 261.,  34.]),\n",
       " array([-2.39842629, -1.94652113, -1.49461598, -1.04271082, -0.59080566,\n",
       "        -0.13890051,  0.31300465,  0.76490981,  1.21681496,  1.66872012,\n",
       "         2.12062528]),\n",
       " <BarContainer object of 10 artists>)"
      ]
     },
     "execution_count": 9,
     "metadata": {},
     "output_type": "execute_result"
    },
    {
     "data": {
      "image/png": "[encoded data removed]",
      "text/plain": [
       "<Figure size 432x288 with 1 Axes>"
      ]
     },
     "metadata": {
      "needs_background": "light"
     },
     "output_type": "display_data"
    }
   ],
   "source": [
    "plt.hist(x_test_norm[:,0])\n",
    "plt.hist(x_test_norm[:,1])"
   ]
  },
  {
   "cell_type": "markdown",
   "metadata": {},
   "source": [
    "## Train and test neural network\n",
    "\n",
    "We construct a neural network model with one input layer, one hidden layer and one output layer, and wrap it in a function.\n",
    "\n",
    "The picture below illustrates the structure of neural network:\n",
    "\n",
    "<img width=\"512\" alt=\"NN\" src=\"https://www.astroml.org/_images/fig_neural_network_1.png\"></a>\n",
    "\n",
    "\n",
    "Here we set each layer in the neural network to be `dense` layer. A `Dense` function implements the operation: `output = activation(dot(input, kernel) + bias)` \n",
    "\n",
    "where `activation` is the element-wise activation function passed as the activation argument (shown as $f(),g()$ in the picture), `kernel` is a weights matrix created by the layer (shown as $w_{ij}, w_{jk}$ in the picture), and `bias` is a bias vector created by the layer (shown as $b_j,b_k$ in the picture).\n"
   ]
  },
  {
   "cell_type": "code",
   "execution_count": 10,
   "metadata": {},
   "outputs": [],
   "source": [
    "#Define a neural network model, and wrap this model in a function\n",
    "def nnmodel1():\n",
    "    model = Sequential()\n",
    "    model.add(Dense(2, input_dim=x_train_norm.shape[1], kernel_initializer='normal', activation='relu'))\n",
    "    model.add(Dense(10, kernel_initializer='normal', activation='relu'))\n",
    "    model.add(Dense(1, kernel_initializer='normal'))\n",
    "    model.compile(loss='mean_squared_error', optimizer='adam')\n",
    "    return model"
   ]
  },
  {
   "cell_type": "markdown",
   "metadata": {},
   "source": [
    "After we define the neural network model, we will need to train it.\n",
    "\n",
    "* `epochs`: specify the number of epochs. In each epoch, ALL the training data will be propagated through the network once.\n",
    "* `batch_size`: the number of samples that will be propagated through the network in a batch. The weights in the network will be updated after each batch (this might depend the optimization algorithm you choose).\n",
    "* `validation_split`: split the given ratio of training data into validation data, the rest is training data. Note that only the training data will be used to train the model, the validation data is just used for evaluate the accuracy of the model after each epoch. \n",
    "\n",
    "The overall process of training:\n",
    "\n",
    "    For each epoch:\n",
    "        For each batch:\n",
    "            For each training data in the batch:\n",
    "                propagate through the network\n",
    "            Update the weights\n",
    "            Get the accuracy of training dataset\n",
    "        For each validation data in the batch:\n",
    "            Get the accuracy of validation dataset\n",
    "            "
   ]
  },
  {
   "cell_type": "code",
   "execution_count": 11,
   "metadata": {},
   "outputs": [
    {
     "name": "stderr",
     "output_type": "stream",
     "text": [
      "2022-11-20 21:26:27.371554: I tensorflow/core/platform/cpu_feature_guard.cc:142] This TensorFlow binary is optimized with oneAPI Deep Neural Network Library (oneDNN) to use the following CPU instructions in performance-critical operations:  SSE4.1 SSE4.2 AVX AVX2 FMA\n",
      "To enable them in other operations, rebuild TensorFlow with the appropriate compiler flags.\n",
      "2022-11-20 21:26:27.461319: I tensorflow/compiler/mlir/mlir_graph_optimization_pass.cc:116] None of the MLIR optimization passes are enabled (registered 2)\n",
      "2022-11-20 21:26:27.462144: I tensorflow/core/platform/profile_utils/cpu_utils.cc:112] CPU Frequency: 2199995000 Hz\n"
     ]
    }
   ],
   "source": [
    "estimator = KerasRegressor(build_fn=nnmodel1) #nnmodel1 is the neural network model we defined above\n",
    "history = estimator.fit(x_train_norm, y_train, validation_split=0.33, epochs=20, batch_size=32, verbose=0)"
   ]
  },
  {
   "cell_type": "markdown",
   "metadata": {},
   "source": [
    "After we train the model, we can plot the train and validation error in each epoch of training. This plot is called `learning curve`."
   ]
  },
  {
   "cell_type": "code",
   "execution_count": 12,
   "metadata": {},
   "outputs": [
    {
     "data": {
      "image/png": "[encoded data removed]",
      "text/plain": [
       "<Figure size 432x288 with 1 Axes>"
      ]
     },
     "metadata": {
      "needs_background": "light"
     },
     "output_type": "display_data"
    }
   ],
   "source": [
    "plt.plot(range(20),history.history['loss'])\n",
    "plt.plot(range(20),history.history['val_loss'])\n",
    "plt.title('Learning Curves')\n",
    "plt.ylabel('loss')\n",
    "plt.xlabel('epoch') \n",
    "plt.legend(['train', 'validation'], loc='upper right')\n",
    "plt.grid()\n",
    "plt.show()"
   ]
  },
  {
   "cell_type": "markdown",
   "metadata": {},
   "source": [
    "The learning curve can be used to diagnose if the model is `Good fit`,`Under fit` or `Over fit`. It can indicate a `Good fit` if the training curve decreases to a point of stability and have a stable gap with the validation curve. A `Over fit` can be inferred if the training curve constantly decreases while the validation curve remains flat or even increases. A `Under fit` can be identified if the training curve is decreasing and continues to decrease at the end of the training process."
   ]
  },
  {
   "cell_type": "code",
   "execution_count": 13,
   "metadata": {},
   "outputs": [
    {
     "name": "stdout",
     "output_type": "stream",
     "text": [
      "final MSE for train is 0.91 and for validation is 0.80\n"
     ]
    }
   ],
   "source": [
    "print(\"final MSE for train is %.2f and for validation is %.2f\" % \n",
    "      (history.history['loss'][-1], history.history['val_loss'][-1]))"
   ]
  },
  {
   "cell_type": "markdown",
   "metadata": {},
   "source": [
    "Test the neural network:"
   ]
  },
  {
   "cell_type": "code",
   "execution_count": 14,
   "metadata": {},
   "outputs": [
    {
     "name": "stdout",
     "output_type": "stream",
     "text": [
      "46/46 [==============================] - 0s 668us/step - loss: 0.7532\n",
      "test set mse is 0.75\n"
     ]
    }
   ],
   "source": [
    "test_loss = estimator.model.evaluate(x_test_norm, y_test)\n",
    "print(\"test set mse is %.2f\" % test_loss)"
   ]
  },
  {
   "cell_type": "markdown",
   "metadata": {},
   "source": [
    "Predict with the neural network:"
   ]
  },
  {
   "cell_type": "code",
   "execution_count": 15,
   "metadata": {},
   "outputs": [],
   "source": [
    "y_test_predict = estimator.predict(x_test_norm)"
   ]
  },
  {
   "cell_type": "code",
   "execution_count": 16,
   "metadata": {},
   "outputs": [
    {
     "data": {
      "image/png": "[encoded data removed]",
      "text/plain": [
       "<Figure size 432x288 with 1 Axes>"
      ]
     },
     "metadata": {
      "needs_background": "light"
     },
     "output_type": "display_data"
    }
   ],
   "source": [
    "plt.scatter(y_test, y_test_predict)\n",
    "plt.xlabel(\"True value of test data\")\n",
    "plt.ylabel(\"Predicted value of test data\")\n",
    "plt.plot(np.arange(min(y_test),max(y_test),0.01),np.arange(min(y_test),max(y_test),0.01),c='orange')\n",
    "plt.grid()"
   ]
  },
  {
   "cell_type": "markdown",
   "metadata": {},
   "source": [
    "## Tune the neural network\n",
    "\n",
    "### Tune the activation function\n",
    "\n",
    "Three types of activation functions `ReLu` `Sigmoid` and `Tanh` are plotted below. By using different activation functions in different layers, you could allow the model to have more complex mappings between the inputs and outputs.\n",
    "\n",
    "A full list of available activation functions in Keras can be found here: https://keras.io/api/layers/activations/ .\n",
    "\n",
    "In our example, you can set the activation function of each layer by the parameter `activation` in the `Dense()` function. "
   ]
  },
  {
   "cell_type": "code",
   "execution_count": 17,
   "metadata": {},
   "outputs": [
    {
     "data": {
      "text/plain": [
       "(-5.0, 5.0, -1.2, 1.2)"
      ]
     },
     "execution_count": 17,
     "metadata": {},
     "output_type": "execute_result"
    },
    {
     "data": {
      "image/png": "[encoded data removed]",
      "text/plain": [
       "<Figure size 432x288 with 1 Axes>"
      ]
     },
     "metadata": {
      "needs_background": "light"
     },
     "output_type": "display_data"
    }
   ],
   "source": [
    "def sigmoid(z):\n",
    "    return 1 / (1 + np.exp(-z))\n",
    "\n",
    "def relu(z):\n",
    "    return np.maximum(0, z)\n",
    "\n",
    "z = np.linspace(-5, 5, 200)\n",
    "plt.plot(z, sigmoid(z), \"g--\", linewidth=2, label=\"Sigmoid\")\n",
    "plt.plot(z, np.tanh(z), \"b-\", linewidth=2, label=\"Tanh\")\n",
    "plt.plot(z, relu(z), \"m-.\", linewidth=2, label=\"ReLU\")\n",
    "\n",
    "plt.grid(True)\n",
    "plt.legend(loc=\"center right\", fontsize=14)\n",
    "plt.title(\"Activation functions\", fontsize=14)\n",
    "plt.axis([-5, 5, -1.2, 1.2])"
   ]
  },
  {
   "cell_type": "markdown",
   "metadata": {},
   "source": [
    "### Exercise 1: \n",
    "Please define a new neural network model by simply changing the parameter `activation` in the HIDDEN LAYER of the `nnmodel1()` from `relu` to another activation function of your choice, and do the train,test again.\n",
    "Is your result improved compared to `nnmodel1()` in terms of test error?"
   ]
  },
  {
   "cell_type": "code",
   "execution_count": 18,
   "metadata": {},
   "outputs": [],
   "source": [
    "#Define a neural network model, and wrap this model in a function\n",
    "def nnmodel2():\n",
    "    model = Sequential()\n",
    "    model.add(Dense(2, input_dim=x_train_norm.shape[1], kernel_initializer='normal', activation='relu'))\n",
    "    model.add(Dense(10, kernel_initializer='normal', activation='tanh'))\n",
    "    model.add(Dense(1, kernel_initializer='normal'))\n",
    "    model.compile(loss='mean_squared_error', optimizer='adam')\n",
    "    return model"
   ]
  },
  {
   "cell_type": "code",
   "execution_count": 19,
   "metadata": {},
   "outputs": [],
   "source": [
    "estimator2 = KerasRegressor(build_fn=nnmodel2) #nnmodel2 is the neural network model we defined above\n",
    "history2 = estimator2.fit(x_train_norm, y_train, validation_split=0.33, epochs=20, batch_size=32, verbose=0)"
   ]
  },
  {
   "cell_type": "code",
   "execution_count": 20,
   "metadata": {},
   "outputs": [
    {
     "data": {
      "text/plain": [
       "{'loss': [32.67377853393555,\n",
       "  20.168298721313477,\n",
       "  7.782874584197998,\n",
       "  3.007430076599121,\n",
       "  1.8487056493759155,\n",
       "  1.5895626544952393,\n",
       "  1.4697343111038208,\n",
       "  1.3877441883087158,\n",
       "  1.3174033164978027,\n",
       "  1.2462403774261475,\n",
       "  1.1882386207580566,\n",
       "  1.1392533779144287,\n",
       "  1.0986837148666382,\n",
       "  1.067644476890564,\n",
       "  1.0450196266174316,\n",
       "  1.0271638631820679,\n",
       "  1.0142441987991333,\n",
       "  1.0039405822753906,\n",
       "  0.995215654373169,\n",
       "  0.9882094264030457],\n",
       " 'val_loss': [27.869239807128906,\n",
       "  12.190694808959961,\n",
       "  4.2725138664245605,\n",
       "  1.8988878726959229,\n",
       "  1.4823429584503174,\n",
       "  1.3381413221359253,\n",
       "  1.2508388757705688,\n",
       "  1.185085415840149,\n",
       "  1.1179471015930176,\n",
       "  1.0565102100372314,\n",
       "  1.0074405670166016,\n",
       "  0.9655890464782715,\n",
       "  0.9305812120437622,\n",
       "  0.9044722318649292,\n",
       "  0.8863223791122437,\n",
       "  0.874740481376648,\n",
       "  0.8630314469337463,\n",
       "  0.856151282787323,\n",
       "  0.8472375273704529,\n",
       "  0.8441983461380005]}"
      ]
     },
     "execution_count": 20,
     "metadata": {},
     "output_type": "execute_result"
    }
   ],
   "source": [
    "history2.history"
   ]
  },
  {
   "cell_type": "code",
   "execution_count": 21,
   "metadata": {},
   "outputs": [
    {
     "data": {
      "image/png": "[encoded data removed]",
      "text/plain": [
       "<Figure size 432x288 with 1 Axes>"
      ]
     },
     "metadata": {
      "needs_background": "light"
     },
     "output_type": "display_data"
    }
   ],
   "source": [
    "plt.plot(range(20),history2.history['loss'])\n",
    "plt.plot(range(20),history2.history['val_loss'])\n",
    "plt.title('Learning Curves')\n",
    "plt.ylabel('loss')\n",
    "plt.xlabel('epoch') \n",
    "plt.legend(['train', 'validation'], loc='upper right')\n",
    "plt.grid()\n",
    "plt.show()"
   ]
  },
  {
   "cell_type": "code",
   "execution_count": 22,
   "metadata": {},
   "outputs": [
    {
     "name": "stdout",
     "output_type": "stream",
     "text": [
      "final MSE for train is 0.99 and for validation is 0.84\n"
     ]
    }
   ],
   "source": [
    "print(\"final MSE for train is %.2f and for validation is %.2f\" % \n",
    "      (history2.history['loss'][-1], history2.history['val_loss'][-1]))"
   ]
  },
  {
   "cell_type": "code",
   "execution_count": 23,
   "metadata": {},
   "outputs": [
    {
     "name": "stdout",
     "output_type": "stream",
     "text": [
      "46/46 [==============================] - 0s 686us/step - loss: 0.7940\n",
      "test set mse is 0.79\n"
     ]
    }
   ],
   "source": [
    "test_loss = estimator2.model.evaluate(x_test_norm, y_test)\n",
    "print(\"test set mse is %.2f\" % test_loss)"
   ]
  },
  {
   "cell_type": "code",
   "execution_count": 24,
   "metadata": {},
   "outputs": [],
   "source": [
    "y_test_predict2 = estimator2.predict(x_test_norm)"
   ]
  },
  {
   "cell_type": "code",
   "execution_count": 25,
   "metadata": {},
   "outputs": [
    {
     "data": {
      "image/png": "[encoded data removed]",
      "text/plain": [
       "<Figure size 432x288 with 1 Axes>"
      ]
     },
     "metadata": {
      "needs_background": "light"
     },
     "output_type": "display_data"
    }
   ],
   "source": [
    "plt.scatter(y_test, y_test_predict2)\n",
    "plt.xlabel(\"True value of test data\")\n",
    "plt.ylabel(\"Predicted value of test data\")\n",
    "plt.plot(np.arange(min(y_test),max(y_test),0.01),np.arange(min(y_test),max(y_test),0.01),c='orange')\n",
    "plt.grid()"
   ]
  },
  {
   "cell_type": "markdown",
   "metadata": {},
   "source": [
    "Compared to the previous model with hidden layer activation relu, changing the hidden layer activation function to tanh gave a worse result based on the MSE values of the training, validation and testing sets. The tanh function might not be suitable for this dataset."
   ]
  },
  {
   "cell_type": "markdown",
   "metadata": {},
   "source": [
    "### Tune learning rate of the optimizer\n",
    "\n",
    "The training of neural network can be regarded as an optimization process of searching the minimum of the loss function. Imagine you're searching a fastest way of going down a mountain (i.e. searching the 'minimum' of the mountain), one strategy you can take is going along the direction with the steepest descent of height. And after going one step in that direction, you need to determine the new steepest descent since your location is updated. This is basically the main idea of the optimization algorithm, and the size of the step you take in each time of updating the location is called `learning rate`.\n",
    "\n",
    "<img width=\"512\" alt=\"Trajectory towards local minimum\" src=\"https://miro.medium.com/max/1400/1*70f9PB-RwFaakqD6lfp4iw.png\"></a>\n",
    "\n",
    "The `Adam` optimization we use here is a stochastic gradient descent method. The learning rate can be specified by the parameter `lr` in the `keras.optimizers.Adam()`. The default value is 0.001, let's change it to 0.1.\n",
    "\n",
    "For all the available optimizers in Keras, please see this page: https://keras.io/api/optimizers/"
   ]
  },
  {
   "cell_type": "code",
   "execution_count": 26,
   "metadata": {},
   "outputs": [],
   "source": [
    "def nnmodel3():\n",
    "    model = Sequential()\n",
    "    model.add(Dense(2, input_dim=x_train_norm.shape[1], kernel_initializer='normal', activation='relu'))\n",
    "    model.add(Dense(10, kernel_initializer='normal', activation='relu'))\n",
    "    model.add(Dense(1, kernel_initializer='normal'))\n",
    "    optimizer = keras.optimizers.Adam(lr=0.1)\n",
    "    model.compile(loss='mean_squared_error', optimizer=optimizer)\n",
    "    return model"
   ]
  },
  {
   "cell_type": "code",
   "execution_count": 27,
   "metadata": {},
   "outputs": [],
   "source": [
    "estimator3 = KerasRegressor(build_fn=nnmodel3)\n",
    "history3 = estimator3.fit(x_train_norm, y_train, validation_split=0.33, epochs=20, batch_size=32, verbose=0)"
   ]
  },
  {
   "cell_type": "code",
   "execution_count": 28,
   "metadata": {},
   "outputs": [
    {
     "data": {
      "image/png": "[encoded data removed]",
      "text/plain": [
       "<Figure size 432x288 with 1 Axes>"
      ]
     },
     "metadata": {
      "needs_background": "light"
     },
     "output_type": "display_data"
    }
   ],
   "source": [
    "plt.plot(range(20),history3.history['loss'])\n",
    "plt.plot(range(20),history3.history['val_loss'])\n",
    "plt.title('Learning Curves')\n",
    "plt.ylabel('loss')\n",
    "plt.xlabel('epoch')\n",
    "plt.legend(['train', 'validation'], loc='upper right')\n",
    "plt.grid()\n",
    "plt.show()"
   ]
  },
  {
   "cell_type": "code",
   "execution_count": 29,
   "metadata": {},
   "outputs": [
    {
     "data": {
      "text/plain": [
       "[3.2137293815612793,\n",
       " 0.9515960812568665,\n",
       " 0.9269640445709229,\n",
       " 0.8520886301994324,\n",
       " 0.8861936926841736,\n",
       " 0.8090840578079224,\n",
       " 0.843792736530304,\n",
       " 0.8847336769104004,\n",
       " 0.8245459198951721,\n",
       " 0.7717190980911255,\n",
       " 0.7657887935638428,\n",
       " 0.768481433391571,\n",
       " 0.7991607785224915,\n",
       " 0.7998943328857422,\n",
       " 0.7948523759841919,\n",
       " 0.7371650338172913,\n",
       " 0.8061773180961609,\n",
       " 0.7327110767364502,\n",
       " 0.702242910861969,\n",
       " 0.8017376661300659]"
      ]
     },
     "execution_count": 29,
     "metadata": {},
     "output_type": "execute_result"
    }
   ],
   "source": [
    "history3.history['loss']"
   ]
  },
  {
   "cell_type": "code",
   "execution_count": 30,
   "metadata": {},
   "outputs": [
    {
     "name": "stdout",
     "output_type": "stream",
     "text": [
      "final MSE for train is 0.80 and for validation is 0.57\n"
     ]
    }
   ],
   "source": [
    "print(\"final MSE for train is %.2f and for validation is %.2f\" % \n",
    "      (history3.history['loss'][-1], history3.history['val_loss'][-1]))"
   ]
  },
  {
   "cell_type": "code",
   "execution_count": 31,
   "metadata": {},
   "outputs": [
    {
     "name": "stdout",
     "output_type": "stream",
     "text": [
      "46/46 [==============================] - 0s 758us/step - loss: 0.5583\n",
      "test set mse is 0.56\n"
     ]
    }
   ],
   "source": [
    "test_loss3 = estimator3.model.evaluate(x_test_norm, y_test)\n",
    "print(\"test set mse is %.2f\" % test_loss3)"
   ]
  },
  {
   "cell_type": "code",
   "execution_count": 32,
   "metadata": {},
   "outputs": [
    {
     "data": {
      "image/png": "[encoded data removed]",
      "text/plain": [
       "<Figure size 432x288 with 1 Axes>"
      ]
     },
     "metadata": {
      "needs_background": "light"
     },
     "output_type": "display_data"
    }
   ],
   "source": [
    "y_test_predict3 = estimator3.predict(x_test_norm)\n",
    "plt.scatter(y_test, y_test_predict3)\n",
    "plt.xlabel(\"True value of test data\")\n",
    "plt.ylabel(\"Predicted value of test data\")\n",
    "plt.plot(np.arange(min(y_test),max(y_test),0.01),np.arange(min(y_test),max(y_test),0.01),c='orange')\n",
    "plt.grid()"
   ]
  },
  {
   "cell_type": "markdown",
   "metadata": {},
   "source": [
    "### Exercise 2:\n",
    "* Please try some other learning rate value. Is it always better to have larger learning rate? Please explain. "
   ]
  },
  {
   "cell_type": "markdown",
   "metadata": {},
   "source": [
    "#### Finding the optimal Learning Rate "
   ]
  },
  {
   "cell_type": "code",
   "execution_count": 139,
   "metadata": {},
   "outputs": [],
   "source": [
    "#!pip install keras-tuner\n",
    "import keras_tuner as kt"
   ]
  },
  {
   "cell_type": "code",
   "execution_count": 110,
   "metadata": {},
   "outputs": [],
   "source": [
    "def nnmodel5(hp):\n",
    "    model = Sequential()\n",
    "    model.add(Dense(2, input_dim=x_train_norm.shape[1], kernel_initializer='normal', activation='relu'))\n",
    "    model.add(Dense(10, kernel_initializer='normal', activation='relu'))\n",
    "    model.add(Dense(1, kernel_initializer='normal'))\n",
    "    #optimizer = keras.optimizers.Adam(lr=0.05)\n",
    "    hp_learning_rate = hp.Choice('learning_rate', values=[1.0,5e-1,1e-1,5e-2,1e-2, 1e-3, 1e-4])\n",
    "    model.compile(optimizer=keras.optimizers.Adam(learning_rate=hp_learning_rate),\n",
    "                loss='mean_squared_error',metrics=[keras.metrics.MeanSquaredError()])\n",
    "    #model.compile(loss='mean_squared_error', optimizer=optimizer)\n",
    "    #metrics=[keras.metrics.MeanAbsoluteError()]\n",
    "    return model"
   ]
  },
  {
   "cell_type": "code",
   "execution_count": 117,
   "metadata": {},
   "outputs": [],
   "source": [
    "tuner = kt.Hyperband(nnmodel5, # the hypermodel\n",
    "                     objective=kt.Objective(\"val_mean_squared_error\", direction=\"min\"),\n",
    "max_epochs=30,\n",
    "factor=2,\n",
    "directory='dir', # directory to save logs   \n",
    "                     overwrite=True,\n",
    "project_name='qm7b_e1zindo_tuner_accuracy3')\n",
    "#factor=3, # factor which you have seen above \n",
    "# objective='val_accuracy', # objective to optimize\n",
    "#overwrite=True,  "
   ]
  },
  {
   "cell_type": "code",
   "execution_count": 118,
   "metadata": {},
   "outputs": [
    {
     "name": "stdout",
     "output_type": "stream",
     "text": [
      "Search space summary\n",
      "Default search space size: 1\n",
      "learning_rate (Choice)\n",
      "{'default': 1.0, 'conditions': [], 'values': [1.0, 0.5, 0.1, 0.05, 0.01, 0.001, 0.0001], 'ordered': True}\n"
     ]
    }
   ],
   "source": [
    "tuner.search_space_summary() "
   ]
  },
  {
   "cell_type": "code",
   "execution_count": 119,
   "metadata": {},
   "outputs": [
    {
     "name": "stdout",
     "output_type": "stream",
     "text": [
      "Trial 7 Complete [00h 00m 01s]\n",
      "val_mean_squared_error: 19.391719818115234\n",
      "\n",
      "Best val_mean_squared_error So Far: 0.6423189043998718\n",
      "Total elapsed time: 00h 00m 07s\n",
      "INFO:tensorflow:Oracle triggered exit\n"
     ]
    }
   ],
   "source": [
    "#stop_early = tf.keras.callbacks.EarlyStopping(monitor='val_loss', patience=5)\n",
    "#x_train_norm, y_train, validation_split=0.33, epochs=20, batch_size=32, verbose=0\n",
    "# Perform hypertuning\n",
    "tuner.search(x_train_norm, y_train, epochs=20, validation_split=0.33, batch_size=32)"
   ]
  },
  {
   "cell_type": "markdown",
   "metadata": {
    "jp-MarkdownHeadingCollapsed": true,
    "tags": []
   },
   "source": [
    " The summary of the tuner based on different values of learning rate "
   ]
  },
  {
   "cell_type": "code",
   "execution_count": 144,
   "metadata": {},
   "outputs": [
    {
     "name": "stdout",
     "output_type": "stream",
     "text": [
      "Results summary\n",
      "Results in dir/qm7b_e1zindo_tuner_accuracy3\n",
      "Showing 10 best trials\n",
      "<keras_tuner.engine.objective.Objective object at 0x7feeb86f4970>\n",
      "Trial summary\n",
      "Hyperparameters:\n",
      "learning_rate: 0.05\n",
      "tuner/epochs: 2\n",
      "tuner/initial_epoch: 0\n",
      "tuner/bracket: 4\n",
      "tuner/round: 0\n",
      "Score: 0.6423189043998718\n",
      "Trial summary\n",
      "Hyperparameters:\n",
      "learning_rate: 0.1\n",
      "tuner/epochs: 2\n",
      "tuner/initial_epoch: 0\n",
      "tuner/bracket: 4\n",
      "tuner/round: 0\n",
      "Score: 0.7394142746925354\n",
      "Trial summary\n",
      "Hyperparameters:\n",
      "learning_rate: 0.01\n",
      "tuner/epochs: 2\n",
      "tuner/initial_epoch: 0\n",
      "tuner/bracket: 4\n",
      "tuner/round: 0\n",
      "Score: 0.7780057787895203\n",
      "Trial summary\n",
      "Hyperparameters:\n",
      "learning_rate: 0.5\n",
      "tuner/epochs: 2\n",
      "tuner/initial_epoch: 0\n",
      "tuner/bracket: 4\n",
      "tuner/round: 0\n",
      "Score: 0.8453770875930786\n",
      "Trial summary\n",
      "Hyperparameters:\n",
      "learning_rate: 1.0\n",
      "tuner/epochs: 2\n",
      "tuner/initial_epoch: 0\n",
      "tuner/bracket: 4\n",
      "tuner/round: 0\n",
      "Score: 3.4120640754699707\n",
      "Trial summary\n",
      "Hyperparameters:\n",
      "learning_rate: 0.001\n",
      "tuner/epochs: 2\n",
      "tuner/initial_epoch: 0\n",
      "tuner/bracket: 4\n",
      "tuner/round: 0\n",
      "Score: 19.391719818115234\n",
      "Trial summary\n",
      "Hyperparameters:\n",
      "learning_rate: 0.0001\n",
      "tuner/epochs: 2\n",
      "tuner/initial_epoch: 0\n",
      "tuner/bracket: 4\n",
      "tuner/round: 0\n",
      "Score: 34.21641159057617\n"
     ]
    }
   ],
   "source": [
    "tuner.results_summary()"
   ]
  },
  {
   "cell_type": "markdown",
   "metadata": {},
   "source": [
    "Optimal learning rate value"
   ]
  },
  {
   "cell_type": "code",
   "execution_count": 145,
   "metadata": {},
   "outputs": [
    {
     "data": {
      "text/plain": [
       "{'learning_rate': 0.05,\n",
       " 'tuner/epochs': 2,\n",
       " 'tuner/initial_epoch': 0,\n",
       " 'tuner/bracket': 4,\n",
       " 'tuner/round': 0}"
      ]
     },
     "execution_count": 145,
     "metadata": {},
     "output_type": "execute_result"
    }
   ],
   "source": [
    "tuner.get_best_hyperparameters()[0].values"
   ]
  },
  {
   "cell_type": "code",
   "execution_count": 125,
   "metadata": {},
   "outputs": [],
   "source": [
    "best_lr =tuner.get_best_hyperparameters()[0]"
   ]
  },
  {
   "cell_type": "code",
   "execution_count": 127,
   "metadata": {},
   "outputs": [],
   "source": [
    "nnmodel_optim_lr = tuner.hypermodel.build(best_lr)"
   ]
  },
  {
   "cell_type": "code",
   "execution_count": 129,
   "metadata": {},
   "outputs": [
    {
     "name": "stdout",
     "output_type": "stream",
     "text": [
      "Model: \"sequential_1\"\n",
      "_________________________________________________________________\n",
      "Layer (type)                 Output Shape              Param #   \n",
      "=================================================================\n",
      "dense_3 (Dense)              (None, 2)                 6         \n",
      "_________________________________________________________________\n",
      "dense_4 (Dense)              (None, 10)                30        \n",
      "_________________________________________________________________\n",
      "dense_5 (Dense)              (None, 1)                 11        \n",
      "=================================================================\n",
      "Total params: 47\n",
      "Trainable params: 47\n",
      "Non-trainable params: 0\n",
      "_________________________________________________________________\n"
     ]
    }
   ],
   "source": [
    "nnmodel_optim_lr.summary()"
   ]
  },
  {
   "cell_type": "code",
   "execution_count": 132,
   "metadata": {},
   "outputs": [],
   "source": [
    "history5 = nnmodel_optim_lr.fit(x_train_norm, y_train, validation_split=0.33, epochs=20, batch_size=32, verbose=0)"
   ]
  },
  {
   "cell_type": "code",
   "execution_count": 133,
   "metadata": {},
   "outputs": [
    {
     "name": "stdout",
     "output_type": "stream",
     "text": [
      "final MSE for train is 0.72 and for validation is 0.55\n"
     ]
    }
   ],
   "source": [
    "print(\"final MSE for train is %.2f and for validation is %.2f\" % \n",
    "      (history5.history['loss'][-1], history5.history['val_loss'][-1]))"
   ]
  },
  {
   "cell_type": "code",
   "execution_count": 141,
   "metadata": {},
   "outputs": [
    {
     "data": {
      "image/png": "[encoded data removed]",
      "text/plain": [
       "<Figure size 432x288 with 1 Axes>"
      ]
     },
     "metadata": {
      "needs_background": "light"
     },
     "output_type": "display_data"
    }
   ],
   "source": [
    "plt.plot(range(20),history5.history['loss'])\n",
    "plt.plot(range(20),history5.history['val_loss'])\n",
    "plt.title('Learning Curves')\n",
    "plt.ylabel('loss')\n",
    "plt.xlabel('epoch')\n",
    "plt.legend(['train', 'validation'], loc='upper right')\n",
    "plt.grid()\n",
    "plt.show()"
   ]
  },
  {
   "cell_type": "markdown",
   "metadata": {},
   "source": [
    "Based on the graph, we might need to train it at higher epoch since neither curve are approaching stable state to determine how good the fit is. However, the model might be a good fit since both curves are close to each other. "
   ]
  },
  {
   "cell_type": "code",
   "execution_count": 138,
   "metadata": {},
   "outputs": [
    {
     "name": "stdout",
     "output_type": "stream",
     "text": [
      "46/46 [==============================] - 0s 729us/step - loss: 0.5456 - mean_squared_error: 0.5456\n",
      "test set mse is 0.55\n"
     ]
    }
   ],
   "source": [
    "test_loss5 = nnmodel_optim_lr.evaluate(x_test_norm, y_test)\n",
    "print(\"test set mse is %.2f\" % test_loss5[1])\n",
    "#test_loss5"
   ]
  },
  {
   "cell_type": "code",
   "execution_count": 140,
   "metadata": {},
   "outputs": [
    {
     "data": {
      "image/png": "[encoded data removed]",
      "text/plain": [
       "<Figure size 432x288 with 1 Axes>"
      ]
     },
     "metadata": {
      "needs_background": "light"
     },
     "output_type": "display_data"
    }
   ],
   "source": [
    "y_test_predict5 = nnmodel_optim_lr.predict(x_test_norm)\n",
    "plt.scatter(y_test, y_test_predict5)\n",
    "plt.xlabel(\"True value of test data\")\n",
    "plt.ylabel(\"Predicted value of test data\")\n",
    "plt.plot(np.arange(min(y_test),max(y_test),0.01),np.arange(min(y_test),max(y_test),0.01),c='orange')\n",
    "plt.grid()"
   ]
  },
  {
   "cell_type": "markdown",
   "metadata": {},
   "source": [
    "#### Discussion "
   ]
  },
  {
   "cell_type": "markdown",
   "metadata": {},
   "source": [
    "The NN use gradient descent algorithm, which applied backpropagation method to update new weight. The learning rate controls how quick the model adapted to the problem within the backpropagation. If the learning rate is too large, the model might be able to converge much faster, but the solution might not be the optimal because it overshoots or undershoot from the optimal solution. If the learning rate is too small, we need to use more epoch to converge to the solution and possibly be overfitting due to high epoch number needed to update the weight at slower pace.\n",
    "\n",
    "We can find the optimal learning rate value using keras-tuner. I set my tuner's objective to find lowest validation MSE, which is the score. \n",
    "\n",
    "We can see that the optimal learning rate is somewhere around 0.05. We can see that from the summary, higher learning rate will result in suboptimal result because the model converged too quickly. On the other hand, when we set the learning rate as low as 1e-4, the model is overfitting as seen from validation MSE. \n",
    "\n",
    "We might be able to improve the tuner model by including the training MSE as part of objective and see how the model reacts. Furthermore, we can try implement adaptive learning rate so that the model can adjust the learning rate as it trains. \n",
    "\n",
    "Source:\n",
    "* Understand the Impact of Learning Rate on Neural Network Performance https://machinelearningmastery.com/understand-the-dynamics-of-learning-rate-on-deep-learning-neural-networks/\n",
    "* Understanding Learning Rate in Neural Networks https://www.allaboutcircuits.com/technical-articles/understanding-learning-rate-in-neural-networks/\n",
    "* Getting started with KerasTuner https://keras.io/guides/keras_tuner/getting_started/\n",
    "* Hyperparameter Tuning Of Neural Networks using Keras Tuner https://www.analyticsvidhya.com/blog/2021/08/hyperparameter-tuning-of-neural-networks-using-keras-tuner/\n"
   ]
  },
  {
   "cell_type": "markdown",
   "metadata": {},
   "source": [
    "## Tune the number of layers\n",
    "### Exercise 3: \n",
    "* Please add an extra hidden layer to the `nnmodel3`(the new layer will be right before the output layer).  The number of neurons, kernal initializer, and activation function of the new layer are up to your choice. Train the new model on the training data, and evaluate: final mse for train,validation, test set mse. Plot the learning curves, and analyze if your model is goodfit,overfit or underfit.  Make a scatter plot of predicted value of test data vs. true value of test data. "
   ]
  },
  {
   "cell_type": "code",
   "execution_count": 146,
   "metadata": {},
   "outputs": [],
   "source": [
    "def nnmodel4():\n",
    "    model = Sequential()\n",
    "    model.add(Dense(2, input_dim=x_train_norm.shape[1], kernel_initializer='normal', activation='relu'))\n",
    "    model.add(Dense(10, kernel_initializer='normal', activation='relu'))\n",
    "    model.add(Dense(10 , kernel_initializer='normal', activation='relu'))\n",
    "    model.add(Dense(1, kernel_initializer='normal'))\n",
    "    optimizer = keras.optimizers.Adam(lr=0.05)\n",
    "    model.compile(loss='mean_squared_error', optimizer=optimizer)\n",
    "    return model"
   ]
  },
  {
   "cell_type": "code",
   "execution_count": 147,
   "metadata": {},
   "outputs": [],
   "source": [
    "estimator4 = KerasRegressor(build_fn=nnmodel4)\n",
    "history4 = estimator4.fit(x_train_norm, y_train, validation_split=0.33, epochs=20, batch_size=32, verbose=0)"
   ]
  },
  {
   "cell_type": "code",
   "execution_count": 148,
   "metadata": {},
   "outputs": [
    {
     "data": {
      "image/png": "[encoded data removed]",
      "text/plain": [
       "<Figure size 432x288 with 1 Axes>"
      ]
     },
     "metadata": {
      "needs_background": "light"
     },
     "output_type": "display_data"
    }
   ],
   "source": [
    "plt.plot(range(20),history4.history['loss'])\n",
    "plt.plot(range(20),history4.history['val_loss'])\n",
    "plt.title('Learning Curves')\n",
    "plt.ylabel('loss')\n",
    "plt.xlabel('epoch')\n",
    "plt.legend(['train', 'validation'], loc='upper right')\n",
    "plt.grid()\n",
    "plt.show()"
   ]
  },
  {
   "cell_type": "markdown",
   "metadata": {},
   "source": [
    "Based on the learning curves, the model looks like overfitting because the training curve is increasing while the validation curve is stable. We might need to run a higher epoch to check that. "
   ]
  },
  {
   "cell_type": "code",
   "execution_count": 149,
   "metadata": {},
   "outputs": [
    {
     "name": "stdout",
     "output_type": "stream",
     "text": [
      "final MSE for train is 0.63 and for validation is 0.37\n"
     ]
    }
   ],
   "source": [
    "print(\"final MSE for train is %.2f and for validation is %.2f\" % \n",
    "      (history4.history['loss'][-1], history4.history['val_loss'][-1]))"
   ]
  },
  {
   "cell_type": "code",
   "execution_count": 150,
   "metadata": {},
   "outputs": [
    {
     "name": "stdout",
     "output_type": "stream",
     "text": [
      "46/46 [==============================] - 0s 680us/step - loss: 0.3883\n",
      "test set mse is 0.39\n"
     ]
    }
   ],
   "source": [
    "test_loss4 = estimator4.model.evaluate(x_test_norm, y_test)\n",
    "print(\"test set mse is %.2f\" % test_loss4)"
   ]
  },
  {
   "cell_type": "code",
   "execution_count": 151,
   "metadata": {},
   "outputs": [
    {
     "data": {
      "image/png": "[encoded data removed]",
      "text/plain": [
       "<Figure size 432x288 with 1 Axes>"
      ]
     },
     "metadata": {
      "needs_background": "light"
     },
     "output_type": "display_data"
    }
   ],
   "source": [
    "y_test_predict4 = estimator4.predict(x_test_norm)\n",
    "plt.scatter(y_test, y_test_predict4)\n",
    "plt.xlabel(\"True value of test data\")\n",
    "plt.ylabel(\"Predicted value of test data\")\n",
    "plt.plot(np.arange(min(y_test),max(y_test),0.01),np.arange(min(y_test),max(y_test),0.01),c='orange')\n",
    "plt.grid()"
   ]
  },
  {
   "cell_type": "markdown",
   "metadata": {},
   "source": [
    "Based on parity plot, the NN did an okay job on predicting the test data."
   ]
  },
  {
   "cell_type": "markdown",
   "metadata": {},
   "source": [
    "### Resources:\n",
    "\n",
    "* You may have noticed that the result is changing everytime even when you train the same model with the same data. \n",
    "You will need to set up some random seeds (shown below) to make the training process completely reproducible(i.e. to make the training loss and test mse exactly the same every time you run it). (You can refer to this page for more details: https://keras.io/getting_started/faq/#how-can-i-obtain-reproducible-results-using-keras-during-development )\n"
   ]
  },
  {
   "cell_type": "code",
   "execution_count": 152,
   "metadata": {},
   "outputs": [],
   "source": [
    "import numpy as np\n",
    "import tensorflow as tf\n",
    "import random as python_random\n",
    "\n",
    "np.random.seed(123)\n",
    "python_random.seed(123)\n",
    "tf.random.set_seed(123)"
   ]
  },
  {
   "cell_type": "markdown",
   "metadata": {},
   "source": [
    "* How to use Learning Curves to Diagnose Machine Learning Model Performance: https://machinelearningmastery.com/learning-curves-for-diagnosing-machine-learning-model-performance/\n",
    "\n",
    "* For more details about the Gradient Descent algorithm and learning rate, you can check out this article: https://towardsdatascience.com/gradient-descent-algorithm-and-its-variants-10f652806a3"
   ]
  }
 ],
 "metadata": {
  "kernelspec": {
   "display_name": "Python 3 (ipykernel)",
   "language": "python",
   "name": "python3"
  },
  "language_info": {
   "codemirror_mode": {
    "name": "ipython",
    "version": 3
   },
   "file_extension": ".py",
   "mimetype": "text/x-python",
   "name": "python",
   "nbconvert_exporter": "python",
   "pygments_lexer": "ipython3",
   "version": "3.9.7"
  }
 },
 "nbformat": 4,
 "nbformat_minor": 4
}
