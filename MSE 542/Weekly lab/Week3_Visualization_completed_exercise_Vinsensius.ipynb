{
 "cells": [
  {
   "cell_type": "markdown",
   "metadata": {},
   "source": [
    "# Data Science And Materials Informatics\n",
    "\n",
    "## Hands-on Week 3: Visualization *[3 exercises to complete]*"
   ]
  },
  {
   "cell_type": "markdown",
   "metadata": {},
   "source": [
    "Reference: [Python Data Science Handbook](https://jakevdp.github.io/PythonDataScienceHandbook/index.html)"
   ]
  },
  {
   "cell_type": "markdown",
   "metadata": {},
   "source": [
    "It is always good practice to import modules at the beginning of a notebook."
   ]
  },
  {
   "cell_type": "code",
   "execution_count": 2,
   "metadata": {},
   "outputs": [],
   "source": [
    "import numpy as np\n",
    "import pandas as pd\n",
    "import matplotlib as mpl\n",
    "import matplotlib.pyplot as plt\n",
    "import seaborn as sns"
   ]
  },
  {
   "cell_type": "markdown",
   "metadata": {},
   "source": [
    "The plt interface is what we will use most often."
   ]
  },
  {
   "cell_type": "markdown",
   "metadata": {},
   "source": [
    "Plotting interactively within an IPython notebook can be done with the ``%matplotlib`` command. To render matplotlib figures inline with notebook cells, we can use:"
   ]
  },
  {
   "cell_type": "code",
   "execution_count": 3,
   "metadata": {},
   "outputs": [],
   "source": [
    "%matplotlib inline"
   ]
  },
  {
   "cell_type": "markdown",
   "metadata": {},
   "source": [
    "We can use ``mpl.style.use`` to alter the plot style. Find the list of matplotlib styles [here](https://tonysyu.github.io/raw_content/matplotlib-style-gallery/gallery.html)"
   ]
  },
  {
   "cell_type": "markdown",
   "metadata": {},
   "source": [
    "### 1. Pandas"
   ]
  },
  {
   "cell_type": "markdown",
   "metadata": {},
   "source": [
    "#### 1.1 Read in data\n",
    "\n",
    "We'll use pandas read_csv function to read in our data."
   ]
  },
  {
   "cell_type": "code",
   "execution_count": 4,
   "metadata": {},
   "outputs": [],
   "source": [
    "df = pd.read_csv('https://gist.githubusercontent.com/GoodmanSciences/c2dd862cd38f21b0ad36b8f96b4bf1ee/raw/1d92663004489a5b6926e944c1b3d9ec5c40900e/Periodic%2520Table%2520of%2520Elements.csv')"
   ]
  },
  {
   "cell_type": "markdown",
   "metadata": {},
   "source": [
    "Let's take a look at the data to make sure it looks right with head and tail, and then look at the shape of the dataframe:"
   ]
  },
  {
   "cell_type": "code",
   "execution_count": 5,
   "metadata": {},
   "outputs": [
    {
     "data": {
      "text/plain": [
       "Index(['AtomicNumber', 'Element', 'Symbol', 'AtomicMass', 'NumberofNeutrons',\n",
       "       'NumberofProtons', 'NumberofElectrons', 'Period', 'Group', 'Phase',\n",
       "       'Radioactive', 'Natural', 'Metal', 'Nonmetal', 'Metalloid', 'Type',\n",
       "       'AtomicRadius', 'Electronegativity', 'FirstIonization', 'Density',\n",
       "       'MeltingPoint', 'BoilingPoint', 'NumberOfIsotopes', 'Discoverer',\n",
       "       'Year', 'SpecificHeat', 'NumberofShells', 'NumberofValence'],\n",
       "      dtype='object')"
      ]
     },
     "execution_count": 5,
     "metadata": {},
     "output_type": "execute_result"
    }
   ],
   "source": [
    "df.columns"
   ]
  },
  {
   "cell_type": "code",
   "execution_count": 6,
   "metadata": {},
   "outputs": [
    {
     "data": {
      "text/html": [
       "<div>\n",
       "<style scoped>\n",
       "    .dataframe tbody tr th:only-of-type {\n",
       "        vertical-align: middle;\n",
       "    }\n",
       "\n",
       "    .dataframe tbody tr th {\n",
       "        vertical-align: top;\n",
       "    }\n",
       "\n",
       "    .dataframe thead th {\n",
       "        text-align: right;\n",
       "    }\n",
       "</style>\n",
       "<table border=\"1\" class=\"dataframe\">\n",
       "  <thead>\n",
       "    <tr style=\"text-align: right;\">\n",
       "      <th></th>\n",
       "      <th>AtomicNumber</th>\n",
       "      <th>Element</th>\n",
       "      <th>Symbol</th>\n",
       "      <th>AtomicMass</th>\n",
       "      <th>NumberofNeutrons</th>\n",
       "      <th>NumberofProtons</th>\n",
       "      <th>NumberofElectrons</th>\n",
       "      <th>Period</th>\n",
       "      <th>Group</th>\n",
       "      <th>Phase</th>\n",
       "      <th>...</th>\n",
       "      <th>FirstIonization</th>\n",
       "      <th>Density</th>\n",
       "      <th>MeltingPoint</th>\n",
       "      <th>BoilingPoint</th>\n",
       "      <th>NumberOfIsotopes</th>\n",
       "      <th>Discoverer</th>\n",
       "      <th>Year</th>\n",
       "      <th>SpecificHeat</th>\n",
       "      <th>NumberofShells</th>\n",
       "      <th>NumberofValence</th>\n",
       "    </tr>\n",
       "  </thead>\n",
       "  <tbody>\n",
       "    <tr>\n",
       "      <th>0</th>\n",
       "      <td>1</td>\n",
       "      <td>Hydrogen</td>\n",
       "      <td>H</td>\n",
       "      <td>1.007</td>\n",
       "      <td>0</td>\n",
       "      <td>1</td>\n",
       "      <td>1</td>\n",
       "      <td>1</td>\n",
       "      <td>1.0</td>\n",
       "      <td>gas</td>\n",
       "      <td>...</td>\n",
       "      <td>13.5984</td>\n",
       "      <td>0.000090</td>\n",
       "      <td>14.175</td>\n",
       "      <td>20.28</td>\n",
       "      <td>3.0</td>\n",
       "      <td>Cavendish</td>\n",
       "      <td>1766.0</td>\n",
       "      <td>14.304</td>\n",
       "      <td>1</td>\n",
       "      <td>1.0</td>\n",
       "    </tr>\n",
       "    <tr>\n",
       "      <th>1</th>\n",
       "      <td>2</td>\n",
       "      <td>Helium</td>\n",
       "      <td>He</td>\n",
       "      <td>4.002</td>\n",
       "      <td>2</td>\n",
       "      <td>2</td>\n",
       "      <td>2</td>\n",
       "      <td>1</td>\n",
       "      <td>18.0</td>\n",
       "      <td>gas</td>\n",
       "      <td>...</td>\n",
       "      <td>24.5874</td>\n",
       "      <td>0.000179</td>\n",
       "      <td>NaN</td>\n",
       "      <td>4.22</td>\n",
       "      <td>5.0</td>\n",
       "      <td>Janssen</td>\n",
       "      <td>1868.0</td>\n",
       "      <td>5.193</td>\n",
       "      <td>1</td>\n",
       "      <td>NaN</td>\n",
       "    </tr>\n",
       "    <tr>\n",
       "      <th>2</th>\n",
       "      <td>3</td>\n",
       "      <td>Lithium</td>\n",
       "      <td>Li</td>\n",
       "      <td>6.941</td>\n",
       "      <td>4</td>\n",
       "      <td>3</td>\n",
       "      <td>3</td>\n",
       "      <td>2</td>\n",
       "      <td>1.0</td>\n",
       "      <td>solid</td>\n",
       "      <td>...</td>\n",
       "      <td>5.3917</td>\n",
       "      <td>0.534000</td>\n",
       "      <td>453.850</td>\n",
       "      <td>1615.00</td>\n",
       "      <td>5.0</td>\n",
       "      <td>Arfvedson</td>\n",
       "      <td>1817.0</td>\n",
       "      <td>3.582</td>\n",
       "      <td>2</td>\n",
       "      <td>1.0</td>\n",
       "    </tr>\n",
       "    <tr>\n",
       "      <th>3</th>\n",
       "      <td>4</td>\n",
       "      <td>Beryllium</td>\n",
       "      <td>Be</td>\n",
       "      <td>9.012</td>\n",
       "      <td>5</td>\n",
       "      <td>4</td>\n",
       "      <td>4</td>\n",
       "      <td>2</td>\n",
       "      <td>2.0</td>\n",
       "      <td>solid</td>\n",
       "      <td>...</td>\n",
       "      <td>9.3227</td>\n",
       "      <td>1.850000</td>\n",
       "      <td>1560.150</td>\n",
       "      <td>2742.00</td>\n",
       "      <td>6.0</td>\n",
       "      <td>Vaulquelin</td>\n",
       "      <td>1798.0</td>\n",
       "      <td>1.825</td>\n",
       "      <td>2</td>\n",
       "      <td>2.0</td>\n",
       "    </tr>\n",
       "    <tr>\n",
       "      <th>4</th>\n",
       "      <td>5</td>\n",
       "      <td>Boron</td>\n",
       "      <td>B</td>\n",
       "      <td>10.811</td>\n",
       "      <td>6</td>\n",
       "      <td>5</td>\n",
       "      <td>5</td>\n",
       "      <td>2</td>\n",
       "      <td>13.0</td>\n",
       "      <td>solid</td>\n",
       "      <td>...</td>\n",
       "      <td>8.2980</td>\n",
       "      <td>2.340000</td>\n",
       "      <td>2573.150</td>\n",
       "      <td>4200.00</td>\n",
       "      <td>6.0</td>\n",
       "      <td>Gay-Lussac</td>\n",
       "      <td>1808.0</td>\n",
       "      <td>1.026</td>\n",
       "      <td>2</td>\n",
       "      <td>3.0</td>\n",
       "    </tr>\n",
       "  </tbody>\n",
       "</table>\n",
       "<p>5 rows × 28 columns</p>\n",
       "</div>"
      ],
      "text/plain": [
       "   AtomicNumber    Element Symbol  AtomicMass  NumberofNeutrons  \\\n",
       "0             1   Hydrogen      H       1.007                 0   \n",
       "1             2     Helium     He       4.002                 2   \n",
       "2             3    Lithium     Li       6.941                 4   \n",
       "3             4  Beryllium     Be       9.012                 5   \n",
       "4             5      Boron      B      10.811                 6   \n",
       "\n",
       "   NumberofProtons  NumberofElectrons  Period  Group  Phase  ...  \\\n",
       "0                1                  1       1    1.0    gas  ...   \n",
       "1                2                  2       1   18.0    gas  ...   \n",
       "2                3                  3       2    1.0  solid  ...   \n",
       "3                4                  4       2    2.0  solid  ...   \n",
       "4                5                  5       2   13.0  solid  ...   \n",
       "\n",
       "  FirstIonization   Density MeltingPoint BoilingPoint NumberOfIsotopes  \\\n",
       "0         13.5984  0.000090       14.175        20.28              3.0   \n",
       "1         24.5874  0.000179          NaN         4.22              5.0   \n",
       "2          5.3917  0.534000      453.850      1615.00              5.0   \n",
       "3          9.3227  1.850000     1560.150      2742.00              6.0   \n",
       "4          8.2980  2.340000     2573.150      4200.00              6.0   \n",
       "\n",
       "   Discoverer    Year  SpecificHeat  NumberofShells  NumberofValence  \n",
       "0   Cavendish  1766.0        14.304               1              1.0  \n",
       "1     Janssen  1868.0         5.193               1              NaN  \n",
       "2   Arfvedson  1817.0         3.582               2              1.0  \n",
       "3  Vaulquelin  1798.0         1.825               2              2.0  \n",
       "4  Gay-Lussac  1808.0         1.026               2              3.0  \n",
       "\n",
       "[5 rows x 28 columns]"
      ]
     },
     "execution_count": 6,
     "metadata": {},
     "output_type": "execute_result"
    }
   ],
   "source": [
    "df.head()"
   ]
  },
  {
   "cell_type": "code",
   "execution_count": 7,
   "metadata": {},
   "outputs": [
    {
     "data": {
      "text/html": [
       "<div>\n",
       "<style scoped>\n",
       "    .dataframe tbody tr th:only-of-type {\n",
       "        vertical-align: middle;\n",
       "    }\n",
       "\n",
       "    .dataframe tbody tr th {\n",
       "        vertical-align: top;\n",
       "    }\n",
       "\n",
       "    .dataframe thead th {\n",
       "        text-align: right;\n",
       "    }\n",
       "</style>\n",
       "<table border=\"1\" class=\"dataframe\">\n",
       "  <thead>\n",
       "    <tr style=\"text-align: right;\">\n",
       "      <th></th>\n",
       "      <th>AtomicNumber</th>\n",
       "      <th>Element</th>\n",
       "      <th>Symbol</th>\n",
       "      <th>AtomicMass</th>\n",
       "      <th>NumberofNeutrons</th>\n",
       "      <th>NumberofProtons</th>\n",
       "      <th>NumberofElectrons</th>\n",
       "      <th>Period</th>\n",
       "      <th>Group</th>\n",
       "      <th>Phase</th>\n",
       "      <th>...</th>\n",
       "      <th>FirstIonization</th>\n",
       "      <th>Density</th>\n",
       "      <th>MeltingPoint</th>\n",
       "      <th>BoilingPoint</th>\n",
       "      <th>NumberOfIsotopes</th>\n",
       "      <th>Discoverer</th>\n",
       "      <th>Year</th>\n",
       "      <th>SpecificHeat</th>\n",
       "      <th>NumberofShells</th>\n",
       "      <th>NumberofValence</th>\n",
       "    </tr>\n",
       "  </thead>\n",
       "  <tbody>\n",
       "    <tr>\n",
       "      <th>113</th>\n",
       "      <td>114</td>\n",
       "      <td>Flerovium</td>\n",
       "      <td>Fl</td>\n",
       "      <td>289.0</td>\n",
       "      <td>175</td>\n",
       "      <td>114</td>\n",
       "      <td>114</td>\n",
       "      <td>7</td>\n",
       "      <td>14.0</td>\n",
       "      <td>artificial</td>\n",
       "      <td>...</td>\n",
       "      <td>NaN</td>\n",
       "      <td>NaN</td>\n",
       "      <td>NaN</td>\n",
       "      <td>NaN</td>\n",
       "      <td>NaN</td>\n",
       "      <td>NaN</td>\n",
       "      <td>1999.0</td>\n",
       "      <td>NaN</td>\n",
       "      <td>7</td>\n",
       "      <td>4.0</td>\n",
       "    </tr>\n",
       "    <tr>\n",
       "      <th>114</th>\n",
       "      <td>115</td>\n",
       "      <td>Moscovium</td>\n",
       "      <td>Mc</td>\n",
       "      <td>288.0</td>\n",
       "      <td>173</td>\n",
       "      <td>115</td>\n",
       "      <td>115</td>\n",
       "      <td>7</td>\n",
       "      <td>15.0</td>\n",
       "      <td>artificial</td>\n",
       "      <td>...</td>\n",
       "      <td>NaN</td>\n",
       "      <td>NaN</td>\n",
       "      <td>NaN</td>\n",
       "      <td>NaN</td>\n",
       "      <td>NaN</td>\n",
       "      <td>NaN</td>\n",
       "      <td>2010.0</td>\n",
       "      <td>NaN</td>\n",
       "      <td>7</td>\n",
       "      <td>5.0</td>\n",
       "    </tr>\n",
       "    <tr>\n",
       "      <th>115</th>\n",
       "      <td>116</td>\n",
       "      <td>Livermorium</td>\n",
       "      <td>Lv</td>\n",
       "      <td>292.0</td>\n",
       "      <td>176</td>\n",
       "      <td>116</td>\n",
       "      <td>116</td>\n",
       "      <td>7</td>\n",
       "      <td>16.0</td>\n",
       "      <td>artificial</td>\n",
       "      <td>...</td>\n",
       "      <td>NaN</td>\n",
       "      <td>NaN</td>\n",
       "      <td>NaN</td>\n",
       "      <td>NaN</td>\n",
       "      <td>NaN</td>\n",
       "      <td>NaN</td>\n",
       "      <td>2000.0</td>\n",
       "      <td>NaN</td>\n",
       "      <td>7</td>\n",
       "      <td>6.0</td>\n",
       "    </tr>\n",
       "    <tr>\n",
       "      <th>116</th>\n",
       "      <td>117</td>\n",
       "      <td>Tennessine</td>\n",
       "      <td>Ts</td>\n",
       "      <td>295.0</td>\n",
       "      <td>178</td>\n",
       "      <td>117</td>\n",
       "      <td>117</td>\n",
       "      <td>7</td>\n",
       "      <td>17.0</td>\n",
       "      <td>artificial</td>\n",
       "      <td>...</td>\n",
       "      <td>NaN</td>\n",
       "      <td>NaN</td>\n",
       "      <td>NaN</td>\n",
       "      <td>NaN</td>\n",
       "      <td>NaN</td>\n",
       "      <td>NaN</td>\n",
       "      <td>2010.0</td>\n",
       "      <td>NaN</td>\n",
       "      <td>7</td>\n",
       "      <td>7.0</td>\n",
       "    </tr>\n",
       "    <tr>\n",
       "      <th>117</th>\n",
       "      <td>118</td>\n",
       "      <td>Oganesson</td>\n",
       "      <td>Og</td>\n",
       "      <td>294.0</td>\n",
       "      <td>176</td>\n",
       "      <td>118</td>\n",
       "      <td>118</td>\n",
       "      <td>7</td>\n",
       "      <td>18.0</td>\n",
       "      <td>artificial</td>\n",
       "      <td>...</td>\n",
       "      <td>NaN</td>\n",
       "      <td>NaN</td>\n",
       "      <td>NaN</td>\n",
       "      <td>NaN</td>\n",
       "      <td>NaN</td>\n",
       "      <td>NaN</td>\n",
       "      <td>2006.0</td>\n",
       "      <td>NaN</td>\n",
       "      <td>7</td>\n",
       "      <td>8.0</td>\n",
       "    </tr>\n",
       "  </tbody>\n",
       "</table>\n",
       "<p>5 rows × 28 columns</p>\n",
       "</div>"
      ],
      "text/plain": [
       "     AtomicNumber      Element Symbol  AtomicMass  NumberofNeutrons  \\\n",
       "113           114    Flerovium     Fl       289.0               175   \n",
       "114           115    Moscovium     Mc       288.0               173   \n",
       "115           116  Livermorium     Lv       292.0               176   \n",
       "116           117   Tennessine     Ts       295.0               178   \n",
       "117           118    Oganesson     Og       294.0               176   \n",
       "\n",
       "     NumberofProtons  NumberofElectrons  Period  Group       Phase  ...  \\\n",
       "113              114                114       7   14.0  artificial  ...   \n",
       "114              115                115       7   15.0  artificial  ...   \n",
       "115              116                116       7   16.0  artificial  ...   \n",
       "116              117                117       7   17.0  artificial  ...   \n",
       "117              118                118       7   18.0  artificial  ...   \n",
       "\n",
       "    FirstIonization Density MeltingPoint BoilingPoint NumberOfIsotopes  \\\n",
       "113             NaN     NaN          NaN          NaN              NaN   \n",
       "114             NaN     NaN          NaN          NaN              NaN   \n",
       "115             NaN     NaN          NaN          NaN              NaN   \n",
       "116             NaN     NaN          NaN          NaN              NaN   \n",
       "117             NaN     NaN          NaN          NaN              NaN   \n",
       "\n",
       "    Discoverer    Year  SpecificHeat  NumberofShells  NumberofValence  \n",
       "113        NaN  1999.0           NaN               7              4.0  \n",
       "114        NaN  2010.0           NaN               7              5.0  \n",
       "115        NaN  2000.0           NaN               7              6.0  \n",
       "116        NaN  2010.0           NaN               7              7.0  \n",
       "117        NaN  2006.0           NaN               7              8.0  \n",
       "\n",
       "[5 rows x 28 columns]"
      ]
     },
     "execution_count": 7,
     "metadata": {},
     "output_type": "execute_result"
    }
   ],
   "source": [
    "df.tail()"
   ]
  },
  {
   "cell_type": "code",
   "execution_count": 8,
   "metadata": {},
   "outputs": [
    {
     "data": {
      "text/plain": [
       "(118, 28)"
      ]
     },
     "execution_count": 8,
     "metadata": {},
     "output_type": "execute_result"
    }
   ],
   "source": [
    "df.shape"
   ]
  },
  {
   "cell_type": "markdown",
   "metadata": {},
   "source": [
    "We can use this to try some of our plotting functions. We will start with two variables in the datasets, AtomicNumber and Density. \n",
    "\n",
    "First of all, we notice there are some missing density data. We would like to drop rows with missing data in Density column:"
   ]
  },
  {
   "cell_type": "code",
   "execution_count": 9,
   "metadata": {},
   "outputs": [],
   "source": [
    "df_d = df.dropna(subset=['Density'])"
   ]
  },
  {
   "cell_type": "code",
   "execution_count": 10,
   "metadata": {},
   "outputs": [
    {
     "data": {
      "text/plain": [
       "(105, 28)"
      ]
     },
     "execution_count": 10,
     "metadata": {},
     "output_type": "execute_result"
    }
   ],
   "source": [
    "df_d.shape"
   ]
  },
  {
   "cell_type": "markdown",
   "metadata": {},
   "source": [
    "#### 1.2 Pandas built-in object-oriented plotting methods\n",
    "\n",
    "There are multiple packages we can use for plotting. Pandas has some built-in object-oriented methods we can try first.\n",
    "\n",
    "*Here are some simple and quick examples:* https://www.w3schools.com/python/pandas/pandas_plotting.asp"
   ]
  },
  {
   "cell_type": "code",
   "execution_count": 11,
   "metadata": {},
   "outputs": [
    {
     "data": {
      "text/plain": [
       "<AxesSubplot:xlabel='AtomicNumber', ylabel='Density'>"
      ]
     },
     "execution_count": 11,
     "metadata": {},
     "output_type": "execute_result"
    },
    {
     "data": {
      "image/png": "[encoded data removed]",
      "text/plain": [
       "<Figure size 432x288 with 1 Axes>"
      ]
     },
     "metadata": {
      "needs_background": "light"
     },
     "output_type": "display_data"
    }
   ],
   "source": [
    "df_d.plot.scatter('AtomicNumber', 'Density')"
   ]
  },
  {
   "cell_type": "markdown",
   "metadata": {},
   "source": [
    "The default plot settings are pretty ugly. We can take advantage of the object-oriented nature of pandas plots to modify the output, like adding a title, adding gridlines, making the y-axis label more accurate, increasing size, and adjusting the aspect ratio."
   ]
  },
  {
   "cell_type": "code",
   "execution_count": 12,
   "metadata": {},
   "outputs": [
    {
     "data": {
      "image/png": "[encoded data removed]",
      "text/plain": [
       "<Figure size 432x432 with 1 Axes>"
      ]
     },
     "metadata": {
      "needs_background": "light"
     },
     "output_type": "display_data"
    }
   ],
   "source": [
    "density_plot = df_d.plot.scatter('AtomicNumber', 'Density', figsize=(6, 6))\n",
    "density_plot.set_xlabel('Atomic Number')\n",
    "density_plot.set_ylabel('Density $(g/cm^3)$')\n",
    "density_plot.set_title('Density vs. Atomic number')\n",
    "density_plot.grid()"
   ]
  },
  {
   "cell_type": "markdown",
   "metadata": {},
   "source": [
    "Here we used LaTeX notation to create the unit of density. LaTeX can be used to generate mathematical expressions, symbols, and Greek letters for figures. One reference guide is included here: https://www.overleaf.com/learn/latex/Mathematical_expressions"
   ]
  },
  {
   "cell_type": "markdown",
   "metadata": {},
   "source": [
    "#### Exercise 1: Generate a single figure that reflects the following changes to the figure above: \n",
    "* change the x range to be 0 to 120\n",
    "* change the y range to be 0 to 45\n",
    "* change the font size to 16\n",
    "* change the color of plotting to red.\n",
    "\n",
    "You can access the Pandas documentation [here](https://pandas.pydata.org/pandas-docs/stable/visualization.html)."
   ]
  },
  {
   "cell_type": "code",
   "execution_count": 13,
   "metadata": {},
   "outputs": [
    {
     "data": {
      "image/png": "[encoded data removed]",
      "text/plain": [
       "<Figure size 432x432 with 1 Axes>"
      ]
     },
     "metadata": {
      "needs_background": "light"
     },
     "output_type": "display_data"
    }
   ],
   "source": [
    "density_plot = df_d.plot.scatter('AtomicNumber', 'Density', figsize=(6, 6),color ='red', fontsize=16)\n",
    "density_plot.set_xlabel('Atomic Number',fontdict={'fontsize':16})\n",
    "density_plot.set_ylabel('Density $(g/cm^3)$',fontdict={'fontsize':16})\n",
    "density_plot.set_title('Density vs. Atomic number',fontdict={'fontsize':16})\n",
    "density_plot.set_xlim([0,120])\n",
    "density_plot.set_ylim([0,45])\n",
    "density_plot.grid()"
   ]
  },
  {
   "cell_type": "markdown",
   "metadata": {},
   "source": [
    "### 2. Matplotlib"
   ]
  },
  {
   "cell_type": "markdown",
   "metadata": {},
   "source": [
    "Matplotlib is a multi-platform data visualization library built on NumPy arrays, and designed to work with the broader SciPy stack. "
   ]
  },
  {
   "cell_type": "markdown",
   "metadata": {},
   "source": [
    "#### 2.1 MATLAB-style Interface: Pyplot (``plt``)\n",
    "\n",
    "*Simple Matplotlib and Pyplot tutorial (recommended for those not already familiar with these): https://matplotlib.org/stable/tutorials/introductory/quick_start.html*\n",
    "\n",
    "#### We'll use Matplotlib to plot MeltingPoint and BoilingPoint vs. AtomicNumber in the same figure."
   ]
  },
  {
   "cell_type": "code",
   "execution_count": 14,
   "metadata": {},
   "outputs": [
    {
     "data": {
      "text/plain": [
       "(97, 28)"
      ]
     },
     "execution_count": 14,
     "metadata": {},
     "output_type": "execute_result"
    }
   ],
   "source": [
    "# drop rows with missing data in either MeltingPoint or BoilingPoint\n",
    "df_mb = df.dropna(subset=['MeltingPoint', 'BoilingPoint'])\n",
    "df_mb.shape"
   ]
  },
  {
   "cell_type": "code",
   "execution_count": 15,
   "metadata": {},
   "outputs": [
    {
     "data": {
      "text/plain": [
       "Text(0.5, 1.0, 'Melting & Boiling Point vs. Atomic Number')"
      ]
     },
     "execution_count": 15,
     "metadata": {},
     "output_type": "execute_result"
    },
    {
     "data": {
      "image/png": "[encoded data removed]",
      "text/plain": [
       "<Figure size 432x432 with 1 Axes>"
      ]
     },
     "metadata": {
      "needs_background": "light"
     },
     "output_type": "display_data"
    }
   ],
   "source": [
    "fig1 = plt.figure(figsize=(6, 6))\n",
    "plt.plot(df_mb['AtomicNumber'], df_mb['MeltingPoint'], \n",
    "         '-o', label='Melting Point', color='r', linewidth=1, \n",
    "         markerfacecolor='white', markeredgecolor='r') # Adjust line/marker colors and styles; label each line\n",
    "plt.plot(df_mb['AtomicNumber'], df_mb['BoilingPoint'], \n",
    "         '-s', label='Boiling Point', color='b', linewidth=1, \n",
    "         markerfacecolor='white', markeredgecolor='b')\n",
    "plt.xlim(0, 100) # Adjust axes limits\n",
    "plt.ylim(0, 7000)\n",
    "plt.xlabel('Atomic Number', fontsize=14) # Add axes labels\n",
    "plt.ylabel('$T$ (K)', fontsize=14)\n",
    "plt.legend(loc='upper left', fontsize=12, frameon=False, ncol=2) # Create and customize plot legend\n",
    "plt.title('Melting & Boiling Point vs. Atomic Number', fontsize=16, pad=20) # Add a title"
   ]
  },
  {
   "cell_type": "markdown",
   "metadata": {},
   "source": [
    "One nice feature of Matplotlib is the ability to save figures in a wide variety of formats using the ``savefig()`` command. For example, to save the above figure as a PNG file in current directory. *Please see Supplementary Material 1 at the bottom of this Notebook for a quick demonstration on file paths.*"
   ]
  },
  {
   "cell_type": "code",
   "execution_count": 16,
   "metadata": {},
   "outputs": [],
   "source": [
    "fig1.savefig('figure1fig.png')"
   ]
  },
  {
   "cell_type": "markdown",
   "metadata": {},
   "source": [
    "To find out more information about ``plot()`` function, take a look at the built-in documentation for it."
   ]
  },
  {
   "cell_type": "code",
   "execution_count": 17,
   "metadata": {},
   "outputs": [
    {
     "data": {
      "text/plain": [
       "\u001b[0;31mSignature:\u001b[0m \u001b[0mplt\u001b[0m\u001b[0;34m.\u001b[0m\u001b[0mplot\u001b[0m\u001b[0;34m(\u001b[0m\u001b[0;34m*\u001b[0m\u001b[0margs\u001b[0m\u001b[0;34m,\u001b[0m \u001b[0mscalex\u001b[0m\u001b[0;34m=\u001b[0m\u001b[0;32mTrue\u001b[0m\u001b[0;34m,\u001b[0m \u001b[0mscaley\u001b[0m\u001b[0;34m=\u001b[0m\u001b[0;32mTrue\u001b[0m\u001b[0;34m,\u001b[0m \u001b[0mdata\u001b[0m\u001b[0;34m=\u001b[0m\u001b[0;32mNone\u001b[0m\u001b[0;34m,\u001b[0m \u001b[0;34m**\u001b[0m\u001b[0mkwargs\u001b[0m\u001b[0;34m)\u001b[0m\u001b[0;34m\u001b[0m\u001b[0;34m\u001b[0m\u001b[0m\n",
       "\u001b[0;31mDocstring:\u001b[0m\n",
       "Plot y versus x as lines and/or markers.\n",
       "\n",
       "Call signatures::\n",
       "\n",
       "    plot([x], y, [fmt], *, data=None, **kwargs)\n",
       "    plot([x], y, [fmt], [x2], y2, [fmt2], ..., **kwargs)\n",
       "\n",
       "The coordinates of the points or line nodes are given by *x*, *y*.\n",
       "\n",
       "The optional parameter *fmt* is a convenient way for defining basic\n",
       "formatting like color, marker and linestyle. It's a shortcut string\n",
       "notation described in the *Notes* section below.\n",
       "\n",
       ">>> plot(x, y)        # plot x and y using default line style and color\n",
       ">>> plot(x, y, 'bo')  # plot x and y using blue circle markers\n",
       ">>> plot(y)           # plot y using x as index array 0..N-1\n",
       ">>> plot(y, 'r+')     # ditto, but with red plusses\n",
       "\n",
       "You can use `.Line2D` properties as keyword arguments for more\n",
       "control on the appearance. Line properties and *fmt* can be mixed.\n",
       "The following two calls yield identical results:\n",
       "\n",
       ">>> plot(x, y, 'go--', linewidth=2, markersize=12)\n",
       ">>> plot(x, y, color='green', marker='o', linestyle='dashed',\n",
       "...      linewidth=2, markersize=12)\n",
       "\n",
       "When conflicting with *fmt*, keyword arguments take precedence.\n",
       "\n",
       "\n",
       "**Plotting labelled data**\n",
       "\n",
       "There's a convenient way for plotting objects with labelled data (i.e.\n",
       "data that can be accessed by index ``obj['y']``). Instead of giving\n",
       "the data in *x* and *y*, you can provide the object in the *data*\n",
       "parameter and just give the labels for *x* and *y*::\n",
       "\n",
       ">>> plot('xlabel', 'ylabel', data=obj)\n",
       "\n",
       "All indexable objects are supported. This could e.g. be a `dict`, a\n",
       "`pandas.DataFrame` or a structured numpy array.\n",
       "\n",
       "\n",
       "**Plotting multiple sets of data**\n",
       "\n",
       "There are various ways to plot multiple sets of data.\n",
       "\n",
       "- The most straight forward way is just to call `plot` multiple times.\n",
       "  Example:\n",
       "\n",
       "  >>> plot(x1, y1, 'bo')\n",
       "  >>> plot(x2, y2, 'go')\n",
       "\n",
       "- If *x* and/or *y* are 2D arrays a separate data set will be drawn\n",
       "  for every column. If both *x* and *y* are 2D, they must have the\n",
       "  same shape. If only one of them is 2D with shape (N, m) the other\n",
       "  must have length N and will be used for every data set m.\n",
       "\n",
       "  Example:\n",
       "\n",
       "  >>> x = [1, 2, 3]\n",
       "  >>> y = np.array([[1, 2], [3, 4], [5, 6]])\n",
       "  >>> plot(x, y)\n",
       "\n",
       "  is equivalent to:\n",
       "\n",
       "  >>> for col in range(y.shape[1]):\n",
       "  ...     plot(x, y[:, col])\n",
       "\n",
       "- The third way is to specify multiple sets of *[x]*, *y*, *[fmt]*\n",
       "  groups::\n",
       "\n",
       "  >>> plot(x1, y1, 'g^', x2, y2, 'g-')\n",
       "\n",
       "  In this case, any additional keyword argument applies to all\n",
       "  datasets. Also this syntax cannot be combined with the *data*\n",
       "  parameter.\n",
       "\n",
       "By default, each line is assigned a different style specified by a\n",
       "'style cycle'. The *fmt* and line property parameters are only\n",
       "necessary if you want explicit deviations from these defaults.\n",
       "Alternatively, you can also change the style cycle using\n",
       ":rc:`axes.prop_cycle`.\n",
       "\n",
       "\n",
       "Parameters\n",
       "----------\n",
       "x, y : array-like or scalar\n",
       "    The horizontal / vertical coordinates of the data points.\n",
       "    *x* values are optional and default to ``range(len(y))``.\n",
       "\n",
       "    Commonly, these parameters are 1D arrays.\n",
       "\n",
       "    They can also be scalars, or two-dimensional (in that case, the\n",
       "    columns represent separate data sets).\n",
       "\n",
       "    These arguments cannot be passed as keywords.\n",
       "\n",
       "fmt : str, optional\n",
       "    A format string, e.g. 'ro' for red circles. See the *Notes*\n",
       "    section for a full description of the format strings.\n",
       "\n",
       "    Format strings are just an abbreviation for quickly setting\n",
       "    basic line properties. All of these and more can also be\n",
       "    controlled by keyword arguments.\n",
       "\n",
       "    This argument cannot be passed as keyword.\n",
       "\n",
       "data : indexable object, optional\n",
       "    An object with labelled data. If given, provide the label names to\n",
       "    plot in *x* and *y*.\n",
       "\n",
       "    .. note::\n",
       "        Technically there's a slight ambiguity in calls where the\n",
       "        second label is a valid *fmt*. ``plot('n', 'o', data=obj)``\n",
       "        could be ``plt(x, y)`` or ``plt(y, fmt)``. In such cases,\n",
       "        the former interpretation is chosen, but a warning is issued.\n",
       "        You may suppress the warning by adding an empty format string\n",
       "        ``plot('n', 'o', '', data=obj)``.\n",
       "\n",
       "Returns\n",
       "-------\n",
       "list of `.Line2D`\n",
       "    A list of lines representing the plotted data.\n",
       "\n",
       "Other Parameters\n",
       "----------------\n",
       "scalex, scaley : bool, default: True\n",
       "    These parameters determine if the view limits are adapted to the\n",
       "    data limits. The values are passed on to `autoscale_view`.\n",
       "\n",
       "**kwargs : `.Line2D` properties, optional\n",
       "    *kwargs* are used to specify properties like a line label (for\n",
       "    auto legends), linewidth, antialiasing, marker face color.\n",
       "    Example::\n",
       "\n",
       "    >>> plot([1, 2, 3], [1, 2, 3], 'go-', label='line 1', linewidth=2)\n",
       "    >>> plot([1, 2, 3], [1, 4, 9], 'rs', label='line 2')\n",
       "\n",
       "    If you specify multiple lines with one plot call, the kwargs apply\n",
       "    to all those lines. In case the label object is iterable, each\n",
       "    element is used as labels for each set of data.\n",
       "\n",
       "    Here is a list of available `.Line2D` properties:\n",
       "\n",
       "    Properties:\n",
       "    agg_filter: a filter function, which takes a (m, n, 3) float array and a dpi value, and returns a (m, n, 3) array\n",
       "    alpha: scalar or None\n",
       "    animated: bool\n",
       "    antialiased or aa: bool\n",
       "    clip_box: `.Bbox`\n",
       "    clip_on: bool\n",
       "    clip_path: Patch or (Path, Transform) or None\n",
       "    color or c: color\n",
       "    contains: unknown\n",
       "    dash_capstyle: `.CapStyle` or {'butt', 'projecting', 'round'}\n",
       "    dash_joinstyle: `.JoinStyle` or {'miter', 'round', 'bevel'}\n",
       "    dashes: sequence of floats (on/off ink in points) or (None, None)\n",
       "    data: (2, N) array or two 1D arrays\n",
       "    drawstyle or ds: {'default', 'steps', 'steps-pre', 'steps-mid', 'steps-post'}, default: 'default'\n",
       "    figure: `.Figure`\n",
       "    fillstyle: {'full', 'left', 'right', 'bottom', 'top', 'none'}\n",
       "    gid: str\n",
       "    in_layout: bool\n",
       "    label: object\n",
       "    linestyle or ls: {'-', '--', '-.', ':', '', (offset, on-off-seq), ...}\n",
       "    linewidth or lw: float\n",
       "    marker: marker style string, `~.path.Path` or `~.markers.MarkerStyle`\n",
       "    markeredgecolor or mec: color\n",
       "    markeredgewidth or mew: float\n",
       "    markerfacecolor or mfc: color\n",
       "    markerfacecoloralt or mfcalt: color\n",
       "    markersize or ms: float\n",
       "    markevery: None or int or (int, int) or slice or list[int] or float or (float, float) or list[bool]\n",
       "    path_effects: `.AbstractPathEffect`\n",
       "    picker: float or callable[[Artist, Event], tuple[bool, dict]]\n",
       "    pickradius: float\n",
       "    rasterized: bool\n",
       "    sketch_params: (scale: float, length: float, randomness: float)\n",
       "    snap: bool or None\n",
       "    solid_capstyle: `.CapStyle` or {'butt', 'projecting', 'round'}\n",
       "    solid_joinstyle: `.JoinStyle` or {'miter', 'round', 'bevel'}\n",
       "    transform: `matplotlib.transforms.Transform`\n",
       "    url: str\n",
       "    visible: bool\n",
       "    xdata: 1D array\n",
       "    ydata: 1D array\n",
       "    zorder: float\n",
       "\n",
       "See Also\n",
       "--------\n",
       "scatter : XY scatter plot with markers of varying size and/or color (\n",
       "    sometimes also called bubble chart).\n",
       "\n",
       "Notes\n",
       "-----\n",
       "**Format Strings**\n",
       "\n",
       "A format string consists of a part for color, marker and line::\n",
       "\n",
       "    fmt = '[marker][line][color]'\n",
       "\n",
       "Each of them is optional. If not provided, the value from the style\n",
       "cycle is used. Exception: If ``line`` is given, but no ``marker``,\n",
       "the data will be a line without markers.\n",
       "\n",
       "Other combinations such as ``[color][marker][line]`` are also\n",
       "supported, but note that their parsing may be ambiguous.\n",
       "\n",
       "**Markers**\n",
       "\n",
       "=============   ===============================\n",
       "character       description\n",
       "=============   ===============================\n",
       "``'.'``         point marker\n",
       "``','``         pixel marker\n",
       "``'o'``         circle marker\n",
       "``'v'``         triangle_down marker\n",
       "``'^'``         triangle_up marker\n",
       "``'<'``         triangle_left marker\n",
       "``'>'``         triangle_right marker\n",
       "``'1'``         tri_down marker\n",
       "``'2'``         tri_up marker\n",
       "``'3'``         tri_left marker\n",
       "``'4'``         tri_right marker\n",
       "``'8'``         octagon marker\n",
       "``'s'``         square marker\n",
       "``'p'``         pentagon marker\n",
       "``'P'``         plus (filled) marker\n",
       "``'*'``         star marker\n",
       "``'h'``         hexagon1 marker\n",
       "``'H'``         hexagon2 marker\n",
       "``'+'``         plus marker\n",
       "``'x'``         x marker\n",
       "``'X'``         x (filled) marker\n",
       "``'D'``         diamond marker\n",
       "``'d'``         thin_diamond marker\n",
       "``'|'``         vline marker\n",
       "``'_'``         hline marker\n",
       "=============   ===============================\n",
       "\n",
       "**Line Styles**\n",
       "\n",
       "=============    ===============================\n",
       "character        description\n",
       "=============    ===============================\n",
       "``'-'``          solid line style\n",
       "``'--'``         dashed line style\n",
       "``'-.'``         dash-dot line style\n",
       "``':'``          dotted line style\n",
       "=============    ===============================\n",
       "\n",
       "Example format strings::\n",
       "\n",
       "    'b'    # blue markers with default shape\n",
       "    'or'   # red circles\n",
       "    '-g'   # green solid line\n",
       "    '--'   # dashed line with default color\n",
       "    '^k:'  # black triangle_up markers connected by a dotted line\n",
       "\n",
       "**Colors**\n",
       "\n",
       "The supported color abbreviations are the single letter codes\n",
       "\n",
       "=============    ===============================\n",
       "character        color\n",
       "=============    ===============================\n",
       "``'b'``          blue\n",
       "``'g'``          green\n",
       "``'r'``          red\n",
       "``'c'``          cyan\n",
       "``'m'``          magenta\n",
       "``'y'``          yellow\n",
       "``'k'``          black\n",
       "``'w'``          white\n",
       "=============    ===============================\n",
       "\n",
       "and the ``'CN'`` colors that index into the default property cycle.\n",
       "\n",
       "If the color is the only part of the format string, you can\n",
       "additionally use any  `matplotlib.colors` spec, e.g. full names\n",
       "(``'green'``) or hex strings (``'#008000'``).\n",
       "\u001b[0;31mFile:\u001b[0m      /opt/conda/lib/python3.9/site-packages/matplotlib/pyplot.py\n",
       "\u001b[0;31mType:\u001b[0m      function\n"
      ]
     },
     "metadata": {},
     "output_type": "display_data"
    }
   ],
   "source": [
    "plt.plot?"
   ]
  },
  {
   "cell_type": "markdown",
   "metadata": {},
   "source": [
    "#### A simple way to plot 3D data by varying the size/color of the points with z:"
   ]
  },
  {
   "cell_type": "code",
   "execution_count": 18,
   "metadata": {},
   "outputs": [
    {
     "data": {
      "image/png": "[encoded data removed]",
      "text/plain": [
       "<Figure size 864x432 with 2 Axes>"
      ]
     },
     "metadata": {
      "needs_background": "light"
     },
     "output_type": "display_data"
    }
   ],
   "source": [
    "# plot Period-Group-Density, with the size of the points propotional to density.\n",
    "plt.figure(figsize=(12, 6))\n",
    "plt.scatter(df_d['Group'], df_d['Period'], \n",
    "            s=df_d['Density']*50, c=df_d['Density'], cmap='rainbow',edgecolor='white')\n",
    "plt.xlim(0, df_d['Group'].max())\n",
    "plt.ylim( 0,df_d['Period'].max()+1)\n",
    "plt.xlabel('Group', fontsize=14)\n",
    "plt.ylabel('Period', fontsize=14)\n",
    "plt.colorbar(label='Density $g/cm^3$')\n",
    "#plt.savefig('figure1fig.png')\n",
    "plt.grid()"
   ]
  },
  {
   "cell_type": "markdown",
   "metadata": {},
   "source": [
    "#### Use MATLAB-style interface to plot MeltingPoint and BoilingPoint vs. AtomicNumber in two subplots:"
   ]
  },
  {
   "cell_type": "code",
   "execution_count": 19,
   "metadata": {},
   "outputs": [
    {
     "data": {
      "image/png": "[encoded data removed]",
      "text/plain": [
       "<Figure size 432x864 with 2 Axes>"
      ]
     },
     "metadata": {
      "needs_background": "light"
     },
     "output_type": "display_data"
    }
   ],
   "source": [
    "# create a plot figure\n",
    "plt.figure(figsize=(6, 12))\n",
    "\n",
    "# create the first of two panels and set current axis\n",
    "plt.subplot(2, 1, 1) # (rows, columns, panel number)\n",
    "plt.scatter(df_mb['AtomicNumber'], df_mb['MeltingPoint'], alpha=0.5)\n",
    "plt.xlabel('Atomic Number')\n",
    "plt.ylabel('$T$ (K)')\n",
    "\n",
    "# create the second panel and set current axis\n",
    "plt.subplot(2, 1, 2)\n",
    "plt.scatter(df_mb['AtomicNumber'], df_mb['BoilingPoint'], alpha=0.5)\n",
    "plt.xlabel('Atomic Number')\n",
    "plt.ylabel('$T$ (K)')\n",
    "\n",
    "plt.show()"
   ]
  },
  {
   "cell_type": "markdown",
   "metadata": {},
   "source": [
    "It is important to note that this interface keeps track of the \"current\" figure and axes, which are where all plt commands are applied. While this stateful interface is fast and convenient for simple plots, it is easy to run into problems. For example, once the second panel is created, going back and adding something to the first panel will be a bit clunky. Fortunately, there is a better way - the object-oriented interface."
   ]
  },
  {
   "cell_type": "markdown",
   "metadata": {},
   "source": [
    "#### Exercise 2: Improve the above subplots with MATLAB-style interface: Change the range of x and y axes, add titles, increase font size, change colors and transparency, and change the margins and layout so they are side by side in a single row. Optional: Feel free to make other improvements! "
   ]
  },
  {
   "cell_type": "code",
   "execution_count": 20,
   "metadata": {},
   "outputs": [
    {
     "data": {
      "text/plain": [
       "(97,)"
      ]
     },
     "execution_count": 20,
     "metadata": {},
     "output_type": "execute_result"
    }
   ],
   "source": [
    "df_mb['MeltingPoint'].shape"
   ]
  },
  {
   "cell_type": "code",
   "execution_count": 21,
   "metadata": {},
   "outputs": [
    {
     "data": {
      "image/png": "[encoded data removed]",
      "text/plain": [
       "<Figure size 864x432 with 2 Axes>"
      ]
     },
     "metadata": {
      "needs_background": "light"
     },
     "output_type": "display_data"
    }
   ],
   "source": [
    "rng = np.random.RandomState(0)\n",
    "colors = rng.rand(97)\n",
    "# create a plot figure\n",
    "plt.figure(figsize=(12, 6))\n",
    "\n",
    "# create the first of two panels and set current axis\n",
    "plt.subplot(1, 2, 1) # (rows, columns, panel number)\n",
    "plt.scatter(df_mb['AtomicNumber'], df_mb['MeltingPoint'], alpha=0.4,color='red')\n",
    "plt.xlabel('Atomic Number')\n",
    "plt.ylim(-100,4000)\n",
    "plt.ylabel('$T$ (K)')\n",
    "plt.title('Plot of Melting Point against Atomic Number',fontsize = 13)\n",
    "\n",
    "# create the second panel and set current axis\n",
    "plt.subplot(1, 2, 2)\n",
    "plt.scatter(df_mb['AtomicNumber'], df_mb['BoilingPoint'],c=df_mb['BoilingPoint'],cmap='viridis')\n",
    "#plt.colorbar(label=\"T(K)\", orientation=\"vertical\")\n",
    "plt.xlabel('Atomic Number')\n",
    "plt.ylim(-100,6000)\n",
    "plt.ylabel('$T$ (K)')\n",
    "#plt.yticks([])\n",
    "plt.title('Plot of Boiling Point against Atomic Number',fontsize = 13)\n",
    "\n",
    "plt.show()"
   ]
  },
  {
   "cell_type": "markdown",
   "metadata": {},
   "source": [
    "#### 2.2 Object-oriented Interface: ``Figure`` and ``Axes``\n",
    "\n",
    "The object-oriented interface works well with those more complicated situations. Rather than depending on some notion of an \"active\" figure or axes, in the object-oriented interface the plotting functions are methods of explicit ``Figure`` and ``Axes`` objects.\n",
    "\n",
    "#### Next, we'll use object-oriented interface to plot MeltingPoint and BoilingPoint vs. AtomicNumber in two subplots."
   ]
  },
  {
   "cell_type": "code",
   "execution_count": 22,
   "metadata": {},
   "outputs": [
    {
     "data": {
      "image/png": "[encoded data removed]",
      "text/plain": [
       "<Figure size 432x864 with 2 Axes>"
      ]
     },
     "metadata": {
      "needs_background": "light"
     },
     "output_type": "display_data"
    }
   ],
   "source": [
    "m_b_plot = plt.figure(figsize=(6, 12))\n",
    "m_b_plot.subplots_adjust(hspace=0.2, wspace=0.2)\n",
    "ax1, ax2 = m_b_plot.add_subplot(2, 1, 1), m_b_plot.add_subplot(2, 1, 2)\n",
    "\n",
    "ax1.scatter(df_mb['AtomicNumber'], df_mb['MeltingPoint'], alpha=0.5)\n",
    "ax1.set_xlabel('Atomic Number')\n",
    "ax1.set_ylabel('$T$ (K)')\n",
    "\n",
    "ax2.scatter(df_mb['AtomicNumber'], df_mb['BoilingPoint'], alpha=0.5)\n",
    "ax2.set_xlabel('Atomic Number')\n",
    "ax2.set_ylabel('$T$ (K)');"
   ]
  },
  {
   "cell_type": "markdown",
   "metadata": {},
   "source": [
    "#### Alternatively, ``plt.subplots()`` can create a large grid of subplots in one go (note the ``s`` at the end of ``subplots``).\n",
    "\n",
    "Also, use the ``axes.set()`` method to set  limits, labels, and titles at once."
   ]
  },
  {
   "cell_type": "code",
   "execution_count": 23,
   "metadata": {},
   "outputs": [
    {
     "data": {
      "image/png": "[encoded data removed]",
      "text/plain": [
       "<Figure size 432x864 with 2 Axes>"
      ]
     },
     "metadata": {
      "needs_background": "light"
     },
     "output_type": "display_data"
    }
   ],
   "source": [
    "fig, axes = plt.subplots(2, 1, sharex='col', sharey='row', figsize=(6, 12))\n",
    "\n",
    "axes[0].scatter(df_mb['AtomicNumber'], df_mb['MeltingPoint'], alpha=0.5)\n",
    "axes[0].set(xlabel='Atomic Number', ylabel='$T$ (K)')\n",
    "\n",
    "axes[1].scatter(df_mb['AtomicNumber'], df_mb['BoilingPoint'], alpha=0.5)\n",
    "axes[1].set(xlabel='Atomic Number', ylabel='$T$ (K)');"
   ]
  },
  {
   "cell_type": "markdown",
   "metadata": {},
   "source": [
    "#### Exercise 3: Improve the above subplots with object-oriented interface: Change the range of x and y axes, add titles, increase font size, change colors and transparency, and change the margins and layout so they are side by side in a row. Optional: Feel free to make other improvements! "
   ]
  },
  {
   "cell_type": "code",
   "execution_count": 26,
   "metadata": {},
   "outputs": [
    {
     "data": {
      "image/png": "[encoded data removed]",
      "text/plain": [
       "<Figure size 864x432 with 2 Axes>"
      ]
     },
     "metadata": {
      "needs_background": "light"
     },
     "output_type": "display_data"
    }
   ],
   "source": [
    "fig, axes = plt.subplots(1, 2, sharex='col', sharey='row', figsize=(12, 6))\n",
    "\n",
    "plt.rc('axes', titlesize=1)     # fontsize of the axes title\n",
    "plt.rc('axes', labelsize=10)    # fontsize of the x and y labels\n",
    "\n",
    "axes[0].scatter(df_mb['AtomicNumber'], df_mb['MeltingPoint'], alpha=0.3,color='magenta')\n",
    "axes[0].set(xlabel='Atomic Number', ylabel='$T$ (K)',title = 'Melting point vs atomic number plot')\n",
    "\n",
    "\n",
    "axes[1].scatter(df_mb['AtomicNumber'], df_mb['BoilingPoint'], alpha=0.7,color='red')\n",
    "axes[1].set(xlabel='Atomic Number', ylabel='$T$ (K)',title = 'Boiling point vs atomic number plot');"
   ]
  },
  {
   "cell_type": "markdown",
   "metadata": {},
   "source": [
    "#### 2.3 Density and Contour Plots\n",
    "\n",
    "Sometimes it is useful to display three-dimensional data in two dimensions using contours or color-coded regions. There are three Matplotlib functions that can be helpful for this task: ``plt.contour`` for contour plots, ``plt.contourf`` for filled contour plots, and ``plt.imshow`` for showing images.\n",
    "\n"
   ]
  },
  {
   "cell_type": "code",
   "execution_count": 49,
   "metadata": {},
   "outputs": [],
   "source": [
    "def f(x, y):\n",
    "    return np.sin(x) + np.cos(x*y)"
   ]
  },
  {
   "cell_type": "code",
   "execution_count": 94,
   "metadata": {},
   "outputs": [
    {
     "data": {
      "image/png": "[encoded data removed]",
      "text/plain": [
       "<Figure size 432x288 with 2 Axes>"
      ]
     },
     "metadata": {
      "needs_background": "light"
     },
     "output_type": "display_data"
    }
   ],
   "source": [
    "x = np.linspace(0, 5, 50)\n",
    "y = np.linspace(0, 5, 50)\n",
    "\n",
    "X, Y = np.meshgrid(x, y)\n",
    "Z = f(X, Y)\n",
    "plt.contourf(X, Y, Z, 20, cmap='RdGy')\n",
    "plt.colorbar();"
   ]
  },
  {
   "cell_type": "markdown",
   "metadata": {},
   "source": [
    "Please also explore how ``imshow`` works."
   ]
  },
  {
   "cell_type": "code",
   "execution_count": 96,
   "metadata": {},
   "outputs": [
    {
     "data": {
      "image/png": "[encoded data removed]",
      "text/plain": [
       "<Figure size 432x288 with 1 Axes>"
      ]
     },
     "metadata": {
      "needs_background": "light"
     },
     "output_type": "display_data"
    }
   ],
   "source": [
    "fig = plt.figure(frameon=False)\n",
    "im1 = plt.imshow(Z, cmap=plt.cm.gray, interpolation='nearest')\n",
    "plt.show()"
   ]
  },
  {
   "cell_type": "markdown",
   "metadata": {},
   "source": [
    "#### 2.4 Histograms\n",
    "\n",
    "A simple histogram can be a great first step in understanding a dataset. Matplotlib can create a basic histogram using the command ``plt.hist()``:"
   ]
  },
  {
   "cell_type": "code",
   "execution_count": 93,
   "metadata": {},
   "outputs": [
    {
     "data": {
      "image/png": "[encoded data removed]",
      "text/plain": [
       "<Figure size 432x288 with 1 Axes>"
      ]
     },
     "metadata": {
      "needs_background": "light"
     },
     "output_type": "display_data"
    }
   ],
   "source": [
    "data1 = np.random.normal(0, 0.8, 1000) # Return a random sample from a normal (Gaussian) distribution\n",
    "data2 = np.random.normal(-2, 1, 1000)\n",
    "kwargs = dict(bins=30, alpha=0.3, histtype='bar')\n",
    "plt.hist(data1, **kwargs) # Plot customized histograms\n",
    "plt.hist(data2, **kwargs);"
   ]
  },
  {
   "cell_type": "markdown",
   "metadata": {},
   "source": [
    "### 3. Seaborn"
   ]
  },
  {
   "cell_type": "markdown",
   "metadata": {},
   "source": [
    "As Matplotlib is not designed for use with Pandas DataFrames, we must extract each Series and often concatenate them together into the right format in order to visualize data from a Pandas DataFrame. It would be nicer to have a plotting library that can intelligently use the DataFrame labels in a plot, such as [Seaborn](http://seaborn.pydata.org/), which has a lot of built-in styles for very high-quality plots.\n",
    "\n",
    "Here we show a simple example of heatmap plotted by Seaborn."
   ]
  },
  {
   "cell_type": "code",
   "execution_count": 90,
   "metadata": {},
   "outputs": [
    {
     "data": {
      "text/plain": [
       "Text(0.5, 1.0, 'Heatmap of MeltingPoint-Density and AtomicRadius')"
      ]
     },
     "execution_count": 90,
     "metadata": {},
     "output_type": "execute_result"
    },
    {
     "data": {
      "image/png": "[encoded data removed]",
      "text/plain": [
       "<Figure size 432x432 with 2 Axes>"
      ]
     },
     "metadata": {
      "needs_background": "light"
     },
     "output_type": "display_data"
    }
   ],
   "source": [
    "fig = plt.figure(figsize=(6,6))\n",
    "heatmap_matrix = df.pivot('AtomicRadius', 'NumberofElectrons', 'MeltingPoint')\n",
    "h = sns.heatmap(heatmap_matrix, cmap='hot')\n",
    "h.set_title(\"Heatmap of MeltingPoint-Density and AtomicRadius\")"
   ]
  },
  {
   "cell_type": "code",
   "execution_count": 53,
   "metadata": {},
   "outputs": [
    {
     "data": {
      "text/html": [
       "<div>\n",
       "<style scoped>\n",
       "    .dataframe tbody tr th:only-of-type {\n",
       "        vertical-align: middle;\n",
       "    }\n",
       "\n",
       "    .dataframe tbody tr th {\n",
       "        vertical-align: top;\n",
       "    }\n",
       "\n",
       "    .dataframe thead th {\n",
       "        text-align: right;\n",
       "    }\n",
       "</style>\n",
       "<table border=\"1\" class=\"dataframe\">\n",
       "  <thead>\n",
       "    <tr style=\"text-align: right;\">\n",
       "      <th>NumberofElectrons</th>\n",
       "      <th>1</th>\n",
       "      <th>2</th>\n",
       "      <th>3</th>\n",
       "      <th>4</th>\n",
       "      <th>5</th>\n",
       "      <th>6</th>\n",
       "      <th>7</th>\n",
       "      <th>8</th>\n",
       "      <th>9</th>\n",
       "      <th>10</th>\n",
       "      <th>...</th>\n",
       "      <th>109</th>\n",
       "      <th>110</th>\n",
       "      <th>111</th>\n",
       "      <th>112</th>\n",
       "      <th>113</th>\n",
       "      <th>114</th>\n",
       "      <th>115</th>\n",
       "      <th>116</th>\n",
       "      <th>117</th>\n",
       "      <th>118</th>\n",
       "    </tr>\n",
       "    <tr>\n",
       "      <th>AtomicRadius</th>\n",
       "      <th></th>\n",
       "      <th></th>\n",
       "      <th></th>\n",
       "      <th></th>\n",
       "      <th></th>\n",
       "      <th></th>\n",
       "      <th></th>\n",
       "      <th></th>\n",
       "      <th></th>\n",
       "      <th></th>\n",
       "      <th></th>\n",
       "      <th></th>\n",
       "      <th></th>\n",
       "      <th></th>\n",
       "      <th></th>\n",
       "      <th></th>\n",
       "      <th></th>\n",
       "      <th></th>\n",
       "      <th></th>\n",
       "      <th></th>\n",
       "      <th></th>\n",
       "    </tr>\n",
       "  </thead>\n",
       "  <tbody>\n",
       "    <tr>\n",
       "      <th>NaN</th>\n",
       "      <td>NaN</td>\n",
       "      <td>NaN</td>\n",
       "      <td>NaN</td>\n",
       "      <td>NaN</td>\n",
       "      <td>NaN</td>\n",
       "      <td>NaN</td>\n",
       "      <td>NaN</td>\n",
       "      <td>NaN</td>\n",
       "      <td>NaN</td>\n",
       "      <td>NaN</td>\n",
       "      <td>...</td>\n",
       "      <td>NaN</td>\n",
       "      <td>NaN</td>\n",
       "      <td>NaN</td>\n",
       "      <td>NaN</td>\n",
       "      <td>NaN</td>\n",
       "      <td>NaN</td>\n",
       "      <td>NaN</td>\n",
       "      <td>NaN</td>\n",
       "      <td>NaN</td>\n",
       "      <td>NaN</td>\n",
       "    </tr>\n",
       "    <tr>\n",
       "      <th>0.49</th>\n",
       "      <td>NaN</td>\n",
       "      <td>NaN</td>\n",
       "      <td>NaN</td>\n",
       "      <td>NaN</td>\n",
       "      <td>NaN</td>\n",
       "      <td>NaN</td>\n",
       "      <td>NaN</td>\n",
       "      <td>NaN</td>\n",
       "      <td>NaN</td>\n",
       "      <td>NaN</td>\n",
       "      <td>...</td>\n",
       "      <td>NaN</td>\n",
       "      <td>NaN</td>\n",
       "      <td>NaN</td>\n",
       "      <td>NaN</td>\n",
       "      <td>NaN</td>\n",
       "      <td>NaN</td>\n",
       "      <td>NaN</td>\n",
       "      <td>NaN</td>\n",
       "      <td>NaN</td>\n",
       "      <td>NaN</td>\n",
       "    </tr>\n",
       "    <tr>\n",
       "      <th>0.51</th>\n",
       "      <td>NaN</td>\n",
       "      <td>NaN</td>\n",
       "      <td>NaN</td>\n",
       "      <td>NaN</td>\n",
       "      <td>NaN</td>\n",
       "      <td>NaN</td>\n",
       "      <td>NaN</td>\n",
       "      <td>NaN</td>\n",
       "      <td>NaN</td>\n",
       "      <td>24.703</td>\n",
       "      <td>...</td>\n",
       "      <td>NaN</td>\n",
       "      <td>NaN</td>\n",
       "      <td>NaN</td>\n",
       "      <td>NaN</td>\n",
       "      <td>NaN</td>\n",
       "      <td>NaN</td>\n",
       "      <td>NaN</td>\n",
       "      <td>NaN</td>\n",
       "      <td>NaN</td>\n",
       "      <td>NaN</td>\n",
       "    </tr>\n",
       "    <tr>\n",
       "      <th>0.57</th>\n",
       "      <td>NaN</td>\n",
       "      <td>NaN</td>\n",
       "      <td>NaN</td>\n",
       "      <td>NaN</td>\n",
       "      <td>NaN</td>\n",
       "      <td>NaN</td>\n",
       "      <td>NaN</td>\n",
       "      <td>NaN</td>\n",
       "      <td>53.63</td>\n",
       "      <td>NaN</td>\n",
       "      <td>...</td>\n",
       "      <td>NaN</td>\n",
       "      <td>NaN</td>\n",
       "      <td>NaN</td>\n",
       "      <td>NaN</td>\n",
       "      <td>NaN</td>\n",
       "      <td>NaN</td>\n",
       "      <td>NaN</td>\n",
       "      <td>NaN</td>\n",
       "      <td>NaN</td>\n",
       "      <td>NaN</td>\n",
       "    </tr>\n",
       "    <tr>\n",
       "      <th>0.65</th>\n",
       "      <td>NaN</td>\n",
       "      <td>NaN</td>\n",
       "      <td>NaN</td>\n",
       "      <td>NaN</td>\n",
       "      <td>NaN</td>\n",
       "      <td>NaN</td>\n",
       "      <td>NaN</td>\n",
       "      <td>50.5</td>\n",
       "      <td>NaN</td>\n",
       "      <td>NaN</td>\n",
       "      <td>...</td>\n",
       "      <td>NaN</td>\n",
       "      <td>NaN</td>\n",
       "      <td>NaN</td>\n",
       "      <td>NaN</td>\n",
       "      <td>NaN</td>\n",
       "      <td>NaN</td>\n",
       "      <td>NaN</td>\n",
       "      <td>NaN</td>\n",
       "      <td>NaN</td>\n",
       "      <td>NaN</td>\n",
       "    </tr>\n",
       "    <tr>\n",
       "      <th>0.75</th>\n",
       "      <td>NaN</td>\n",
       "      <td>NaN</td>\n",
       "      <td>NaN</td>\n",
       "      <td>NaN</td>\n",
       "      <td>NaN</td>\n",
       "      <td>NaN</td>\n",
       "      <td>63.29</td>\n",
       "      <td>NaN</td>\n",
       "      <td>NaN</td>\n",
       "      <td>NaN</td>\n",
       "      <td>...</td>\n",
       "      <td>NaN</td>\n",
       "      <td>NaN</td>\n",
       "      <td>NaN</td>\n",
       "      <td>NaN</td>\n",
       "      <td>NaN</td>\n",
       "      <td>NaN</td>\n",
       "      <td>NaN</td>\n",
       "      <td>NaN</td>\n",
       "      <td>NaN</td>\n",
       "      <td>NaN</td>\n",
       "    </tr>\n",
       "    <tr>\n",
       "      <th>0.79</th>\n",
       "      <td>14.175</td>\n",
       "      <td>NaN</td>\n",
       "      <td>NaN</td>\n",
       "      <td>NaN</td>\n",
       "      <td>NaN</td>\n",
       "      <td>NaN</td>\n",
       "      <td>NaN</td>\n",
       "      <td>NaN</td>\n",
       "      <td>NaN</td>\n",
       "      <td>NaN</td>\n",
       "      <td>...</td>\n",
       "      <td>NaN</td>\n",
       "      <td>NaN</td>\n",
       "      <td>NaN</td>\n",
       "      <td>NaN</td>\n",
       "      <td>NaN</td>\n",
       "      <td>NaN</td>\n",
       "      <td>NaN</td>\n",
       "      <td>NaN</td>\n",
       "      <td>NaN</td>\n",
       "      <td>NaN</td>\n",
       "    </tr>\n",
       "    <tr>\n",
       "      <th>0.88</th>\n",
       "      <td>NaN</td>\n",
       "      <td>NaN</td>\n",
       "      <td>NaN</td>\n",
       "      <td>NaN</td>\n",
       "      <td>NaN</td>\n",
       "      <td>NaN</td>\n",
       "      <td>NaN</td>\n",
       "      <td>NaN</td>\n",
       "      <td>NaN</td>\n",
       "      <td>NaN</td>\n",
       "      <td>...</td>\n",
       "      <td>NaN</td>\n",
       "      <td>NaN</td>\n",
       "      <td>NaN</td>\n",
       "      <td>NaN</td>\n",
       "      <td>NaN</td>\n",
       "      <td>NaN</td>\n",
       "      <td>NaN</td>\n",
       "      <td>NaN</td>\n",
       "      <td>NaN</td>\n",
       "      <td>NaN</td>\n",
       "    </tr>\n",
       "    <tr>\n",
       "      <th>0.91</th>\n",
       "      <td>NaN</td>\n",
       "      <td>NaN</td>\n",
       "      <td>NaN</td>\n",
       "      <td>NaN</td>\n",
       "      <td>NaN</td>\n",
       "      <td>3948.15</td>\n",
       "      <td>NaN</td>\n",
       "      <td>NaN</td>\n",
       "      <td>NaN</td>\n",
       "      <td>NaN</td>\n",
       "      <td>...</td>\n",
       "      <td>NaN</td>\n",
       "      <td>NaN</td>\n",
       "      <td>NaN</td>\n",
       "      <td>NaN</td>\n",
       "      <td>NaN</td>\n",
       "      <td>NaN</td>\n",
       "      <td>NaN</td>\n",
       "      <td>NaN</td>\n",
       "      <td>NaN</td>\n",
       "      <td>NaN</td>\n",
       "    </tr>\n",
       "    <tr>\n",
       "      <th>0.97</th>\n",
       "      <td>NaN</td>\n",
       "      <td>NaN</td>\n",
       "      <td>NaN</td>\n",
       "      <td>NaN</td>\n",
       "      <td>NaN</td>\n",
       "      <td>NaN</td>\n",
       "      <td>NaN</td>\n",
       "      <td>NaN</td>\n",
       "      <td>NaN</td>\n",
       "      <td>NaN</td>\n",
       "      <td>...</td>\n",
       "      <td>NaN</td>\n",
       "      <td>NaN</td>\n",
       "      <td>NaN</td>\n",
       "      <td>NaN</td>\n",
       "      <td>NaN</td>\n",
       "      <td>NaN</td>\n",
       "      <td>NaN</td>\n",
       "      <td>NaN</td>\n",
       "      <td>NaN</td>\n",
       "      <td>NaN</td>\n",
       "    </tr>\n",
       "    <tr>\n",
       "      <th>1.00</th>\n",
       "      <td>NaN</td>\n",
       "      <td>NaN</td>\n",
       "      <td>NaN</td>\n",
       "      <td>NaN</td>\n",
       "      <td>NaN</td>\n",
       "      <td>NaN</td>\n",
       "      <td>NaN</td>\n",
       "      <td>NaN</td>\n",
       "      <td>NaN</td>\n",
       "      <td>NaN</td>\n",
       "      <td>...</td>\n",
       "      <td>NaN</td>\n",
       "      <td>NaN</td>\n",
       "      <td>NaN</td>\n",
       "      <td>NaN</td>\n",
       "      <td>NaN</td>\n",
       "      <td>NaN</td>\n",
       "      <td>NaN</td>\n",
       "      <td>NaN</td>\n",
       "      <td>NaN</td>\n",
       "      <td>NaN</td>\n",
       "    </tr>\n",
       "    <tr>\n",
       "      <th>1.10</th>\n",
       "      <td>NaN</td>\n",
       "      <td>NaN</td>\n",
       "      <td>NaN</td>\n",
       "      <td>NaN</td>\n",
       "      <td>NaN</td>\n",
       "      <td>NaN</td>\n",
       "      <td>NaN</td>\n",
       "      <td>NaN</td>\n",
       "      <td>NaN</td>\n",
       "      <td>NaN</td>\n",
       "      <td>...</td>\n",
       "      <td>NaN</td>\n",
       "      <td>NaN</td>\n",
       "      <td>NaN</td>\n",
       "      <td>NaN</td>\n",
       "      <td>NaN</td>\n",
       "      <td>NaN</td>\n",
       "      <td>NaN</td>\n",
       "      <td>NaN</td>\n",
       "      <td>NaN</td>\n",
       "      <td>NaN</td>\n",
       "    </tr>\n",
       "    <tr>\n",
       "      <th>1.20</th>\n",
       "      <td>NaN</td>\n",
       "      <td>NaN</td>\n",
       "      <td>NaN</td>\n",
       "      <td>NaN</td>\n",
       "      <td>2573.15</td>\n",
       "      <td>NaN</td>\n",
       "      <td>NaN</td>\n",
       "      <td>NaN</td>\n",
       "      <td>NaN</td>\n",
       "      <td>NaN</td>\n",
       "      <td>...</td>\n",
       "      <td>NaN</td>\n",
       "      <td>NaN</td>\n",
       "      <td>NaN</td>\n",
       "      <td>NaN</td>\n",
       "      <td>NaN</td>\n",
       "      <td>NaN</td>\n",
       "      <td>NaN</td>\n",
       "      <td>NaN</td>\n",
       "      <td>NaN</td>\n",
       "      <td>NaN</td>\n",
       "    </tr>\n",
       "    <tr>\n",
       "      <th>1.30</th>\n",
       "      <td>NaN</td>\n",
       "      <td>NaN</td>\n",
       "      <td>NaN</td>\n",
       "      <td>NaN</td>\n",
       "      <td>NaN</td>\n",
       "      <td>NaN</td>\n",
       "      <td>NaN</td>\n",
       "      <td>NaN</td>\n",
       "      <td>NaN</td>\n",
       "      <td>NaN</td>\n",
       "      <td>...</td>\n",
       "      <td>NaN</td>\n",
       "      <td>NaN</td>\n",
       "      <td>NaN</td>\n",
       "      <td>NaN</td>\n",
       "      <td>NaN</td>\n",
       "      <td>NaN</td>\n",
       "      <td>NaN</td>\n",
       "      <td>NaN</td>\n",
       "      <td>NaN</td>\n",
       "      <td>NaN</td>\n",
       "    </tr>\n",
       "    <tr>\n",
       "      <th>1.40</th>\n",
       "      <td>NaN</td>\n",
       "      <td>NaN</td>\n",
       "      <td>NaN</td>\n",
       "      <td>1560.15</td>\n",
       "      <td>NaN</td>\n",
       "      <td>NaN</td>\n",
       "      <td>NaN</td>\n",
       "      <td>NaN</td>\n",
       "      <td>NaN</td>\n",
       "      <td>NaN</td>\n",
       "      <td>...</td>\n",
       "      <td>NaN</td>\n",
       "      <td>NaN</td>\n",
       "      <td>NaN</td>\n",
       "      <td>NaN</td>\n",
       "      <td>NaN</td>\n",
       "      <td>NaN</td>\n",
       "      <td>NaN</td>\n",
       "      <td>NaN</td>\n",
       "      <td>NaN</td>\n",
       "      <td>NaN</td>\n",
       "    </tr>\n",
       "    <tr>\n",
       "      <th>1.50</th>\n",
       "      <td>NaN</td>\n",
       "      <td>NaN</td>\n",
       "      <td>NaN</td>\n",
       "      <td>NaN</td>\n",
       "      <td>NaN</td>\n",
       "      <td>NaN</td>\n",
       "      <td>NaN</td>\n",
       "      <td>NaN</td>\n",
       "      <td>NaN</td>\n",
       "      <td>NaN</td>\n",
       "      <td>...</td>\n",
       "      <td>NaN</td>\n",
       "      <td>NaN</td>\n",
       "      <td>NaN</td>\n",
       "      <td>NaN</td>\n",
       "      <td>NaN</td>\n",
       "      <td>NaN</td>\n",
       "      <td>NaN</td>\n",
       "      <td>NaN</td>\n",
       "      <td>NaN</td>\n",
       "      <td>NaN</td>\n",
       "    </tr>\n",
       "    <tr>\n",
       "      <th>1.60</th>\n",
       "      <td>NaN</td>\n",
       "      <td>NaN</td>\n",
       "      <td>NaN</td>\n",
       "      <td>NaN</td>\n",
       "      <td>NaN</td>\n",
       "      <td>NaN</td>\n",
       "      <td>NaN</td>\n",
       "      <td>NaN</td>\n",
       "      <td>NaN</td>\n",
       "      <td>NaN</td>\n",
       "      <td>...</td>\n",
       "      <td>NaN</td>\n",
       "      <td>NaN</td>\n",
       "      <td>NaN</td>\n",
       "      <td>NaN</td>\n",
       "      <td>NaN</td>\n",
       "      <td>NaN</td>\n",
       "      <td>NaN</td>\n",
       "      <td>NaN</td>\n",
       "      <td>NaN</td>\n",
       "      <td>NaN</td>\n",
       "    </tr>\n",
       "    <tr>\n",
       "      <th>1.70</th>\n",
       "      <td>NaN</td>\n",
       "      <td>NaN</td>\n",
       "      <td>NaN</td>\n",
       "      <td>NaN</td>\n",
       "      <td>NaN</td>\n",
       "      <td>NaN</td>\n",
       "      <td>NaN</td>\n",
       "      <td>NaN</td>\n",
       "      <td>NaN</td>\n",
       "      <td>NaN</td>\n",
       "      <td>...</td>\n",
       "      <td>NaN</td>\n",
       "      <td>NaN</td>\n",
       "      <td>NaN</td>\n",
       "      <td>NaN</td>\n",
       "      <td>NaN</td>\n",
       "      <td>NaN</td>\n",
       "      <td>NaN</td>\n",
       "      <td>NaN</td>\n",
       "      <td>NaN</td>\n",
       "      <td>NaN</td>\n",
       "    </tr>\n",
       "    <tr>\n",
       "      <th>1.80</th>\n",
       "      <td>NaN</td>\n",
       "      <td>NaN</td>\n",
       "      <td>NaN</td>\n",
       "      <td>NaN</td>\n",
       "      <td>NaN</td>\n",
       "      <td>NaN</td>\n",
       "      <td>NaN</td>\n",
       "      <td>NaN</td>\n",
       "      <td>NaN</td>\n",
       "      <td>NaN</td>\n",
       "      <td>...</td>\n",
       "      <td>NaN</td>\n",
       "      <td>NaN</td>\n",
       "      <td>NaN</td>\n",
       "      <td>NaN</td>\n",
       "      <td>NaN</td>\n",
       "      <td>NaN</td>\n",
       "      <td>NaN</td>\n",
       "      <td>NaN</td>\n",
       "      <td>NaN</td>\n",
       "      <td>NaN</td>\n",
       "    </tr>\n",
       "    <tr>\n",
       "      <th>1.90</th>\n",
       "      <td>NaN</td>\n",
       "      <td>NaN</td>\n",
       "      <td>NaN</td>\n",
       "      <td>NaN</td>\n",
       "      <td>NaN</td>\n",
       "      <td>NaN</td>\n",
       "      <td>NaN</td>\n",
       "      <td>NaN</td>\n",
       "      <td>NaN</td>\n",
       "      <td>NaN</td>\n",
       "      <td>...</td>\n",
       "      <td>NaN</td>\n",
       "      <td>NaN</td>\n",
       "      <td>NaN</td>\n",
       "      <td>NaN</td>\n",
       "      <td>NaN</td>\n",
       "      <td>NaN</td>\n",
       "      <td>NaN</td>\n",
       "      <td>NaN</td>\n",
       "      <td>NaN</td>\n",
       "      <td>NaN</td>\n",
       "    </tr>\n",
       "    <tr>\n",
       "      <th>2.00</th>\n",
       "      <td>NaN</td>\n",
       "      <td>NaN</td>\n",
       "      <td>NaN</td>\n",
       "      <td>NaN</td>\n",
       "      <td>NaN</td>\n",
       "      <td>NaN</td>\n",
       "      <td>NaN</td>\n",
       "      <td>NaN</td>\n",
       "      <td>NaN</td>\n",
       "      <td>NaN</td>\n",
       "      <td>...</td>\n",
       "      <td>NaN</td>\n",
       "      <td>NaN</td>\n",
       "      <td>NaN</td>\n",
       "      <td>NaN</td>\n",
       "      <td>NaN</td>\n",
       "      <td>NaN</td>\n",
       "      <td>NaN</td>\n",
       "      <td>NaN</td>\n",
       "      <td>NaN</td>\n",
       "      <td>NaN</td>\n",
       "    </tr>\n",
       "    <tr>\n",
       "      <th>2.10</th>\n",
       "      <td>NaN</td>\n",
       "      <td>NaN</td>\n",
       "      <td>453.85</td>\n",
       "      <td>NaN</td>\n",
       "      <td>NaN</td>\n",
       "      <td>NaN</td>\n",
       "      <td>NaN</td>\n",
       "      <td>NaN</td>\n",
       "      <td>NaN</td>\n",
       "      <td>NaN</td>\n",
       "      <td>...</td>\n",
       "      <td>NaN</td>\n",
       "      <td>NaN</td>\n",
       "      <td>NaN</td>\n",
       "      <td>NaN</td>\n",
       "      <td>NaN</td>\n",
       "      <td>NaN</td>\n",
       "      <td>NaN</td>\n",
       "      <td>NaN</td>\n",
       "      <td>NaN</td>\n",
       "      <td>NaN</td>\n",
       "    </tr>\n",
       "    <tr>\n",
       "      <th>2.20</th>\n",
       "      <td>NaN</td>\n",
       "      <td>NaN</td>\n",
       "      <td>NaN</td>\n",
       "      <td>NaN</td>\n",
       "      <td>NaN</td>\n",
       "      <td>NaN</td>\n",
       "      <td>NaN</td>\n",
       "      <td>NaN</td>\n",
       "      <td>NaN</td>\n",
       "      <td>NaN</td>\n",
       "      <td>...</td>\n",
       "      <td>NaN</td>\n",
       "      <td>NaN</td>\n",
       "      <td>NaN</td>\n",
       "      <td>NaN</td>\n",
       "      <td>NaN</td>\n",
       "      <td>NaN</td>\n",
       "      <td>NaN</td>\n",
       "      <td>NaN</td>\n",
       "      <td>NaN</td>\n",
       "      <td>NaN</td>\n",
       "    </tr>\n",
       "    <tr>\n",
       "      <th>2.30</th>\n",
       "      <td>NaN</td>\n",
       "      <td>NaN</td>\n",
       "      <td>NaN</td>\n",
       "      <td>NaN</td>\n",
       "      <td>NaN</td>\n",
       "      <td>NaN</td>\n",
       "      <td>NaN</td>\n",
       "      <td>NaN</td>\n",
       "      <td>NaN</td>\n",
       "      <td>NaN</td>\n",
       "      <td>...</td>\n",
       "      <td>NaN</td>\n",
       "      <td>NaN</td>\n",
       "      <td>NaN</td>\n",
       "      <td>NaN</td>\n",
       "      <td>NaN</td>\n",
       "      <td>NaN</td>\n",
       "      <td>NaN</td>\n",
       "      <td>NaN</td>\n",
       "      <td>NaN</td>\n",
       "      <td>NaN</td>\n",
       "    </tr>\n",
       "    <tr>\n",
       "      <th>2.40</th>\n",
       "      <td>NaN</td>\n",
       "      <td>NaN</td>\n",
       "      <td>NaN</td>\n",
       "      <td>NaN</td>\n",
       "      <td>NaN</td>\n",
       "      <td>NaN</td>\n",
       "      <td>NaN</td>\n",
       "      <td>NaN</td>\n",
       "      <td>NaN</td>\n",
       "      <td>NaN</td>\n",
       "      <td>...</td>\n",
       "      <td>NaN</td>\n",
       "      <td>NaN</td>\n",
       "      <td>NaN</td>\n",
       "      <td>NaN</td>\n",
       "      <td>NaN</td>\n",
       "      <td>NaN</td>\n",
       "      <td>NaN</td>\n",
       "      <td>NaN</td>\n",
       "      <td>NaN</td>\n",
       "      <td>NaN</td>\n",
       "    </tr>\n",
       "    <tr>\n",
       "      <th>2.50</th>\n",
       "      <td>NaN</td>\n",
       "      <td>NaN</td>\n",
       "      <td>NaN</td>\n",
       "      <td>NaN</td>\n",
       "      <td>NaN</td>\n",
       "      <td>NaN</td>\n",
       "      <td>NaN</td>\n",
       "      <td>NaN</td>\n",
       "      <td>NaN</td>\n",
       "      <td>NaN</td>\n",
       "      <td>...</td>\n",
       "      <td>NaN</td>\n",
       "      <td>NaN</td>\n",
       "      <td>NaN</td>\n",
       "      <td>NaN</td>\n",
       "      <td>NaN</td>\n",
       "      <td>NaN</td>\n",
       "      <td>NaN</td>\n",
       "      <td>NaN</td>\n",
       "      <td>NaN</td>\n",
       "      <td>NaN</td>\n",
       "    </tr>\n",
       "    <tr>\n",
       "      <th>2.60</th>\n",
       "      <td>NaN</td>\n",
       "      <td>NaN</td>\n",
       "      <td>NaN</td>\n",
       "      <td>NaN</td>\n",
       "      <td>NaN</td>\n",
       "      <td>NaN</td>\n",
       "      <td>NaN</td>\n",
       "      <td>NaN</td>\n",
       "      <td>NaN</td>\n",
       "      <td>NaN</td>\n",
       "      <td>...</td>\n",
       "      <td>NaN</td>\n",
       "      <td>NaN</td>\n",
       "      <td>NaN</td>\n",
       "      <td>NaN</td>\n",
       "      <td>NaN</td>\n",
       "      <td>NaN</td>\n",
       "      <td>NaN</td>\n",
       "      <td>NaN</td>\n",
       "      <td>NaN</td>\n",
       "      <td>NaN</td>\n",
       "    </tr>\n",
       "    <tr>\n",
       "      <th>2.70</th>\n",
       "      <td>NaN</td>\n",
       "      <td>NaN</td>\n",
       "      <td>NaN</td>\n",
       "      <td>NaN</td>\n",
       "      <td>NaN</td>\n",
       "      <td>NaN</td>\n",
       "      <td>NaN</td>\n",
       "      <td>NaN</td>\n",
       "      <td>NaN</td>\n",
       "      <td>NaN</td>\n",
       "      <td>...</td>\n",
       "      <td>NaN</td>\n",
       "      <td>NaN</td>\n",
       "      <td>NaN</td>\n",
       "      <td>NaN</td>\n",
       "      <td>NaN</td>\n",
       "      <td>NaN</td>\n",
       "      <td>NaN</td>\n",
       "      <td>NaN</td>\n",
       "      <td>NaN</td>\n",
       "      <td>NaN</td>\n",
       "    </tr>\n",
       "    <tr>\n",
       "      <th>2.80</th>\n",
       "      <td>NaN</td>\n",
       "      <td>NaN</td>\n",
       "      <td>NaN</td>\n",
       "      <td>NaN</td>\n",
       "      <td>NaN</td>\n",
       "      <td>NaN</td>\n",
       "      <td>NaN</td>\n",
       "      <td>NaN</td>\n",
       "      <td>NaN</td>\n",
       "      <td>NaN</td>\n",
       "      <td>...</td>\n",
       "      <td>NaN</td>\n",
       "      <td>NaN</td>\n",
       "      <td>NaN</td>\n",
       "      <td>NaN</td>\n",
       "      <td>NaN</td>\n",
       "      <td>NaN</td>\n",
       "      <td>NaN</td>\n",
       "      <td>NaN</td>\n",
       "      <td>NaN</td>\n",
       "      <td>NaN</td>\n",
       "    </tr>\n",
       "    <tr>\n",
       "      <th>3.00</th>\n",
       "      <td>NaN</td>\n",
       "      <td>NaN</td>\n",
       "      <td>NaN</td>\n",
       "      <td>NaN</td>\n",
       "      <td>NaN</td>\n",
       "      <td>NaN</td>\n",
       "      <td>NaN</td>\n",
       "      <td>NaN</td>\n",
       "      <td>NaN</td>\n",
       "      <td>NaN</td>\n",
       "      <td>...</td>\n",
       "      <td>NaN</td>\n",
       "      <td>NaN</td>\n",
       "      <td>NaN</td>\n",
       "      <td>NaN</td>\n",
       "      <td>NaN</td>\n",
       "      <td>NaN</td>\n",
       "      <td>NaN</td>\n",
       "      <td>NaN</td>\n",
       "      <td>NaN</td>\n",
       "      <td>NaN</td>\n",
       "    </tr>\n",
       "    <tr>\n",
       "      <th>3.30</th>\n",
       "      <td>NaN</td>\n",
       "      <td>NaN</td>\n",
       "      <td>NaN</td>\n",
       "      <td>NaN</td>\n",
       "      <td>NaN</td>\n",
       "      <td>NaN</td>\n",
       "      <td>NaN</td>\n",
       "      <td>NaN</td>\n",
       "      <td>NaN</td>\n",
       "      <td>NaN</td>\n",
       "      <td>...</td>\n",
       "      <td>NaN</td>\n",
       "      <td>NaN</td>\n",
       "      <td>NaN</td>\n",
       "      <td>NaN</td>\n",
       "      <td>NaN</td>\n",
       "      <td>NaN</td>\n",
       "      <td>NaN</td>\n",
       "      <td>NaN</td>\n",
       "      <td>NaN</td>\n",
       "      <td>NaN</td>\n",
       "    </tr>\n",
       "  </tbody>\n",
       "</table>\n",
       "<p>31 rows × 118 columns</p>\n",
       "</div>"
      ],
      "text/plain": [
       "NumberofElectrons     1    2       3        4        5        6      7    \\\n",
       "AtomicRadius                                                               \n",
       "NaN                   NaN  NaN     NaN      NaN      NaN      NaN    NaN   \n",
       "0.49                  NaN  NaN     NaN      NaN      NaN      NaN    NaN   \n",
       "0.51                  NaN  NaN     NaN      NaN      NaN      NaN    NaN   \n",
       "0.57                  NaN  NaN     NaN      NaN      NaN      NaN    NaN   \n",
       "0.65                  NaN  NaN     NaN      NaN      NaN      NaN    NaN   \n",
       "0.75                  NaN  NaN     NaN      NaN      NaN      NaN  63.29   \n",
       "0.79               14.175  NaN     NaN      NaN      NaN      NaN    NaN   \n",
       "0.88                  NaN  NaN     NaN      NaN      NaN      NaN    NaN   \n",
       "0.91                  NaN  NaN     NaN      NaN      NaN  3948.15    NaN   \n",
       "0.97                  NaN  NaN     NaN      NaN      NaN      NaN    NaN   \n",
       "1.00                  NaN  NaN     NaN      NaN      NaN      NaN    NaN   \n",
       "1.10                  NaN  NaN     NaN      NaN      NaN      NaN    NaN   \n",
       "1.20                  NaN  NaN     NaN      NaN  2573.15      NaN    NaN   \n",
       "1.30                  NaN  NaN     NaN      NaN      NaN      NaN    NaN   \n",
       "1.40                  NaN  NaN     NaN  1560.15      NaN      NaN    NaN   \n",
       "1.50                  NaN  NaN     NaN      NaN      NaN      NaN    NaN   \n",
       "1.60                  NaN  NaN     NaN      NaN      NaN      NaN    NaN   \n",
       "1.70                  NaN  NaN     NaN      NaN      NaN      NaN    NaN   \n",
       "1.80                  NaN  NaN     NaN      NaN      NaN      NaN    NaN   \n",
       "1.90                  NaN  NaN     NaN      NaN      NaN      NaN    NaN   \n",
       "2.00                  NaN  NaN     NaN      NaN      NaN      NaN    NaN   \n",
       "2.10                  NaN  NaN  453.85      NaN      NaN      NaN    NaN   \n",
       "2.20                  NaN  NaN     NaN      NaN      NaN      NaN    NaN   \n",
       "2.30                  NaN  NaN     NaN      NaN      NaN      NaN    NaN   \n",
       "2.40                  NaN  NaN     NaN      NaN      NaN      NaN    NaN   \n",
       "2.50                  NaN  NaN     NaN      NaN      NaN      NaN    NaN   \n",
       "2.60                  NaN  NaN     NaN      NaN      NaN      NaN    NaN   \n",
       "2.70                  NaN  NaN     NaN      NaN      NaN      NaN    NaN   \n",
       "2.80                  NaN  NaN     NaN      NaN      NaN      NaN    NaN   \n",
       "3.00                  NaN  NaN     NaN      NaN      NaN      NaN    NaN   \n",
       "3.30                  NaN  NaN     NaN      NaN      NaN      NaN    NaN   \n",
       "\n",
       "NumberofElectrons   8      9       10   ...  109  110  111  112  113  114  \\\n",
       "AtomicRadius                            ...                                 \n",
       "NaN                 NaN    NaN     NaN  ...  NaN  NaN  NaN  NaN  NaN  NaN   \n",
       "0.49                NaN    NaN     NaN  ...  NaN  NaN  NaN  NaN  NaN  NaN   \n",
       "0.51                NaN    NaN  24.703  ...  NaN  NaN  NaN  NaN  NaN  NaN   \n",
       "0.57                NaN  53.63     NaN  ...  NaN  NaN  NaN  NaN  NaN  NaN   \n",
       "0.65               50.5    NaN     NaN  ...  NaN  NaN  NaN  NaN  NaN  NaN   \n",
       "0.75                NaN    NaN     NaN  ...  NaN  NaN  NaN  NaN  NaN  NaN   \n",
       "0.79                NaN    NaN     NaN  ...  NaN  NaN  NaN  NaN  NaN  NaN   \n",
       "0.88                NaN    NaN     NaN  ...  NaN  NaN  NaN  NaN  NaN  NaN   \n",
       "0.91                NaN    NaN     NaN  ...  NaN  NaN  NaN  NaN  NaN  NaN   \n",
       "0.97                NaN    NaN     NaN  ...  NaN  NaN  NaN  NaN  NaN  NaN   \n",
       "1.00                NaN    NaN     NaN  ...  NaN  NaN  NaN  NaN  NaN  NaN   \n",
       "1.10                NaN    NaN     NaN  ...  NaN  NaN  NaN  NaN  NaN  NaN   \n",
       "1.20                NaN    NaN     NaN  ...  NaN  NaN  NaN  NaN  NaN  NaN   \n",
       "1.30                NaN    NaN     NaN  ...  NaN  NaN  NaN  NaN  NaN  NaN   \n",
       "1.40                NaN    NaN     NaN  ...  NaN  NaN  NaN  NaN  NaN  NaN   \n",
       "1.50                NaN    NaN     NaN  ...  NaN  NaN  NaN  NaN  NaN  NaN   \n",
       "1.60                NaN    NaN     NaN  ...  NaN  NaN  NaN  NaN  NaN  NaN   \n",
       "1.70                NaN    NaN     NaN  ...  NaN  NaN  NaN  NaN  NaN  NaN   \n",
       "1.80                NaN    NaN     NaN  ...  NaN  NaN  NaN  NaN  NaN  NaN   \n",
       "1.90                NaN    NaN     NaN  ...  NaN  NaN  NaN  NaN  NaN  NaN   \n",
       "2.00                NaN    NaN     NaN  ...  NaN  NaN  NaN  NaN  NaN  NaN   \n",
       "2.10                NaN    NaN     NaN  ...  NaN  NaN  NaN  NaN  NaN  NaN   \n",
       "2.20                NaN    NaN     NaN  ...  NaN  NaN  NaN  NaN  NaN  NaN   \n",
       "2.30                NaN    NaN     NaN  ...  NaN  NaN  NaN  NaN  NaN  NaN   \n",
       "2.40                NaN    NaN     NaN  ...  NaN  NaN  NaN  NaN  NaN  NaN   \n",
       "2.50                NaN    NaN     NaN  ...  NaN  NaN  NaN  NaN  NaN  NaN   \n",
       "2.60                NaN    NaN     NaN  ...  NaN  NaN  NaN  NaN  NaN  NaN   \n",
       "2.70                NaN    NaN     NaN  ...  NaN  NaN  NaN  NaN  NaN  NaN   \n",
       "2.80                NaN    NaN     NaN  ...  NaN  NaN  NaN  NaN  NaN  NaN   \n",
       "3.00                NaN    NaN     NaN  ...  NaN  NaN  NaN  NaN  NaN  NaN   \n",
       "3.30                NaN    NaN     NaN  ...  NaN  NaN  NaN  NaN  NaN  NaN   \n",
       "\n",
       "NumberofElectrons  115  116  117  118  \n",
       "AtomicRadius                           \n",
       "NaN                NaN  NaN  NaN  NaN  \n",
       "0.49               NaN  NaN  NaN  NaN  \n",
       "0.51               NaN  NaN  NaN  NaN  \n",
       "0.57               NaN  NaN  NaN  NaN  \n",
       "0.65               NaN  NaN  NaN  NaN  \n",
       "0.75               NaN  NaN  NaN  NaN  \n",
       "0.79               NaN  NaN  NaN  NaN  \n",
       "0.88               NaN  NaN  NaN  NaN  \n",
       "0.91               NaN  NaN  NaN  NaN  \n",
       "0.97               NaN  NaN  NaN  NaN  \n",
       "1.00               NaN  NaN  NaN  NaN  \n",
       "1.10               NaN  NaN  NaN  NaN  \n",
       "1.20               NaN  NaN  NaN  NaN  \n",
       "1.30               NaN  NaN  NaN  NaN  \n",
       "1.40               NaN  NaN  NaN  NaN  \n",
       "1.50               NaN  NaN  NaN  NaN  \n",
       "1.60               NaN  NaN  NaN  NaN  \n",
       "1.70               NaN  NaN  NaN  NaN  \n",
       "1.80               NaN  NaN  NaN  NaN  \n",
       "1.90               NaN  NaN  NaN  NaN  \n",
       "2.00               NaN  NaN  NaN  NaN  \n",
       "2.10               NaN  NaN  NaN  NaN  \n",
       "2.20               NaN  NaN  NaN  NaN  \n",
       "2.30               NaN  NaN  NaN  NaN  \n",
       "2.40               NaN  NaN  NaN  NaN  \n",
       "2.50               NaN  NaN  NaN  NaN  \n",
       "2.60               NaN  NaN  NaN  NaN  \n",
       "2.70               NaN  NaN  NaN  NaN  \n",
       "2.80               NaN  NaN  NaN  NaN  \n",
       "3.00               NaN  NaN  NaN  NaN  \n",
       "3.30               NaN  NaN  NaN  NaN  \n",
       "\n",
       "[31 rows x 118 columns]"
      ]
     },
     "execution_count": 53,
     "metadata": {},
     "output_type": "execute_result"
    }
   ],
   "source": [
    "heatmap_matrix"
   ]
  },
  {
   "cell_type": "markdown",
   "metadata": {},
   "source": [
    "### 4. Interactive Matplotlib widget"
   ]
  },
  {
   "cell_type": "markdown",
   "metadata": {},
   "source": [
    "We can use ``ipympl`` to enable usage of Matplotlib's interactive features. \n",
    "*Further reference: https://matplotlib.org/ipympl/*\n",
    "\n",
    "First, load the widget by including the following magic command. \n",
    "*Further reference: https://towardsdatascience.com/top-8-magic-commands-in-jupyter-notebook-c1582e813560*"
   ]
  },
  {
   "cell_type": "code",
   "execution_count": 97,
   "metadata": {},
   "outputs": [],
   "source": [
    "%matplotlib ipympl"
   ]
  },
  {
   "cell_type": "markdown",
   "metadata": {},
   "source": [
    "Let's now work with a simple example and play around with some features as we do in the hands-on video."
   ]
  },
  {
   "cell_type": "code",
   "execution_count": 98,
   "metadata": {},
   "outputs": [
    {
     "data": {
      "text/plain": [
       "[<matplotlib.lines.Line2D at 0x7fa03dff4b20>]"
      ]
     },
     "execution_count": 98,
     "metadata": {},
     "output_type": "execute_result"
    },
    {
     "data": {
      "application/vnd.jupyter.widget-view+json": {
       "model_id": "ff309e35ab9f473085e3351131487248",
       "version_major": 2,
       "version_minor": 0
      },
      "text/html": [
       "\n",
       "            <div style=\"display: inline-block;\">\n",
       "                <div class=\"jupyter-widgets widget-label\" style=\"text-align: center;\">\n",
       "                    Figure\n",
       "                </div>\n",
       "                <img src='data:image/png;base64,iVBORw0KGgoAAAANSUhEUgAAAbAAAAEgCAYAAADVKCZpAAAAOXRFWHRTb2Z0d2FyZQBNYXRwbG90bGliIHZlcnNpb24zLjQuMywgaHR0cHM6Ly9tYXRwbG90bGliLm9yZy/MnkTPAAAACXBIWXMAAAsTAAALEwEAmpwYAABBbklEQVR4nO3de3Rb133g++8P4JsE329K1JOkLMmWLcuyE7eW7cSp7aZx0mlSu22albbj+ibuTTvTmeuZ3Jlkmpk1Wb2rbdpOmlw3SeNO2rhuE9e+rRzHz9h5yLZkW0+KD1EviiRIkSIJvklg3z+AI8EUSIEkcIBzzu+zFhdJ4ADY1NE5v/347b3FGINSSinlNL5MF0AppZRaDQ1gSimlHEkDmFJKKUfSAKaUUsqRNIAppZRyJA1gSimlHEkDmFJKKUfSAKaUUsqRNIAppZRyJA1gSimlHEkDmFJKKUfSAKaUUsqRNIAppZRyJA1gSimlHEkDmFJKKUfSAKaUUsqRNIAppZRyJA1gSimlHEkDmFJKKUfSAKaUUsqRNIAppZRyJA1gSimlHEkDmFJKKUfSAKaUUsqRNIAppZRyJA1gSimlHEkDmFJKKUfSAKaUUsqRNIAppZRyJA1gSimlHEkDmFJKKUfSAKaUUsqRNIAppZRyJA1gSimlHCkn0wVIl+rqarNx48ZMF0MppRzl0KFDF40xNZkuRzJcG8A2btzIwYMHM10MpZRyFBE5m+kyJEu7EJVSSjmSBjCllFKOpAFMKaWUI9kWwETkWyIyKCLHlnheROQvRKRbRI6IyO645+4VkY7Yc4/ZVWallFLZy84W2LeBe5d5/j6gJfb1MPA1ABHxA1+NPb8deEhEtqe1pEoppbKebQHMGPMaMLLMIQ8Af2uiDgDlItIA7AW6jTE9xpg54MnYsUoppTwsm8bAmoDzcb/3xh5b6nHHOn1xkjMXJzNdDBVnam6Bd85dYmY+nOmiqDidwRAXRqczXQyVpbJpHpgkeMws8/jVbyDyMNHuR5qbm1NXshT63wfO8oVnjhExsKm6mLvaavnN921gY3VxpovmWRdGp/n037xJZ3CCwlw/t2+t5sM3NPDAjY2IJPrvp9LNGMNfvtzNn77QCUBbXYA7t9Xw6fdvor6sIMOlU9kimwJYL7A+7vd1QB+Qt8TjVzHGPA48DrBnz56EQS5TIhHDl39wksdf6+ED22q5o7WGl08O8p03zvJie5D9n/t5SvKz6XR4w7ELY3z6228xMx/mSx/dSedAiJdPDvJie5CIMfzy7nWZLqLnzIcj/OfvH+UfD/Xyyzc1cV1DKS+fHOSbr5/mJ90X+f7/cTt5OdnUeaQyJZvumM8Cj4rIk8CtwJgxpl9EhoAWEdkEXAAeBH4tg+VcMWMMv/8P7/Ls4T4+edsGvviRHfh9wqfev5G3zozwif/3Z/z3fznBl//NDZkuqqcc6Bnmt779FhVFefzd79xKa10AgC9GDA89foAvPHOcWzdX0VRemOGSesd8OMJvffstXu+6yOc+0MLvf7AFEeHf3rGZHxwb4JHvHOIvXuriD3+hLdNFVVnAzjT67wI/A9pEpFdEfltEHhGRR2KH7Ad6gG7gr4HPABhjFoBHgeeBduApY8xxu8qdCq90DPLs4T4+94EW/uiBaPCy3LKxkt+9YwtPvnWeF08EM1hKb4lEDP/ln49RE8jn6c+8/3LwAvD7hD/5xC4ixvCHTx0mEsmqxryrPf32BV7vusiXHtjBH9zT+p4u3Ht31vMrN6/jr17t5tDZSxkspcoWdmYhPmSMaTDG5Bpj1hljvmmM+box5uux540x5rPGmC3GmOuNMQfjXrvfGNMae+5/2FXmVDDG8JUXu1hXUcijd29NOKbyB/e0cF1DKY99/wjDE7MZKKX37D/WT9fgBH/4oTZqS68eU1lfWcQXfmkHP+sZ5ls/OZ2BEnrPfDjCX77SxfVNZfzGbRsSHvOFX9pOQ1kh//6pd5mcXbC5hCrbaEdymr3SMciR3jF+7+6t5PoT/3Pn5/j5yq/eyPj0Av/jX9ttLqH3RCKGP3+xi5baEu6/vmHJ4z6+Zx33bK/jj5/voPfSlI0l9Kan377A+ZHpy92GiQQKcvmTT+zi7MgUf/5Sl80lVNlGA1gaxbe+rpUM0FYf4Ndva+b/O9KnrbA0s1pfv/eBlvd05y4mInzhl7YzH47w1FvnlzxOrV186+vubbXLHnvb5ip+8foGnnzznE578DgNYGmUTOsr3kN7m5kPG55+54INpfMmq/W1tbaEX1ym9WVZV1HEHS01PHWwl7COhaVNMq2veA/tbWZ8ZoEfHBuwoXQqW2kAS5OVtL4srXUBdjeX8903z2GM3izTwWp9/Z/XaH3Fe2jvegbGZ/hR52CaS+dNK2l9Wd63uYrmyiK+++a5NJdOZTMNYGly7MI4R3rHeGTflqRaX5YH9zZzamiSg5pllRbfOXCWjVVFSbW+LB+4ro7qkjy++6Z2I6bD611DnB+Z5rN3JU5ySsTnE371lvW8cXqEnqGJNJdQZSsNYGmy/1g/OT7hwzckf6ME+PANDZTk52jNMg2GQrO8eXqEj+xqTLr1BZDr9/Fvbl7HyycHGRyfSWMJvWn/0QECBTnctW1lu9h//OZ1+H3CP+j4pGdpAEsDYwzPHe3nfVuqKC/KW9Fri/Jy+MiNjew/2s/Y9HyaSuhNPzwxQMTAfStofVkevKWZcMTwj4d601Ay75oPR3jhRJB7rqsjP8e/otfWlhZw97Zavvd2L3MLkTSVUGUzDWBpcHIgxJnhKe7bufIbJcCDt6xnZj7Cs+9qMkcq/eDYAJuqi9lWH7j2wYtsqi7m1k2V/MNb53Vicwr97NQwY9Pzq6pUQHR88uLEHC+16yIAXqQBLA2eO9qPT+BDO+pW9frrm8rY3lDKP72tASxVLk3O8dNTw9y7s37VC/Q+tLeZcyNTOj6ZQs8d66c4z8/Pt1Sv6vX7WmtpKCvge29ry9iLNIClwf5jA+zdVEl1Sf6qXi8i3LuzniO9ozonLEVeaA8SjhjuX2WrGODu62rJ8Qmvdmg2YioshCP88HiQu6+royB3Zd2HFr9PuGd7HT/pHmZ2QeeEeY0GsBTrCoboHpxYdoWHZOxrrcEY+HH3xRSVzNueO9rPuopCdjaVrvo9Sgty2b2hgh91DqWwZN715pkRhifnuH9n/ZreZ19rDdPzYQ6e0Zax12gAS7Hnjg0gAr+wY20X5fVNZVQW5/Fqh94s12psep4fd1/k/usb1ry/177WGo73jTMY0mzEtXru6ACFuX7ubEtu7tdSbttcRZ7fpxULD9IAlmL7j/Zzc3MFdQkWiF0Jn0/4+ZZqXusc0qSBNXr5ZJD5sOHeNdb0Ae5si6Z6v9apLeO1iEQMPzg+wJ1tNRTmra770FKcn8Mtmyr4kVb2PEcDWAqdG57i5EAoJTdKiNb2hyfnON43npL386rnjwWpLy3gxnXla36v7Q2l1ATytba/Ru+cH2UoNJvSa6UjGKJ/bDol76ecQQNYCv30VLRWvtYuEcsdrdHavi5htHqRiOFnPcPsa63Bt4LJy0sREe5oqeH1riFdG3ENfnbqIiLRwJMK1jX3mlYsPEUDWAod6BmmuiSfLTXFKXm/6pJ8rm8q09r+GpwcCDE2Pc+tmytT9p772moYnZrnSO9oyt7Taw70jNBWF1jxRP+ltNSW0FBWoNeKx9i5I/O9ItIhIt0i8liC5/+DiLwb+zomImERqYw9d0ZEjsaeO3j1u2eeMYYDPSPctrlyzYkC8fa11vD2uVFdlWOVDvQMA3Dr5qqUvefPb63GJ+jNcpXmFiIcPDvCbSk8JyLCvtYaXu+6yEJYV+XwClsCmIj4ga8C9wHbgYdEZHv8McaY/8cYc6Mx5kbgPwE/MsaMxB1yV+z5PXaUeaXODk8xMD6T0hslRGv74YjhJ5pOvyoHeoZpriyiqbwwZe9ZUZzHrvXlmiG6Skd6R5mZj6Q0gEG0sheaWeCd86MpfV+Vvexqge0Fuo0xPcaYOeBJ4IFljn8I+K4tJUsRq6b/vhR2VQHctL6cQEGOZlitQiRieON0tFWcavtaazjcO8qlybmUv7fbXW4Vb0rteXn/1mr8PtFrxUPsCmBNQPyS0b2xx64iIkXAvcD34h42wA9F5JCIPJy2Uq7BG6dHqC7JY0tNSUrfN8fv4/Yt1TqheRWs8a9U1/QhmmBjDPz01HDK39vt3jg9wrb6ABXFqRn/spQV5nLT+nJe12vFM+wKYIkGhZZK4fol4CeLug9vN8bsJtoF+VkRuSPhh4g8LCIHReTg0JB9tbDo+Ncwt26uSun4l2XvpkoujE5rivAKpWP8y3J9UxkFuT4O6bqIKzK3EOHgmUtpqVRA9Fo5fmGMmXldVsoL7ApgvcD6uN/XAX1LHPsgi7oPjTF9se+DwNNEuySvYox53Bizxxizp6YmNem5yTg3MkX/2EzaLsrdGyoAePvsaFre363SMf5lyfX7uGFdOYfOaQBbiaMXRpmeD6fvWmmuYCFiONI7lpb3V9nFrgD2FtAiIptEJI9okHp28UEiUgbsA56Je6xYRALWz8CHgGO2lDpJ6Rr/smxvKCU/x8fberNMWiRiePPMSMrHWeLdvKFCa/srdKAn2rGyN03nxarsacvYG2wJYMaYBeBR4HmgHXjKGHNcRB4RkUfiDv0Y8ENjzGTcY3XAj0XkMPAm8K/GmB/YUe5kHehJz/iXJS/Hx6515XpRrkBHMMToVHrGvyw3a21/xQ70DLOtPkBlise/LJXFeWyuLtZrxSNy7PogY8x+YP+ix76+6PdvA99e9FgPsCvNxVu1dI9/WXZvqOCbP+5hZj686q0nvOTK+Ff6WmCXu3bPXUpbi8JN5sPR8a9fvWX9tQ9eg90bKnjl5CDGmLRekyrzdCWONTo/Mp3W8S/L7uZy5sOGoxe0tp+MAz3DrK8sZF1FUdo+o7I4j01a20/akd6x2PhXeoP97uYKhifnODs8ldbPUZmnAWyNrHGpPbHaeLpcSeTQm+W1GGM4dHaUPRvS3yra3VzB22cvYYyui3gt78SulZvTfF5u1nEwz9AAtkbvnh+lMNdPS216xr8s1SX5bKwq0osyCf1jM1ycmGXXurK0f9bNG7S2n6x3z4/SVF5ITWB1O5Unq6W2hEB+jmaIeoAGsDU60jvKzqZScvzp/6fcvaGCt89pbf9arEV2b1hfnvbP0tp+8o70jnGDDZUKn0+4aUOF9lZ4gAawNZgPRzjeN86uFOwzlYybN1RwcWKOcyNa21/O4d4xcnzC9obStH+WVdvXKQ7LuzQZ/X+7y4ZKBUQzRDuCIUIzugi2m2kAW4POYIjZhYgtNX2IjrcAerO8hiO9o2xrCNiSrenzCTc26xSHazlstYptaIEB7N5QjjHRbkvlXhrA1sCa/2PHWAtAa12AkvwcvVkuIxKbl3WDTa1iiLaMtba/vCO9Y4hEl+Cyw43ryxHRrl230wC2BofPj1JelEtzZfpSteP5fcJNzeUcPKMX5VJOD08SmlmwrVIB0QBmDLxzbtS2z3SaI72jbK4uJlCQa8vnBQpyaasLaABzOQ1ga3A4VtO3c7LkjevL6QyGmJ7T5YsSsRI47Bprif8snaOXmDGGd8+P2XpOAG5qLudI75gmPbmYBrBVmp4L0xkM2VrTB9jZVEbEwMmBcVs/1ykOnx+jMNfP1jQt65VIaUEuG6uKOKYBLKEr0xrKbf3cnU1ljE3P03tJd3FwKw1gq3Sif4xwxNg61gKwozGaWXesTwNYInZOa4i3o7GMY30awBI5YnMCh2VHY/Tzjut5cS0NYKv07nl7EzgsTeWFlBflclxr+1expjXYXakA2NFUyvmRacamNJFjMWtaw3U2TGuIt60+gN8nHLuglT230gC2Skd6R2koK6C2tMDWzxURdjaWcVxbYFfpGIhOa7B7rAVgp1Xb79eKxWKHz49yXUOp7YtQF8RWyNEWmHtpAFslu1YVSGRHUykdAyHmFiIZ+fxsZfe0hnhW1+5xre2/RyRiOJrBa2V7Y6l2t7uYBrBVGJue5/TFyYx0VUG0tj8XjtA1GMrI52erI732TmuIV1WST0NZgY6DLXJ6eJLQ7ILtCRyWnY1lDIVmGRyfycjnq/TSALYKRy/X9Msz8vla20/scO8Y1zeVZWwPqB2NZZqJuMiVdSkz0wLbGZs4rRULd7ItgInIvSLSISLdIvJYgufvFJExEXk39vVfk32t3U7Exjl2Ntk7KG3ZWFVMcZ5f+/bjzC1E6B4MXb5hZcLOplJ6Lk4yNbeQsTJkmxN94+Tl+Gyd1hBvu1b2XM2WACYifuCrwH3AduAhEdme4NDXjTE3xr7+aIWvtc2JvnEaygooL0rPtujX4vNJLG1bL0pL12CI+bCxPdMt3o7GMoyB9n49L5b2/hBtdQHbpzVYSvJz2FRdrC0wl7Lrf9VeoNsY02OMmQOeBB6w4bVp0d4fyuiNEqKJHCf6xglHdJUBiJ4TgO0NgYyVwWqRa9p2lDGG9v5xrsvgOYFol7ueE3eyK4A1Aefjfu+NPbbY+0TksIg8JyI7VvhaW8wuhDk1NJHxi3JnYxnT82FOX5zIaDmyRXv/OPk5PjZWFWesDPWlBVQV5+k4WMxQaJbhybmMV/Z2NpVxYXSaS5NzGS2HSj27AliiUfXFTYe3gQ3GmF3AXwL/vILXRg8UeVhEDorIwaGhodWWdVldwQkWIpntqoJoCwzQ+WAx7f3jtNVnrqsKonP0djTpHD3L8VhXaqavFWuO3gnt2nUdu672XmB93O/rgL74A4wx48aYidjP+4FcEalO5rVx7/G4MWaPMWZPTU1NKst/WXuWXJRba0rIz/FpbZ+4rqr6zJ4TiHZXRfeJ08WWL18rGT4vl5df02vFdewKYG8BLSKySUTygAeBZ+MPEJF6ieU/i8jeWNmGk3mtndr7QxTkZrarCiDH72Nbg/btAwTHZ7k0NX854yyTdjaWsRAxdA5o1257f4im8kLKiuzZQmUpFcV5NJUXatKTC9kSwIwxC8CjwPNAO/CUMea4iDwiIo/EDvsV4JiIHAb+AnjQRCV8rR3lTiTaVVWK35eZuUbxdjaWcqxPt4vIllYxxCVyaNZbViRwWHY0lur6oS6UY9cHxboF9y967OtxP/8v4H8l+9pMMMbQPjDOfTvrM10UIHrD/rs3ztE3NkNTeWGmi5Mx1tjGtiy4WTZXFlGc5+ekx8dbZubD9AxNZNW18kJ7kOm5MIV59q7JqNJHV+JYgYHxGUan5rOipg/R1bYBz98s2/vHWVdRSKlNu/0uR0RorQ/QPuDtZb46gyEiJjtaxRC9VoyJlku5hwawFcimriqAViuAefxmGe2qyo5zAtGbZcdAyNNdu9l2rbTFrpUOj18rbqMBbAWsybJWyyfTSgtyaSov9PRFOTMf5vTFyay5UQK01QUYm54nOD6b6aJkTHt/iKI8PxsysLByIhuqiinI9Xm+suc2GsBW4ET/OOsrCwlkQVeVpS1W2/eqjoFoV1UmV+BYbFssmJ4c8G7X7onYvDxfFiQ7Afh9QmtdgI6gd8+JG2kAW4H2vuyYaxSvrT7AqaEJz+4NdiLLuqrgSgvdqxWLK0tIZc85gWjL2KvnxK00gCVpam6B08PZ1VUF0ZvlQsTQ49Elpdr7xynO87O+Iju6qgDKi/KoK8337M3ywug0oZmFrLtW2uoDXJyY4+KEd7t23UYDWJKig/JkxWTZeF4fnLZq+tnSVWVpqy/17HjLlYWVs+ta2RbrPfHqteJGGsCSZN2Msq0LcXN1CTk+8eTN0hjDyf5QVsz/WmxbfYDuoQkWwt7r2rWmdWRLspOlTbN2XUcDWJI6BqJZVesqsmvCcF6Ojy01JZ6sVfaPzRCaXaAtyyoVEB1vmVuIcGZ4MtNFsV1HMMT6ykKK821bJyEpNYF8qorz6PBwco3baABLUtdgiJa67MmqiufVTERrUmprbWZ2+12Ol2v7XcEJ2uqyq/Vl8eq14lYawJLUMTCRlTdKiF6UF0anGZ+Zz3RRbHU5gGXhzXJrbQl+n3juZjm3EOHU0AQtWXhOIHqtdAYniOhGsK6gASwJI5PRzKW2LOvTt3g1bbtjYILaQD4VxXmZLspVCnL9bKwq8lwL7MzwJAsRk7UtsG31Aabnw5wbmcp0UVQKaABLglXTz9Za5ZWJs966WXYNhrKy9WXZVl/quUrFlWslW3srvHmtuJUGsCRYF2W21iobywoIFOR4anA6EjF0BSeyOoC11Qc4NzLF5OxCpotim86BED6BLTXZGcBa60oQ8V5vhVtpAEtCZzBEaUEOdaX5mS5KQiLiuVUGei9NMz0fpjVLa/pwJZHDSyugdwRDbKwupiA3O7csKcrLobmySJeUcgkNYEnoHIjW9GMbRmeltvoAJz20AnqHlcCRpeOScGXOoJcqFl3BCVprs/ecQHQcTLsQ3cG2ACYi94pIh4h0i8hjCZ7/dRE5Evv6qYjsinvujIgcFZF3ReSgXWWG6GTZzsFQVt8oIXpRhmYW6B+byXRRbHF5rCVLM0MB1lUUUpTn98zNcmY+zJnhyay/VtrqSzlzcZKZ+XCmi6LWyJYAJiJ+4KvAfcB24CER2b7osNPAPmPMDcCXgMcXPX+XMeZGY8yetBc4zlBoltGp+awd/7JsjdV6uwa9sSZiZzBEU3l27QywmM8nbK0todsj56R7cIKIyd6xYktLbQkRAz1D3ptk7jZ2tcD2At3GmB5jzBzwJPBA/AHGmJ8aYy7Ffj0ArLOpbMvqyPKsKos1FtTlkfGWjoFQVo9/WVpqA3QNeuOcWH9ntp8XK/HHK+fFzewKYE3A+bjfe2OPLeW3gefifjfAD0XkkIg8nIbyLakzGK09Z3utsqokukxOV9D9tf2FcISeocmszkC0tNaVEByfZWza/ZPMOwYmyPULG6uLM12UZW2qLsbvE09cK25n12JlibIfEmYbiMhdRAPYz8U9fLsxpk9EaoEXROSkMea1BK99GHgYoLm5ee2lJpoWXF2SR1VJdmYgxttaW0KnB2qVZ4anmAtHHBHAWuJaxns2Vma4NOnVGQyxpaaEXH9254bl5fjYWFXkqexQt7Lrf1ovsD7u93VA3+KDROQG4BvAA8aYYetxY0xf7Psg8DTRLsmrGGMeN8bsMcbsqampSUnBOwdDtGR5VpWltS5Ad3DC9ZmIXVm8hNRiLR4am+wMhrJ2sv9irXUBT5wTt7MrgL0FtIjIJhHJAx4Eno0/QESage8DnzTGdMY9XiwiAetn4EPAMTsKbYyhcyCUtUtILdZaV0JodoGBcXdnInYEQ4hEW5zZrqm8kMJcv+tr+5OzC/RemqYty8e/LC11Ac4Oayai09kSwIwxC8CjwPNAO/CUMea4iDwiIo/EDvuvQBXwV4vS5euAH4vIYeBN4F+NMT+wo9wXRqeZnAtnfQKH5XImosv79juDIZoriyjMy87JsvF8PqGlzv2ZiFZrxiktMM1EdAfbNuwxxuwH9i967OtxP/8O8DsJXtcD7Fr8uB26HJLAYbGyvzqDIe5oTU0XajbqzPIlpBbbWlvCT7ovZroYadU5kN3LrS0Wn4mYbbusq+Rl92hrhmX7Ir6LVZXkU+nyTMS5hQinL05mfap2vNa6gOszETuDIfJzfKyvLMp0UZKysbpIMxFdQAPYMjqDE9SV5lNWmL2TZRdrqS1x9fyWM8OThCPGUS0wK9h2u/i8dA1OXN4DzQnyc/yaiegCGsCW0e2gDERLa12ALhdnIlo1ZickcFis/0OdLq7tdw9OZPWyXom01gVcPzbpdhrAlmCMuVyrdJKWWCZicHw200VJi85YBmK2bteRiJWJ6NbuqonZBS6MTjumq93SUlvCGc1EdDQNYEvoG5thykEZiJYrtX13do10D07QXFmUtdt1JGKtiejWrl2rFeO8yl5AMxEdTgPYErour3burFplfCaiG3UNhhzXVQXRlrFrz4kDdgZIRNdEdD4NYEuwapVOuyitTEQ39u3Ph6MZiFsdVqmAaEXIrZmI3YMT5Pl9NDskA9GimYjOpwFsCV3BCapL8qgozst0UVaspdadtf2zw1PMh43jKhXg7kzErsEJNtcUk5PlayAuppmIzues/3E26hoMOa5P39JSV0LXoPsyEa2bv9PGJSGuu8qFtX1HXyu1monoZBrAErAyEJ02/mVprYvuzuy2TETr5u+kDETLlTUR3XWznJqLroHo3GtFMxGdTANYAoOhWUIzC46s6cOVbDC3DU53DU7QVF5Icb5tK6CljM8nbKktdt056RmaxBhntooBtsYyEU9f1ExEJ9IAloATJ8vGa3Hpor5dgxOOvVGCO7urrIDsxHFJuFJu3VrFmTSAJXDlonRmt0h1SR7lRbl0D7nnogxHDKeGnLfaQ7yttSX0j80QmnFPJmJXcIIcn7ChKrt3YV7KpupifILrKhZeoQEsga7BCcqLcqkucV4GIoCI0FJbQreLWmDnR6aYW4g4tlIBV2r7p1w0cbZrcIKN1cXk5TjzVlKQ62dDVbErs0O9wJn/69KsOxit6Ys4Y2HSRLbWBugcDLkmE9Hq4tnq5C7Ey5mI7rlZOnENxMW21pa4rrvdK2wLYCJyr4h0iEi3iDyW4HkRkb+IPX9ERHYn+9pUMsbQORhy5GTZeC21JYxOzTM8OZfpoqSE1a3r1HFJgPUVheTl+FzTXTUzH+bs8KTjA1hLbQmnL04yH45kuihqhWwJYCLiB74K3AdsBx4Ske2LDrsPaIl9PQx8bQWvTZmLE3OMTs07/6KMtVTcUrPsDk7QUFZAaYFztrZZLMfvY3N1sWsSBk5fnCRinLNf3lJa6kpYiBjODruna9cr7GqB7QW6jTE9xpg54EnggUXHPAD8rYk6AJSLSEOSr00Zq6bvpP2mErFaKm7p23fizgCJuGlRXysQOzkzFGBrjTuzdr3ArgDWBJyP+7039lgyxyTz2pTpdslFWV9aQEl+jitq+5GIiY21OLtSAdHM1t5L00zPOX/ibHcwhE+imXxOtqU2Wn43XCsTswt85cVO11Rcr8WuAJYoG2JxdsFSxyTz2ugbiDwsIgdF5ODQ0NAKixh1bniKQEEOtYH8Vb0+W4hEt/Bww3jLhdFppufDrmiBtdSVYAyccsEUh67BCTZUFZOf45ytbRIpysthXUWhK66VrmCIr7zYxemLU5kuii3sCmC9wPq439cBfUkek8xrATDGPG6M2WOM2VNTU7Oqgn7+F6/jx//X3Y7OQLS01Ja4olZp3VhaHd4qhiup9K64WbogA9Hilmuly6G7aKyWXQHsLaBFRDaJSB7wIPDsomOeBX4zlo14GzBmjOlP8rUpIyKUFTo3USBeS10JQ6FZRqecnYnohgxEy4aqYnJ84vhxsLmFCGcuTjq+q93SUhfg1NAE4Yizp510D06Ql+NjvcO2tlktWwKYMWYBeBR4HmgHnjLGHBeRR0Tkkdhh+4EeoBv4a+Azy73WjnI7nTVm5PTafldwgppAPuVFzpxYHi8vx8fG6mLHJwycHZ5kIWJcMS4J0crR3EKE8yPO7nrrCobYUlOC3+f8HqRk2LYqqjFmP9EgFf/Y1+N+NsBnk32turatceu87dlYmeHSrJ6buqoAttY4f7+2yxPLXXJe4q+VjQ5OSukanGB3c0Wmi2EbXYnDxZrKCynI9Tm6tm+MccVqD/FaYlt4zC44NxOxKziBiDO3tknEDTs4XNnaxh3nJBkawFzM54tlIjo4421gfIaJ2QW2OnxeXryttSVEDJxxcKZY12CI9RVFFOY5OwPRUlqQS31pgaO7208NRidiu2VcMhkawFyupTZAt4O7q6zWo5tqlZe3u3Fwbd9trWKI3vidHMCuJDu5p7J3LRrAXG5rbQl9Dt7Cw41pwZtrolt4OLVrdyEcoWdo0tELKydizZuMODQTsWtwgly/sKHKGxmIoAHM9Zw+76h7MERlcR5VJc6eWB6vINdPc2WRY1tg50ammAs7e2ubRFpqA0zNhbkwOp3poqxKV3CCTdXF5Pq9c1v3zl/qUZe38HBoAOsKumMNxMW21gYc2wJzY6sYrowdObmy57ZKxbVoAHO55soix27hYYxxXQq9paXOuVt4WP+XtrjsvLQ4OBNxZj7MuZEpTyVwgAYw1/P7hC0OnXc0NDHL2LTzt7ZJpDW2hceZi87bwqMrGKKpvJCSfNumkdqivCiPmkA+nQ5sGfcMxba20RaYcpsWh+44221lILoohd5i3WiceLN0y9Y2iUSvFedV9qxWo7bAlOu01pVwYXSaidmFTBdlRdw61gLRCcAizuuuCkfcN7E8XmtdgK7BCaILAzlH9+AEfp+wscq5q4ishgYwD7BaME4bB+saDFFakEONw7e2SaQwL5aJ6LAW2IVL08wuRFxb02+pK3FkJmJXcIKNVdHxbi/x1l/rUZcHpx3WNdIVnKClLuCKrW0SaakNOK4F5vbJslcmmTurYtHlwQxE0ADmCVYmotMuSjd3VYEzMxHdtojvYk6s7M0tRDgz7L0MRNAA5gk5fh+bq4sdlYk4PDHL8OSca2+UEB2bnA87KxOxMxiirjTfNXvmLVZRnEd1ibMyEU9fnCQcMa6+VpaiAcwjWuucNXG208UZiBYndld1BSdc31XVWues3Zmtiqnbz0siGsA8wspEnHRIJqI11tLm4gBmZSI6pWUciRi6BkO0uvicQLSy1x0MOSYTsSsYwu8TNtd4KwMRbAhgIlIpIi+ISFfs+1W7rYnIehF5RUTaReS4iHwu7rkvisgFEXk39nV/usvsRlsdtjtzx0A0A7Gu1H0ZiJbLmYgOOSfnL00xMx+hrd7dXVVba0uYnAvTNzaT6aIkpSMYYmNVEQW57tjaZiXsaIE9BrxkjGkBXor9vtgC8O+NMdcBtwGfFZHtcc//mTHmxtiX7sy8Cq2xAV6n1Pa7ghO0ujgD0eKkibNe6NYFLrcwnXateJEdAewB4InYz08AH118gDGm3xjzduznENAONNlQNs9oriwiz++MTERjDB3BEK317r8oW+oCjslEvDLW4u4WmJMyEWfmw5wZntQAlkZ1xph+iAYqoHa5g0VkI3AT8Ebcw4+KyBER+VaiLkh1bTl+H5trih1xUQ6Gomsgunn8y2JlIp4dzv5MxI6B6BqIgQJ3ZiBarExEJyQ9dQ9OEDFoAFsLEXlRRI4l+Hpghe9TAnwP+H1jzHjs4a8BW4AbgX7gT5Z5/cMiclBEDg4NDa3uj3Gx1rqAI9KDL9f0PTCvxUlrInYGQ5e7ot2uta6ETgf0VlxOdnL5uORSUhLAjDEfNMbsTPD1DBAUkQaA2PfBRO8hIrlEg9ffGWO+H/feQWNM2BgTAf4a2LtMOR43xuwxxuypqalJxZ/mKi21zshE7BhwfwaixSmZiPOxXZi90K0L0WvFCZmIHQMT5Pl9bPDYGogWO7oQnwU+Ffv5U8Aziw+Q6Ej9N4F2Y8yfLnquIe7XjwHH0lRO13PKmoidwRDVJe7ahXkpTslEPDs8yVw4QqtH5hq11AUckYnYGQyxucZbuzDHs+Ov/jJwj4h0AffEfkdEGkXEyii8HfgkcHeCdPk/FpGjInIEuAv4AxvK7EpW909Hltf2Oz0wWTZeS22AzoHsPycAbR5pgV3ORMz68+L+eXnLSfuOdMaYYeADCR7vA+6P/fxjIGG+tDHmk2ktoIdsqCqmINd3uYsuGxlj6AqG+Pie9Zkuim221Qd4pWOQ2YUw+TnZOZenYyCESLTL0wus7uuTAyHu2rZs3lnGTM4u0Htpmgdv8c61spg3250e5fcJLbWBrA5gF0anmZwLe6pW2VYfIBwxnBrM3kzErsEQGyqLKMzLzgCbamVFuTSUFdAxMH7tgzPE6nb20rWymAYwj2mrD3AyiwOYlczglWw3iLbAADqC2Xuz7BgIuX4C82JZf60MWNeKt85LPA1gHrOtPsDFiVmGJ2YzXZSEOga8sdpDvI3VxeT5fVl7s5xdCHNmeMoTWaHx2uoDnBqayNpJ5h3BEAW5PtZXFmW6KBmjAcxjrEH4bO1G7AqGqC8tcO12HYnk+n1sqS3hZH92npOeoeh2HV5Jobdsqw8wHzacztLtbjqD0U0s/T53L7e2HA1gHmMFsGyt7XtlCanFttVn79ikF7t1AdrqSoHsvVY6gyFPTPZfjgYwj6kpyaeyOC8rb5bhiKF7cII2D16UbfUBBsZnGJuaz3RRrtIxECLHJ2yu9tZ52VJbjN8nWZnIMTY1T3B81nPduotpAPMYEWFbfYCTWTgX7NzIFLMLEU+Nf1mutIyz72bZGZyIjtPleOt2kZ/jZ0tNcVZW9joHNYEDNIB5Ult9gK5giEgku5bJOdkfvXlv82gXImTnJPOTA+OemcC8WFt9aVZ2IVrXilfPi0UDmAdtqw8wNRfm/KWpTBflPdr7x/GJN2uV9aUFlBbkZN3Ncnxmnt5L02xvKM10UTJiW32A3kvTTGTZ+qEn+kOUFUbnqnmZBjAPaqvPzsHpE/0hNteUeHJn2WjXbmnWdVdZmZHXNXivUgFXVuTItvPS3j/OdQ3u3/D1WjSAeVBrXXQF9GxL245elN6s6UO0O6hzILtWQG+PdVV59bxk49hkOGLoGAh59pzE0wDmQUV5OTRXFmXVyg9j0/NcGJ32bE0fojfL0OwCF0anM12Uy9r7xykvyqW+1JtdVesqCinJz8mqFtjZ4Umm58MawNAA5lltddm1TM5Jj9f0IS6RI4vOS3v/ONfVl3q2q0pEaK0ryapr5UTsWvHquGQ8DWAeta0+wJmLk8zMhzNdFOBKV5WXL8rWLJtkHo4YOoLaVdUWG5vMlq7d9v5x/D5ha6235uUlogHMo9rqS4mY7Nncsr0/RGVxHrUB929iuZTSglyayguzJoCdvjjJzHzE0926EK3sjU1HJw5ng/b+EFtqij2Z7LSYBjCP2ha7KVktn0xrH9CsKojeLE9myzmxWsWN3m6BWV277VmSyNHeP+7pnop4aQ9gIlIpIi+ISFfse8USx52J7bz8rogcXOnr1cpsrCqmMNd/uT89kxbCkWhWVb1elNsbSzk1NMH0XOa7dtv7x8nRriquiwXwE32Zv1ZGp+boH5vxfLeuxY4W2GPAS8aYFuCl2O9LucsYc6MxZs8qX6+S5PcJ2xtLOX4h8xflmeFJZhcielECOxrLiJjsSNtu7x9na21J1u4SbZfSglw2VBVxvG8s00W5XOHUayXKjgD2APBE7OcngI/a/Hq1hJ2NpRzvG8v4klInLk+W1YtyZ1P03+BYFtT22/s1gcOys7GMY1lQ2WvXa+U97AhgdcaYfoDY99oljjPAD0XkkIg8vIrXqxXa0VjG5FyYM8OZ3e/oRN84uX7tqgJoKi+krDCXExmu7Y9MzjEwPuP5BA7L9sZSzo1MMTad2d0C2vvHqS7Jp8bDyU7xclLxJiLyIlCf4KnPr+BtbjfG9IlILfCCiJw0xry2wnI8DDwM0NzcvJKXetKOWG3/eN84m2syFzza+8fZUlPiudXOExERdjaVZry27/UVOBbb2VQGRCtb79tSlbFyWEtIqaiU3DGMMR80xuxM8PUMEBSRBoDY98El3qMv9n0QeBrYG3sqqdfHXvu4MWaPMWZPTU1NKv40V2upDZDn93Esw7V9zap6r52NZXQMhDK6lb0GsPfa0WhV9jJ3rcyHI3QFJ/RaiWNHlfdZ4FOxnz8FPLP4ABEpFpGA9TPwIeBYsq9Xq5OX46OtPpDRRI7hiVkGQ7N6o4yzo6mMudjNKlNO9I9TE8inukS7qgCqS/KpLy3geAbHJk8NTTAX1mSneHYEsC8D94hIF3BP7HdEpFFE9seOqQN+LCKHgTeBfzXG/GC516vU2NFYyrG+sYytMqCD0lezavuZbBlrAsfVol27mTwn2ipeLCVjYMsxxgwDH0jweB9wf+znHmDXSl6vUmNHUxlPvnWevrEZmsoLbf/8IxdGgSvZdwo2VRVTnOfn+IUx2LPe9s+fmQ/TGQxx9zbtho+3o7GMl08OMjW3QFFe2m+dVznSO0ZBro8tNcW2f3a20lFzj9tp1fYzVLM8cn6MDVVFlBflZeTzs5EvNkcvU6n0x/vGCUcMN6wrz8jnZ6sdjdHl19oztA3Rkd4xdjaWkePX27ZF/yU87rqGUvw+idb2M+Bw7yi79EZ5lR2NZbT3RwOJ3Q6fHwXQ87LIlUxE+6+V+XCE431jWqlYRAOYxxXk+tlSU5yR2v5gaIb+sRluWFdm+2dnux2NpUzNhTl90f45ekd6R6krzafe49vVL9ZQVkBlcV5Gpjh0BkPMzEfYtV6vlXgawFRslQH7a5VHzkc/c9f6cts/O9tZtf1MpG0f6dWafiIicjnpyW5HemPXip6X99AAptjRVMZgaJbB0Iytn3ukdxSfXMm6U1dsrY1O7LY7bXtsep6ei5Ps0lZxQjsay+gMhphbsHeO3pHeUcoKo2syqis0gKnLiRx23yzf7R2jtS6QkYyubJfr93FdfcD2lvHRWE1fW2CJ7WwqZT5s6Azam8hx+PwYN6wr8/x2Q4tpAFNsbyxF5MrNyw7GGI5oAseydjSVcfSCvYstH+4dBdBxySXsbIz+uxy1sWIxMx+mIxjSc5KABjBFoCCXltoS3j53ybbPPD8yzejUPDfooPSSblpfTmhmgVND9q3IcaR3lI06rWFJG6qKqCzO4+2z9l0r1rQGrexdTQOYAuDmDRW8ffaSbbV9q6avF+XSbt4Q3bv1kI03S03gWJ6IsLu5nEM2VvYuT2vQZKeraABTAOxurmDcxtr+4fOj5MfWYlSJbaoupqIo17YANjiu0xqSsXtDBT1Dk4xMztnyeda0hrpSndawmAYwBdhf2z/SO8b2xlJydVWBJYkIN2+osK22f7hXpzUk4+bm6LXyjk3nRVvFS9O7hwLsre2HI4ZjfWPafZgEq7Z/yYbavk5rSM4N68rJ8Ykt14pOa1ieBjAFWH37FbYkcnQPTjA1F9ZVBZKw26rtn0//eTms0xqSUpjnZ3tjqS0BzJpGoa3ixDSAqct2b6jglA21/XdjN2PtFrm2XevK8dtQ249EDIfP67SGZO1uruBw72jaNx19N5bAcUNTeVo/x6k0gKnLrHGwdNf23+gZobokj83Vui3EtRTm+dlhQ22/IxhibHqevZsq0/o5bnHzhgpm5iOX9+hKlwM9w2yrD1BWlJvWz3GqtAcwEakUkRdEpCv2vSLBMW0i8m7c17iI/H7suS+KyIW45+5Pd5m9yo7avjGGAz3D3LqpSlcVSNLu5goOnx9La23/QM8wALdu1gCWDKuyl875YPPhCAfPXOK2zVVp+wyns6MF9hjwkjGmBXgp9vt7GGM6jDE3GmNuBG4GpoCn4w75M+t5Y8z+xa9XqWFHbf/8yDR9YzPcpjfKpN28oYLp+TAn07gP1YGeYdZVFLKuQtfaS0ZjeSENZQUcOjeats840jvG9HyYW7VVvCQ7AtgDwBOxn58APnqN4z8AnDLGnE1noVRiVm1/IU21faumr7XK5F2u7acpwSYSMbxxekTPyQrtjk3+TxfrWtFu3aXZEcDqjDH9ALHvtdc4/kHgu4see1REjojItxJ1QarU2W3V9gfSU9s/0DNMVXEeW2tL0vL+btRYXkh9aUHaWsYdwRCjU/MawFZod3MFF0an6R+bTsv7H+gZpq0uQFVJflre3w1SEsBE5EUROZbg64EVvk8e8BHgH+Me/hqwBbgR6Af+ZJnXPywiB0Xk4NDQ0Mr/EHW5tn/wzEjK39sa/7pts45/rdTNGyrSFsDesMa/tKa/Iumc/H9l/EvPyXJSEsCMMR80xuxM8PUMEBSRBoDY98Fl3uo+4G1jTDDuvYPGmLAxJgL8NbB3mXI8bozZY4zZU1NTk4o/zXMaywpoKi/kp6eGU/7eOv61ens3VXJhdJozadih+UDPCOsqCllfqeNfK7GjsZTiPH9arhVr/EtbxcuzowvxWeBTsZ8/BTyzzLEPsaj70Ap+MR8DjqW0dOo9RIR9bTX89NRwyjftu5LpphflSu1rjVbIXutKbc9CdPxrWG+Uq5Dr9/H+rdX8qGMIY1K7CLaOfyXHjgD2ZeAeEekC7on9jog0isjljEIRKYo9//1Fr/9jETkqIkeAu4A/sKHMnravtYaJ2YWUJw0c6BmmsjiPFh3/WrGN1cVsqCriRx2pDWCdgyEu6fjXqu1rreHC6DSnhlLbMtbxr+Skfc0YY8ww0czCxY/3AffH/T4FXHUVGWM+mdYCqqu8f0sVOT7hR51DKbuxXRn/qtTxr1Xa11rDPx7sZXYhTH6OPyXveeCUjn+thdUy/lHnUMoSk6zxr0/sWZeS93MzXYlDXSVQkMvNGypSWtu/Mv6lNf3V2tdaw/R8mINnUtcy1vGvtVlfWcTmmmJ+1Jm6a0XHv5KnAUwltK+thhP94wyOz6Tk/X7WcxHQ+V9rcdvmKvL8vpTdLMM6/pUSd7bW8kbPMDPz4ZS8n45/JU8DmEroStLAxZS83wsngjSUFej41xoU5+dwy6bUtYwPnb3Epal57mjVjN212NdWw+xC5HLgWasfnghyfVOZjn8lQQOYSmh7Qyk1gXxe7Vhu1kNyQjPzvNZ5kft2Nuj41xrta62hIxiib3Ttk2f3H+0nL8fH3duutbaAWs6tmyrJz/HxagoqFhdGpzl8fpT7rq9PQcncTwOYSkhE2Ndaw+tdFwlH1pYi/PLJQebCEb0oU+DOtmiweW2N3YiRiOH54wPsa62hJF/3/1qLglw/t22uWvM5AfjBsQEA7tvZcI0jFWgAU8vY11rD2PQ8h3tH1/Q+zx0doDaQf3krdrV6LbUlNJQVrHkc7N3eUfrHZrhfKxUpsa+1hp6Lk5wbnlrT+zx3tJ/rGkrZpFsNJUUDmFrSz22txifw6snVdyNOzS3waucg9+6sx+fT7sO1slrGP+66uKaJ5s8d7SfXL9y9rS6FpfOuO9ui44ivdq7+WgmOz3Do3CXu26mVimRpAFNLqijOY++mSv753T4iq+xGfLVjiJn5iHaJpNCHdtQRml3g5ZPBax+cgDGG/UcH+Lmt1ZQV6kaJqbCpupittSU8/c6FVb/H88cHMAZtFa+ABjC1rAdvaebcyBQ/W2WG1f6j/VTFAqFKjTtaaqgvLeC7b55f1euPXRjnwug0912vlYpUEREevGU975wbpWOVOznsP9pPS20JW2sDKS6de2kAU8u6d2c9ZYW5fPfNcyt+7cx8mFdODvKhHfX4tfswZXL8Pj6xZx2vdQ3Re2nlYy77j/Xj9wn3XKfdh6n0y7vXkef3repauTgxy5unR7T7cIU0gKllFeT6+dhNTfzweJCRybkVvfa1ziEm58LaJZIGH9+zHoCnDvau6HXGGJ472s/7t1RRUZyXjqJ5VmVxHh/aUcfT71xY8aTmHx4PEjFoq3iFNICpa3pw73rmwhG+//bKbpbfeeMcVcV5utJDGqyvLOLntlbzjwfPr2iaw0+6hzkzPMWHb9AbZTo8eEszY9PzPH98IOnXGGP4zoGzbKkpZlu9dh+uhAYwdU3b6ku5cX05T751PultIw6dvcRrnUM8fMdmcv363ywdHtrbTP/YTNLzj4wxfOXFThrKCvjoTU1pLp03vX9LFesrC1fUjfjCiSAn+sf57F1bdaL/CumdRSXlob3r6R6cSHqLlT9/qYvK4jw++b4NaS6Zd33wujqqivOSvln+pHuYg2cv8Zm7tqZsNXv1Xj6f8OAtzRzoGeF0EpuPRisVXWyqLuYjuxptKKG7aABTSfnwDY0U5/n5xuunr3ms1fr63Ts2U5SnqzykS16Oj1+5eR0vnRykZ2hi2WPjW1+6TUd6/crN6/D7hG/9+NrXitX6+r27t5KjPRUrpv9iKinF+Tn87r4tPHdsgH850rfssdr6ss+nb99EcZ6ff/fUYRbCS09s/ukpbX3Zpa60gF+/tZn/feAsPz219GLY2vpau7QHMBH5uIgcF5GIiOxZ5rh7RaRDRLpF5LG4xytF5AUR6Yp91/WIMuQzd25h1/pyPv/0MQbGEm+zoq0ve9WXFfClj+7k3fOjfO3VUwmP0daX/R67bxubqov5w6cOMz4zn/AYbX2tnR3/aseAXwZeW+oAEfEDXwXuA7YDD4nI9tjTjwEvGWNagJdiv6sMyPH7+LNP7GJ2Icx/+KfDVyV0tPeP8+jfv011SR6/cZu2vuzywI1N/NKuRv78pS6O9o6957mFcITP//Mx3jpzic9q68s2RXk5/OkndhEMzfLFZ45f9fzBMyP8x+8dYbO2vtYk7QHMGNNujOm4xmF7gW5jTI8xZg54Engg9twDwBOxn58APpqWgqqkbK4p4fP3X8frXRf5n8+d5PxIdCLta51DfPzrP8MY+NvfupViXeHcVl96YAdVJXl87h/e4Sfd0XUSJ2YX+J2/Pcjfv3GOz9y5hV/b25zpYnrKTc0VfPaurXz/nQt89ZXuy70W/3Kkj1/7xhtUFOXxN5++RVtfayDJpkWv+YNEXgX+0BhzMMFzvwLca4z5ndjvnwRuNcY8KiKjxpjyuGMvGWOu2Y24Z88ec/DgVR+lUsAYw2f//m32H43OddlcU8y54Sm21pbwN5++hYaywgyX0Jt+0n2R337iLWbmI5Tk51BWmMvA+AxfemAnv3arBq9MmA9H+OQ33+BAzwgQ3U2ga3CCPRsq+Ovf3JOVk8lF5JAxZsnhnmySkmqyiLwIJFpu4fPGmGeSeYsEj604sorIw8DDAM3NesGmi4jwV79+Mz1DE7zSMcSrHYPsWlfOHz2wg0CBLg6bKbdvrebQ/30PPz01zCsdg5zsH+e/f2wnd7XphpWZkuv38d1/exudwQlePjnIjzoH2bupmf/y4e0U5Gp37lplSwvsfcAXjTG/EPv9PwEYY/6niHQAdxpj+kWkAXjVGNN2rc/TFphSSq2ck1pg2dL5+hbQIiKbRCQPeBB4Nvbcs8CnYj9/CkimRaeUUsrl7Eij/5iI9ALvA/5VRJ6PPd4oIvsBjDELwKPA80A78JQxxkrd+TJwj4h0AffEfldKKeVxtnUh2k27EJVSauW0C1EppZRKMw1gSimlHEkDmFJKKUfSAKaUUsqRNIAppZRyJNdmIYrIEHB2lS+vBpbeB8EZnP43OL384Py/QcufeZn4GzYYY2ps/sxVcW0AWwsROeiUNNKlOP1vcHr5wfl/g5Y/89zwN6STdiEqpZRyJA1gSimlHEkDWGKPZ7oAKeD0v8Hp5Qfn/w1a/sxzw9+QNjoGppRSypG0BaaUUsqRNIAtIiL3ikiHiHSLyGOZLs9Kici3RGRQRI5luiyrISLrReQVEWkXkeMi8rlMl2klRKRARN4UkcOx8v+3TJdpNUTELyLviMi/ZLosqyEiZ0TkqIi8KyKOW9VbRMpF5J9E5GTsWnhfpsuUjbQLMY6I+IFOotu29BLdp+whY8yJjBZsBUTkDmAC+FtjzM5Ml2elYpuWNhhj3haRAHAI+KhTzoGICFBsjJkQkVzgx8DnjDEHMly0FRGRfwfsAUqNMR/OdHlWSkTOAHuMMY6cByYiTwCvG2O+EdsjscgYM5rhYmUdbYG9116g2xjTY4yZA54EHshwmVbEGPMaMJLpcqyWMabfGPN27OcQ0f3hmjJbquSZqInYr7mxL0fVEkVkHfCLwDcyXRYvEpFS4A7gmwDGmDkNXolpAHuvJuB83O+9OOjm6TYishG4CXgjw0VZkVj327vAIPCCMcZR5Qe+AvxHIJLhcqyFAX4oIodE5OFMF2aFNgNDwN/EunG/ISLFmS5UNtIA9l6S4DFH1Z7dQkRKgO8Bv2+MGc90eVbCGBM2xtwIrAP2iohjunJF5MPAoDHmUKbLska3G2N2A/cBn411rTtFDrAb+Jox5iZgEnDceLwdNIC9Vy+wPu73dUBfhsriWbGxo+8Bf2eM+X6my7NasW6fV4F7M1uSFbkd+EhsDOlJ4G4R+U5mi7Ryxpi+2PdB4GmiwwNO0Qv0xrXc/4loQFOLaAB7r7eAFhHZFBs4fRB4NsNl8pRYEsQ3gXZjzJ9mujwrJSI1IlIe+7kQ+CBwMqOFWgFjzH8yxqwzxmwk+v//ZWPMb2S4WCsiIsWxBCBiXW8fAhyTlWuMGQDOi0hb7KEPAI5IYrJbTqYLkE2MMQsi8ijwPOAHvmWMOZ7hYq2IiHwXuBOoFpFe4AvGmG9mtlQrcjvwSeBobBwJ4D8bY/Znrkgr0gA8Ecto9QFPGWMcmYruYHXA09G6EDnA3xtjfpDZIq3Y7wF/F6tI9wCfznB5spKm0SullHIk7UJUSinlSBrAlFJKOZIGMKWUUo6kAUwppZQjaQBTSinlSBrAlFJKOZIGMKWUUo6kAUwppZQjaQBTSinlSBrAlFJKOZIGMKWUUo6kAUwppZQjaQBTSinlSBrAlFJKOZIGMKWUUo6kAUwppZQjaQBTSinlSBrAlFJKOZIGMKWUUo6kAUwppZQj/f/jOyQRGH4O7AAAAABJRU5ErkJggg==' width=432.0/>\n",
       "            </div>\n",
       "        "
      ],
      "text/plain": [
       "Canvas(toolbar=Toolbar(toolitems=[('Home', 'Reset original view', 'home', 'home'), ('Back', 'Back to previous …"
      ]
     },
     "metadata": {},
     "output_type": "display_data"
    }
   ],
   "source": [
    "fig, ax = plt.subplots()\n",
    "\n",
    "x = np.linspace(0, 2*np.pi, 100)\n",
    "y = np.sin(3*x)\n",
    "ax.plot(x, y)"
   ]
  },
  {
   "cell_type": "markdown",
   "metadata": {},
   "source": [
    "In addition to the Matplotlib interactive widget, JupyterLab offers a plethora of other useful extensions. The bottom-most icon on the far left (that looks like a piece of a puzzle) can be used to find add-ons that might prove very useful. Some examples are:\n",
    "* plyto: Python Visualization Toolkit for Machine Learning and Data Exploration [https://github.com/jupytercalpoly/plyto]\n",
    "* cvplot: The Contribution-Value plot is a visual encoding for interpreting machine learning models. [https://github.com/iamDecode/cvplot]\n",
    "We encourage you to explore these (and other) features on your own!"
   ]
  },
  {
   "cell_type": "markdown",
   "metadata": {},
   "source": [
    "## Supplementary Material 1: Navigating File Paths\n",
    "Motivated by the ``savefig()`` example in Section 2.1, in this optional section, we get a quick understanding of how to answer the questions: *What if I want to save my figure in a subdirectory of the current working directory? What if I want to save my figure in a directory that is one level up? What if I want to save my figure in a completely-specified directory (i.e. absolute path)?*\n",
    "\n",
    "This knowledge is useful beyond the motivating ``savefig()`` usage. For example, it can be used in the ``read_csv()`` part of the other Notebook for this week (*process_covid_data_2-fixed.ipynb*). Since the Linux operating system also uses a similar syntax to navigate file systems, this knowledge will also be useful in the next course of this series, where we will use UW's Linux-based supercomputer Hyak to perform Density Functional Theory calculations. \n",
    "\n",
    "For the purposes of this demonstration, let us assume we are working with the following file hierarchy (note: `Parent` is the default directory that JupyterLab opened into the first time you ran it; highest-level directory):\n",
    "          \n",
    "```\n",
    "Parent (directory)\n",
    "│   getting-started-guide_-_UW-JupyterHub-for-teaching.ipynb    \n",
    "│\n",
    "└───week2 (directory)\n",
    "│   │   Janus_band_structure.csv\n",
    "│   │   Week2_Python.ipynb\n",
    "│   │   imposter.png (we will create this later!)\n",
    "│    \n",
    "└───week3 (directory)\n",
    "    │   process_covid_data_2-fixed.ipynb\n",
    "    │   Week3_Visualization.ipynb\n",
    "    │   figure1fig.png\n",
    "    │   \n",
    "    └───random_folder (MAKE THIS DIRECTORY!)\n",
    "        │   RANDOM_figure1fig.png\n",
    "```\n"
   ]
  },
  {
   "cell_type": "code",
   "execution_count": 52,
   "metadata": {},
   "outputs": [
    {
     "ename": "FileNotFoundError",
     "evalue": "[Errno 2] No such file or directory: 'random_folder/RANDOM_figure1fig.png'",
     "output_type": "error",
     "traceback": [
      "\u001b[0;31m---------------------------------------------------------------------------\u001b[0m",
      "\u001b[0;31mFileNotFoundError\u001b[0m                         Traceback (most recent call last)",
      "\u001b[0;32m/tmp/ipykernel_71/64695620.py\u001b[0m in \u001b[0;36m<module>\u001b[0;34m\u001b[0m\n\u001b[1;32m      8\u001b[0m \u001b[0;34m\u001b[0m\u001b[0m\n\u001b[1;32m      9\u001b[0m \u001b[0;31m# Now, create a subfolder named \"random_folder\" inside the \"week3\" directory.\u001b[0m\u001b[0;34m\u001b[0m\u001b[0;34m\u001b[0m\u001b[0m\n\u001b[0;32m---> 10\u001b[0;31m \u001b[0mfig1\u001b[0m\u001b[0;34m.\u001b[0m\u001b[0msavefig\u001b[0m\u001b[0;34m(\u001b[0m\u001b[0;34m'random_folder/RANDOM_figure1fig.png'\u001b[0m\u001b[0;34m)\u001b[0m \u001b[0;31m# Save figure as \"RANDOM_figure1fig.png\"\u001b[0m\u001b[0;34m\u001b[0m\u001b[0;34m\u001b[0m\u001b[0m\n\u001b[0m\u001b[1;32m     11\u001b[0m                                                         \u001b[0;31m# inside \"random_folder\"\u001b[0m\u001b[0;34m\u001b[0m\u001b[0;34m\u001b[0m\u001b[0m\n\u001b[1;32m     12\u001b[0m \u001b[0;34m\u001b[0m\u001b[0m\n",
      "\u001b[0;32m/opt/conda/lib/python3.9/site-packages/matplotlib/figure.py\u001b[0m in \u001b[0;36msavefig\u001b[0;34m(self, fname, transparent, **kwargs)\u001b[0m\n\u001b[1;32m   3013\u001b[0m                 \u001b[0mpatch\u001b[0m\u001b[0;34m.\u001b[0m\u001b[0mset_edgecolor\u001b[0m\u001b[0;34m(\u001b[0m\u001b[0;34m'none'\u001b[0m\u001b[0;34m)\u001b[0m\u001b[0;34m\u001b[0m\u001b[0;34m\u001b[0m\u001b[0m\n\u001b[1;32m   3014\u001b[0m \u001b[0;34m\u001b[0m\u001b[0m\n\u001b[0;32m-> 3015\u001b[0;31m         \u001b[0mself\u001b[0m\u001b[0;34m.\u001b[0m\u001b[0mcanvas\u001b[0m\u001b[0;34m.\u001b[0m\u001b[0mprint_figure\u001b[0m\u001b[0;34m(\u001b[0m\u001b[0mfname\u001b[0m\u001b[0;34m,\u001b[0m \u001b[0;34m**\u001b[0m\u001b[0mkwargs\u001b[0m\u001b[0;34m)\u001b[0m\u001b[0;34m\u001b[0m\u001b[0;34m\u001b[0m\u001b[0m\n\u001b[0m\u001b[1;32m   3016\u001b[0m \u001b[0;34m\u001b[0m\u001b[0m\n\u001b[1;32m   3017\u001b[0m         \u001b[0;32mif\u001b[0m \u001b[0mtransparent\u001b[0m\u001b[0;34m:\u001b[0m\u001b[0;34m\u001b[0m\u001b[0;34m\u001b[0m\u001b[0m\n",
      "\u001b[0;32m/opt/conda/lib/python3.9/site-packages/matplotlib/backend_bases.py\u001b[0m in \u001b[0;36mprint_figure\u001b[0;34m(self, filename, dpi, facecolor, edgecolor, orientation, format, bbox_inches, pad_inches, bbox_extra_artists, backend, **kwargs)\u001b[0m\n\u001b[1;32m   2253\u001b[0m                 \u001b[0;31m# force the figure dpi to 72), so we need to set it again here.\u001b[0m\u001b[0;34m\u001b[0m\u001b[0;34m\u001b[0m\u001b[0m\n\u001b[1;32m   2254\u001b[0m                 \u001b[0;32mwith\u001b[0m \u001b[0mcbook\u001b[0m\u001b[0;34m.\u001b[0m\u001b[0m_setattr_cm\u001b[0m\u001b[0;34m(\u001b[0m\u001b[0mself\u001b[0m\u001b[0;34m.\u001b[0m\u001b[0mfigure\u001b[0m\u001b[0;34m,\u001b[0m \u001b[0mdpi\u001b[0m\u001b[0;34m=\u001b[0m\u001b[0mdpi\u001b[0m\u001b[0;34m)\u001b[0m\u001b[0;34m:\u001b[0m\u001b[0;34m\u001b[0m\u001b[0;34m\u001b[0m\u001b[0m\n\u001b[0;32m-> 2255\u001b[0;31m                     result = print_method(\n\u001b[0m\u001b[1;32m   2256\u001b[0m                         \u001b[0mfilename\u001b[0m\u001b[0;34m,\u001b[0m\u001b[0;34m\u001b[0m\u001b[0;34m\u001b[0m\u001b[0m\n\u001b[1;32m   2257\u001b[0m                         \u001b[0mfacecolor\u001b[0m\u001b[0;34m=\u001b[0m\u001b[0mfacecolor\u001b[0m\u001b[0;34m,\u001b[0m\u001b[0;34m\u001b[0m\u001b[0;34m\u001b[0m\u001b[0m\n",
      "\u001b[0;32m/opt/conda/lib/python3.9/site-packages/matplotlib/backend_bases.py\u001b[0m in \u001b[0;36mwrapper\u001b[0;34m(*args, **kwargs)\u001b[0m\n\u001b[1;32m   1667\u001b[0m             \u001b[0mkwargs\u001b[0m\u001b[0;34m.\u001b[0m\u001b[0mpop\u001b[0m\u001b[0;34m(\u001b[0m\u001b[0marg\u001b[0m\u001b[0;34m)\u001b[0m\u001b[0;34m\u001b[0m\u001b[0;34m\u001b[0m\u001b[0m\n\u001b[1;32m   1668\u001b[0m \u001b[0;34m\u001b[0m\u001b[0m\n\u001b[0;32m-> 1669\u001b[0;31m         \u001b[0;32mreturn\u001b[0m \u001b[0mfunc\u001b[0m\u001b[0;34m(\u001b[0m\u001b[0;34m*\u001b[0m\u001b[0margs\u001b[0m\u001b[0;34m,\u001b[0m \u001b[0;34m**\u001b[0m\u001b[0mkwargs\u001b[0m\u001b[0;34m)\u001b[0m\u001b[0;34m\u001b[0m\u001b[0;34m\u001b[0m\u001b[0m\n\u001b[0m\u001b[1;32m   1670\u001b[0m \u001b[0;34m\u001b[0m\u001b[0m\n\u001b[1;32m   1671\u001b[0m     \u001b[0;32mreturn\u001b[0m \u001b[0mwrapper\u001b[0m\u001b[0;34m\u001b[0m\u001b[0;34m\u001b[0m\u001b[0m\n",
      "\u001b[0;32m/opt/conda/lib/python3.9/site-packages/matplotlib/backends/backend_agg.py\u001b[0m in \u001b[0;36mprint_png\u001b[0;34m(self, filename_or_obj, metadata, pil_kwargs, *args)\u001b[0m\n\u001b[1;32m    507\u001b[0m         \"\"\"\n\u001b[1;32m    508\u001b[0m         \u001b[0mFigureCanvasAgg\u001b[0m\u001b[0;34m.\u001b[0m\u001b[0mdraw\u001b[0m\u001b[0;34m(\u001b[0m\u001b[0mself\u001b[0m\u001b[0;34m)\u001b[0m\u001b[0;34m\u001b[0m\u001b[0;34m\u001b[0m\u001b[0m\n\u001b[0;32m--> 509\u001b[0;31m         mpl.image.imsave(\n\u001b[0m\u001b[1;32m    510\u001b[0m             \u001b[0mfilename_or_obj\u001b[0m\u001b[0;34m,\u001b[0m \u001b[0mself\u001b[0m\u001b[0;34m.\u001b[0m\u001b[0mbuffer_rgba\u001b[0m\u001b[0;34m(\u001b[0m\u001b[0;34m)\u001b[0m\u001b[0;34m,\u001b[0m \u001b[0mformat\u001b[0m\u001b[0;34m=\u001b[0m\u001b[0;34m\"png\"\u001b[0m\u001b[0;34m,\u001b[0m \u001b[0morigin\u001b[0m\u001b[0;34m=\u001b[0m\u001b[0;34m\"upper\"\u001b[0m\u001b[0;34m,\u001b[0m\u001b[0;34m\u001b[0m\u001b[0;34m\u001b[0m\u001b[0m\n\u001b[1;32m    511\u001b[0m             dpi=self.figure.dpi, metadata=metadata, pil_kwargs=pil_kwargs)\n",
      "\u001b[0;32m/opt/conda/lib/python3.9/site-packages/matplotlib/image.py\u001b[0m in \u001b[0;36mimsave\u001b[0;34m(fname, arr, vmin, vmax, cmap, format, origin, dpi, metadata, pil_kwargs)\u001b[0m\n\u001b[1;32m   1614\u001b[0m         \u001b[0mpil_kwargs\u001b[0m\u001b[0;34m.\u001b[0m\u001b[0msetdefault\u001b[0m\u001b[0;34m(\u001b[0m\u001b[0;34m\"format\"\u001b[0m\u001b[0;34m,\u001b[0m \u001b[0mformat\u001b[0m\u001b[0;34m)\u001b[0m\u001b[0;34m\u001b[0m\u001b[0;34m\u001b[0m\u001b[0m\n\u001b[1;32m   1615\u001b[0m         \u001b[0mpil_kwargs\u001b[0m\u001b[0;34m.\u001b[0m\u001b[0msetdefault\u001b[0m\u001b[0;34m(\u001b[0m\u001b[0;34m\"dpi\"\u001b[0m\u001b[0;34m,\u001b[0m \u001b[0;34m(\u001b[0m\u001b[0mdpi\u001b[0m\u001b[0;34m,\u001b[0m \u001b[0mdpi\u001b[0m\u001b[0;34m)\u001b[0m\u001b[0;34m)\u001b[0m\u001b[0;34m\u001b[0m\u001b[0;34m\u001b[0m\u001b[0m\n\u001b[0;32m-> 1616\u001b[0;31m         \u001b[0mimage\u001b[0m\u001b[0;34m.\u001b[0m\u001b[0msave\u001b[0m\u001b[0;34m(\u001b[0m\u001b[0mfname\u001b[0m\u001b[0;34m,\u001b[0m \u001b[0;34m**\u001b[0m\u001b[0mpil_kwargs\u001b[0m\u001b[0;34m)\u001b[0m\u001b[0;34m\u001b[0m\u001b[0;34m\u001b[0m\u001b[0m\n\u001b[0m\u001b[1;32m   1617\u001b[0m \u001b[0;34m\u001b[0m\u001b[0m\n\u001b[1;32m   1618\u001b[0m \u001b[0;34m\u001b[0m\u001b[0m\n",
      "\u001b[0;32m/opt/conda/lib/python3.9/site-packages/PIL/Image.py\u001b[0m in \u001b[0;36msave\u001b[0;34m(self, fp, format, **params)\u001b[0m\n\u001b[1;32m   2230\u001b[0m                 \u001b[0mfp\u001b[0m \u001b[0;34m=\u001b[0m \u001b[0mbuiltins\u001b[0m\u001b[0;34m.\u001b[0m\u001b[0mopen\u001b[0m\u001b[0;34m(\u001b[0m\u001b[0mfilename\u001b[0m\u001b[0;34m,\u001b[0m \u001b[0;34m\"r+b\"\u001b[0m\u001b[0;34m)\u001b[0m\u001b[0;34m\u001b[0m\u001b[0;34m\u001b[0m\u001b[0m\n\u001b[1;32m   2231\u001b[0m             \u001b[0;32melse\u001b[0m\u001b[0;34m:\u001b[0m\u001b[0;34m\u001b[0m\u001b[0;34m\u001b[0m\u001b[0m\n\u001b[0;32m-> 2232\u001b[0;31m                 \u001b[0mfp\u001b[0m \u001b[0;34m=\u001b[0m \u001b[0mbuiltins\u001b[0m\u001b[0;34m.\u001b[0m\u001b[0mopen\u001b[0m\u001b[0;34m(\u001b[0m\u001b[0mfilename\u001b[0m\u001b[0;34m,\u001b[0m \u001b[0;34m\"w+b\"\u001b[0m\u001b[0;34m)\u001b[0m\u001b[0;34m\u001b[0m\u001b[0;34m\u001b[0m\u001b[0m\n\u001b[0m\u001b[1;32m   2233\u001b[0m \u001b[0;34m\u001b[0m\u001b[0m\n\u001b[1;32m   2234\u001b[0m         \u001b[0;32mtry\u001b[0m\u001b[0;34m:\u001b[0m\u001b[0;34m\u001b[0m\u001b[0;34m\u001b[0m\u001b[0m\n",
      "\u001b[0;31mFileNotFoundError\u001b[0m: [Errno 2] No such file or directory: 'random_folder/RANDOM_figure1fig.png'"
     ]
    }
   ],
   "source": [
    "fig1.savefig('figure1fig.png') # Save figure \"figure1fig.png\" in the current working directory \n",
    "                                  # (i.e. the directory where the Notebook lives in,\n",
    "                                        # which, in this case, is \"week3\")\n",
    "        \n",
    "# We use \"../\" to reference a directory one level up. \n",
    "fig1.savefig('../figure1fig.png') # Save figure in the parent directory, one level up.\n",
    "                                        # In this case, it is \"Parent\".\n",
    "\n",
    "# Now, create a subfolder named \"random_folder\" inside the \"week3\" directory.\n",
    "fig1.savefig('random_folder/RANDOM_figure1fig.png') # Save figure as \"RANDOM_figure1fig.png\"\n",
    "                                                        # inside \"random_folder\"\n",
    "\n",
    "# Now, if you have a Notebook inside \"random_folder\" and you were running it from within,\n",
    "    # you would use \"../../\" to refer to a directory/file that is two levels higher in the hierarchy.\n",
    "    \n",
    "# Finally, if you do not want to use relative paths (i.e. \"../\", etc), you could hard-code an absolute \n",
    "    # path as well. This takes a bit of work in JupyterLab. \n",
    "    # First, hover your mouse over the folder icon, as shown in the figure below. \n",
    "    # You will see the path to your Parent directory. In my case, it is \"/home/jovyan\"."
   ]
  },
  {
   "cell_type": "markdown",
   "metadata": {},
   "source": [
    "<img src=\"https://i.ibb.co/4mM10wQ/folder.png\" alt=\"folder\" border=\"0\">"
   ]
  },
  {
   "cell_type": "code",
   "execution_count": 53,
   "metadata": {},
   "outputs": [
    {
     "ename": "FileNotFoundError",
     "evalue": "[Errno 2] No such file or directory: '/home/jovyan/week2/imposter.png'",
     "output_type": "error",
     "traceback": [
      "\u001b[0;31m---------------------------------------------------------------------------\u001b[0m",
      "\u001b[0;31mFileNotFoundError\u001b[0m                         Traceback (most recent call last)",
      "\u001b[0;32m/tmp/ipykernel_71/4279407310.py\u001b[0m in \u001b[0;36m<module>\u001b[0;34m\u001b[0m\n\u001b[1;32m      2\u001b[0m \u001b[0;31m# \"Copy Path\" to get the folder's path. Then, combine the two paths and\u001b[0m\u001b[0;34m\u001b[0m\u001b[0;34m\u001b[0m\u001b[0m\n\u001b[1;32m      3\u001b[0m \u001b[0;31m# use it to save the figure as \"imposter.png\":\u001b[0m\u001b[0;34m\u001b[0m\u001b[0;34m\u001b[0m\u001b[0m\n\u001b[0;32m----> 4\u001b[0;31m \u001b[0mfig1\u001b[0m\u001b[0;34m.\u001b[0m\u001b[0msavefig\u001b[0m\u001b[0;34m(\u001b[0m\u001b[0;34m'/home/jovyan/week2/imposter.png'\u001b[0m\u001b[0;34m)\u001b[0m \u001b[0;31m# The leading \"/\" is important, as it refers to the 'root' directory!\u001b[0m\u001b[0;34m\u001b[0m\u001b[0;34m\u001b[0m\u001b[0m\n\u001b[0m\u001b[1;32m      5\u001b[0m \u001b[0;31m# The above is equivalent to using '../week2/imposter.png', when running from the \"week3\" directory.\u001b[0m\u001b[0;34m\u001b[0m\u001b[0;34m\u001b[0m\u001b[0m\n\u001b[1;32m      6\u001b[0m \u001b[0;34m\u001b[0m\u001b[0m\n",
      "\u001b[0;32m/opt/conda/lib/python3.9/site-packages/matplotlib/figure.py\u001b[0m in \u001b[0;36msavefig\u001b[0;34m(self, fname, transparent, **kwargs)\u001b[0m\n\u001b[1;32m   3013\u001b[0m                 \u001b[0mpatch\u001b[0m\u001b[0;34m.\u001b[0m\u001b[0mset_edgecolor\u001b[0m\u001b[0;34m(\u001b[0m\u001b[0;34m'none'\u001b[0m\u001b[0;34m)\u001b[0m\u001b[0;34m\u001b[0m\u001b[0;34m\u001b[0m\u001b[0m\n\u001b[1;32m   3014\u001b[0m \u001b[0;34m\u001b[0m\u001b[0m\n\u001b[0;32m-> 3015\u001b[0;31m         \u001b[0mself\u001b[0m\u001b[0;34m.\u001b[0m\u001b[0mcanvas\u001b[0m\u001b[0;34m.\u001b[0m\u001b[0mprint_figure\u001b[0m\u001b[0;34m(\u001b[0m\u001b[0mfname\u001b[0m\u001b[0;34m,\u001b[0m \u001b[0;34m**\u001b[0m\u001b[0mkwargs\u001b[0m\u001b[0;34m)\u001b[0m\u001b[0;34m\u001b[0m\u001b[0;34m\u001b[0m\u001b[0m\n\u001b[0m\u001b[1;32m   3016\u001b[0m \u001b[0;34m\u001b[0m\u001b[0m\n\u001b[1;32m   3017\u001b[0m         \u001b[0;32mif\u001b[0m \u001b[0mtransparent\u001b[0m\u001b[0;34m:\u001b[0m\u001b[0;34m\u001b[0m\u001b[0;34m\u001b[0m\u001b[0m\n",
      "\u001b[0;32m/opt/conda/lib/python3.9/site-packages/matplotlib/backend_bases.py\u001b[0m in \u001b[0;36mprint_figure\u001b[0;34m(self, filename, dpi, facecolor, edgecolor, orientation, format, bbox_inches, pad_inches, bbox_extra_artists, backend, **kwargs)\u001b[0m\n\u001b[1;32m   2253\u001b[0m                 \u001b[0;31m# force the figure dpi to 72), so we need to set it again here.\u001b[0m\u001b[0;34m\u001b[0m\u001b[0;34m\u001b[0m\u001b[0m\n\u001b[1;32m   2254\u001b[0m                 \u001b[0;32mwith\u001b[0m \u001b[0mcbook\u001b[0m\u001b[0;34m.\u001b[0m\u001b[0m_setattr_cm\u001b[0m\u001b[0;34m(\u001b[0m\u001b[0mself\u001b[0m\u001b[0;34m.\u001b[0m\u001b[0mfigure\u001b[0m\u001b[0;34m,\u001b[0m \u001b[0mdpi\u001b[0m\u001b[0;34m=\u001b[0m\u001b[0mdpi\u001b[0m\u001b[0;34m)\u001b[0m\u001b[0;34m:\u001b[0m\u001b[0;34m\u001b[0m\u001b[0;34m\u001b[0m\u001b[0m\n\u001b[0;32m-> 2255\u001b[0;31m                     result = print_method(\n\u001b[0m\u001b[1;32m   2256\u001b[0m                         \u001b[0mfilename\u001b[0m\u001b[0;34m,\u001b[0m\u001b[0;34m\u001b[0m\u001b[0;34m\u001b[0m\u001b[0m\n\u001b[1;32m   2257\u001b[0m                         \u001b[0mfacecolor\u001b[0m\u001b[0;34m=\u001b[0m\u001b[0mfacecolor\u001b[0m\u001b[0;34m,\u001b[0m\u001b[0;34m\u001b[0m\u001b[0;34m\u001b[0m\u001b[0m\n",
      "\u001b[0;32m/opt/conda/lib/python3.9/site-packages/matplotlib/backend_bases.py\u001b[0m in \u001b[0;36mwrapper\u001b[0;34m(*args, **kwargs)\u001b[0m\n\u001b[1;32m   1667\u001b[0m             \u001b[0mkwargs\u001b[0m\u001b[0;34m.\u001b[0m\u001b[0mpop\u001b[0m\u001b[0;34m(\u001b[0m\u001b[0marg\u001b[0m\u001b[0;34m)\u001b[0m\u001b[0;34m\u001b[0m\u001b[0;34m\u001b[0m\u001b[0m\n\u001b[1;32m   1668\u001b[0m \u001b[0;34m\u001b[0m\u001b[0m\n\u001b[0;32m-> 1669\u001b[0;31m         \u001b[0;32mreturn\u001b[0m \u001b[0mfunc\u001b[0m\u001b[0;34m(\u001b[0m\u001b[0;34m*\u001b[0m\u001b[0margs\u001b[0m\u001b[0;34m,\u001b[0m \u001b[0;34m**\u001b[0m\u001b[0mkwargs\u001b[0m\u001b[0;34m)\u001b[0m\u001b[0;34m\u001b[0m\u001b[0;34m\u001b[0m\u001b[0m\n\u001b[0m\u001b[1;32m   1670\u001b[0m \u001b[0;34m\u001b[0m\u001b[0m\n\u001b[1;32m   1671\u001b[0m     \u001b[0;32mreturn\u001b[0m \u001b[0mwrapper\u001b[0m\u001b[0;34m\u001b[0m\u001b[0;34m\u001b[0m\u001b[0m\n",
      "\u001b[0;32m/opt/conda/lib/python3.9/site-packages/matplotlib/backends/backend_agg.py\u001b[0m in \u001b[0;36mprint_png\u001b[0;34m(self, filename_or_obj, metadata, pil_kwargs, *args)\u001b[0m\n\u001b[1;32m    507\u001b[0m         \"\"\"\n\u001b[1;32m    508\u001b[0m         \u001b[0mFigureCanvasAgg\u001b[0m\u001b[0;34m.\u001b[0m\u001b[0mdraw\u001b[0m\u001b[0;34m(\u001b[0m\u001b[0mself\u001b[0m\u001b[0;34m)\u001b[0m\u001b[0;34m\u001b[0m\u001b[0;34m\u001b[0m\u001b[0m\n\u001b[0;32m--> 509\u001b[0;31m         mpl.image.imsave(\n\u001b[0m\u001b[1;32m    510\u001b[0m             \u001b[0mfilename_or_obj\u001b[0m\u001b[0;34m,\u001b[0m \u001b[0mself\u001b[0m\u001b[0;34m.\u001b[0m\u001b[0mbuffer_rgba\u001b[0m\u001b[0;34m(\u001b[0m\u001b[0;34m)\u001b[0m\u001b[0;34m,\u001b[0m \u001b[0mformat\u001b[0m\u001b[0;34m=\u001b[0m\u001b[0;34m\"png\"\u001b[0m\u001b[0;34m,\u001b[0m \u001b[0morigin\u001b[0m\u001b[0;34m=\u001b[0m\u001b[0;34m\"upper\"\u001b[0m\u001b[0;34m,\u001b[0m\u001b[0;34m\u001b[0m\u001b[0;34m\u001b[0m\u001b[0m\n\u001b[1;32m    511\u001b[0m             dpi=self.figure.dpi, metadata=metadata, pil_kwargs=pil_kwargs)\n",
      "\u001b[0;32m/opt/conda/lib/python3.9/site-packages/matplotlib/image.py\u001b[0m in \u001b[0;36mimsave\u001b[0;34m(fname, arr, vmin, vmax, cmap, format, origin, dpi, metadata, pil_kwargs)\u001b[0m\n\u001b[1;32m   1614\u001b[0m         \u001b[0mpil_kwargs\u001b[0m\u001b[0;34m.\u001b[0m\u001b[0msetdefault\u001b[0m\u001b[0;34m(\u001b[0m\u001b[0;34m\"format\"\u001b[0m\u001b[0;34m,\u001b[0m \u001b[0mformat\u001b[0m\u001b[0;34m)\u001b[0m\u001b[0;34m\u001b[0m\u001b[0;34m\u001b[0m\u001b[0m\n\u001b[1;32m   1615\u001b[0m         \u001b[0mpil_kwargs\u001b[0m\u001b[0;34m.\u001b[0m\u001b[0msetdefault\u001b[0m\u001b[0;34m(\u001b[0m\u001b[0;34m\"dpi\"\u001b[0m\u001b[0;34m,\u001b[0m \u001b[0;34m(\u001b[0m\u001b[0mdpi\u001b[0m\u001b[0;34m,\u001b[0m \u001b[0mdpi\u001b[0m\u001b[0;34m)\u001b[0m\u001b[0;34m)\u001b[0m\u001b[0;34m\u001b[0m\u001b[0;34m\u001b[0m\u001b[0m\n\u001b[0;32m-> 1616\u001b[0;31m         \u001b[0mimage\u001b[0m\u001b[0;34m.\u001b[0m\u001b[0msave\u001b[0m\u001b[0;34m(\u001b[0m\u001b[0mfname\u001b[0m\u001b[0;34m,\u001b[0m \u001b[0;34m**\u001b[0m\u001b[0mpil_kwargs\u001b[0m\u001b[0;34m)\u001b[0m\u001b[0;34m\u001b[0m\u001b[0;34m\u001b[0m\u001b[0m\n\u001b[0m\u001b[1;32m   1617\u001b[0m \u001b[0;34m\u001b[0m\u001b[0m\n\u001b[1;32m   1618\u001b[0m \u001b[0;34m\u001b[0m\u001b[0m\n",
      "\u001b[0;32m/opt/conda/lib/python3.9/site-packages/PIL/Image.py\u001b[0m in \u001b[0;36msave\u001b[0;34m(self, fp, format, **params)\u001b[0m\n\u001b[1;32m   2230\u001b[0m                 \u001b[0mfp\u001b[0m \u001b[0;34m=\u001b[0m \u001b[0mbuiltins\u001b[0m\u001b[0;34m.\u001b[0m\u001b[0mopen\u001b[0m\u001b[0;34m(\u001b[0m\u001b[0mfilename\u001b[0m\u001b[0;34m,\u001b[0m \u001b[0;34m\"r+b\"\u001b[0m\u001b[0;34m)\u001b[0m\u001b[0;34m\u001b[0m\u001b[0;34m\u001b[0m\u001b[0m\n\u001b[1;32m   2231\u001b[0m             \u001b[0;32melse\u001b[0m\u001b[0;34m:\u001b[0m\u001b[0;34m\u001b[0m\u001b[0;34m\u001b[0m\u001b[0m\n\u001b[0;32m-> 2232\u001b[0;31m                 \u001b[0mfp\u001b[0m \u001b[0;34m=\u001b[0m \u001b[0mbuiltins\u001b[0m\u001b[0;34m.\u001b[0m\u001b[0mopen\u001b[0m\u001b[0;34m(\u001b[0m\u001b[0mfilename\u001b[0m\u001b[0;34m,\u001b[0m \u001b[0;34m\"w+b\"\u001b[0m\u001b[0;34m)\u001b[0m\u001b[0;34m\u001b[0m\u001b[0;34m\u001b[0m\u001b[0m\n\u001b[0m\u001b[1;32m   2233\u001b[0m \u001b[0;34m\u001b[0m\u001b[0m\n\u001b[1;32m   2234\u001b[0m         \u001b[0;32mtry\u001b[0m\u001b[0;34m:\u001b[0m\u001b[0;34m\u001b[0m\u001b[0;34m\u001b[0m\u001b[0m\n",
      "\u001b[0;31mFileNotFoundError\u001b[0m: [Errno 2] No such file or directory: '/home/jovyan/week2/imposter.png'"
     ]
    }
   ],
   "source": [
    "    # Then, go to the Parent directory, and right-click (or control+click) a different folder (ex: \"week2\") and click\n",
    "    # \"Copy Path\" to get the folder's path. Then, combine the two paths and \n",
    "    # use it to save the figure as \"imposter.png\":\n",
    "fig1.savefig('/home/jovyan/week2/imposter.png') # The leading \"/\" is important, as it refers to the 'root' directory!\n",
    "    # The above is equivalent to using '../week2/imposter.png', when running from the \"week3\" directory.\n",
    "    \n",
    "# If someone has an easier way to do this on JupyterLab, please let us know!\n",
    "# On a local machine, this step would probably involve something like \"/Users/tharindu/Library/Figures/imposter.png\""
   ]
  },
  {
   "cell_type": "code",
   "execution_count": null,
   "metadata": {},
   "outputs": [],
   "source": []
  }
 ],
 "metadata": {
  "kernelspec": {
   "display_name": "Python 3 (ipykernel)",
   "language": "python",
   "name": "python3"
  },
  "language_info": {
   "codemirror_mode": {
    "name": "ipython",
    "version": 3
   },
   "file_extension": ".py",
   "mimetype": "text/x-python",
   "name": "python",
   "nbconvert_exporter": "python",
   "pygments_lexer": "ipython3",
   "version": "3.9.7"
  }
 },
 "nbformat": 4,
 "nbformat_minor": 4
}
